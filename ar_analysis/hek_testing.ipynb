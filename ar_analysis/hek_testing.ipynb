{
 "cells": [
  {
   "cell_type": "code",
   "execution_count": 1,
   "metadata": {},
   "outputs": [],
   "source": [
    "from sunpy.net import hek"
   ]
  },
  {
   "cell_type": "code",
   "execution_count": 2,
   "metadata": {},
   "outputs": [],
   "source": [
    "client = hek.HEKClient()"
   ]
  },
  {
   "cell_type": "code",
   "execution_count": 3,
   "metadata": {},
   "outputs": [],
   "source": [
    "tstart = '2011-02-13'\n",
    "tend = '2011-02-14'"
   ]
  },
  {
   "cell_type": "code",
   "execution_count": 14,
   "metadata": {},
   "outputs": [],
   "source": [
    "result = client.search(hek.attrs.Time(tstart, tend),\n",
    "                       hek.attrs.EventType('AR'),\n",
    "                       hek.attrs.FRM.Name == 'SPoCA',\n",
    "                       hek.attrs.OBS.Observatory == 'SDO')"
   ]
  },
  {
   "cell_type": "code",
   "execution_count": 15,
   "metadata": {},
   "outputs": [
    {
     "name": "stdout",
     "output_type": "stream",
     "text": [
      "SOL_standard : SOL2011-02-12T23:00:01L353C107\n",
      "absnetcurrenthelicity : None\n",
      "active : true\n",
      "ar_axislength : None\n",
      "ar_compactnesscls : \n",
      "ar_lengthunit : \n",
      "ar_mcintoshcls : \n",
      "ar_mtwilsoncls : \n",
      "ar_neutrallength : None\n",
      "ar_noaaclass : \n",
      "ar_noaanum : None\n",
      "ar_numspots : None\n",
      "ar_penumbracls : \n",
      "ar_pilcurvature : None\n",
      "ar_polarity : None\n",
      "ar_spotarearaw : None\n",
      "ar_spotarearawuncert : None\n",
      "ar_spotarearawunit : \n",
      "ar_spotarearepr : None\n",
      "ar_spotarearepruncert : None\n",
      "ar_spotareareprunit : \n",
      "ar_sumnegsignedflux : None\n",
      "ar_sumpossignedflux : None\n",
      "ar_zurichcls : \n",
      "area_atdiskcenter : 1405299970\n",
      "area_atdiskcenteruncert : 125975000\n",
      "area_raw : 761272000\n",
      "area_uncert : 70324496\n",
      "area_unit : km2\n",
      "bound_ccnsteps : 4\n",
      "bound_ccstartc1 : -801.9\n",
      "bound_ccstartc2 : -236.1\n",
      "bound_chaincode : POLYGON((-801.9 -236.1,-801.3 -235.5,-776.1 -205.5,-762.9 -268.5,-801.9 -236.1))\n",
      "boundbox_c1ll : -801.9\n",
      "boundbox_c1ur : -758.7\n",
      "boundbox_c2ll : -269.7\n",
      "boundbox_c2ur : -204.9\n",
      "chaincodetype : ordered list of points in HPC\n",
      "comment_count : 0\n",
      "concept : Active Region\n",
      "currentdensityunit : \n",
      "currenthelicityunit : \n",
      "currentunit : \n",
      "event_avg_rating : None\n",
      "event_c1error : 13.6463\n",
      "event_c2error : 4.55603\n",
      "event_clippedspatial : F\n",
      "event_clippedtemporal : \n",
      "event_coord1 : -779.719\n",
      "event_coord2 : -237.501\n",
      "event_coord3 : None\n",
      "event_coordsys : UTC-HPC-TOPO\n",
      "event_coordunit : arcsec,arcsec\n",
      "event_description : \n",
      "event_endtime : 2011-02-13T03:00:01\n",
      "event_expires : \n",
      "event_importance : None\n",
      "event_importance_num_ratings : \n",
      "event_mapurl : \n",
      "event_maskurl : \n",
      "event_npixels : 4130\n",
      "event_pixelunit : DN/s\n",
      "event_probability : None\n",
      "event_score : 0.0238084748773810771\n",
      "event_starttime : 2011-02-12T23:00:01\n",
      "event_testflag : false\n",
      "event_title : \n",
      "event_type : AR\n",
      "eventtype : 1\n",
      "frm_contact : veronique.delouille@sidc.be\n",
      "frm_daterun : 2012-01-07T10:44:18\n",
      "frm_humanflag : false\n",
      "frm_identifier : vdelouille\n",
      "frm_institute : ROB\n",
      "frm_name : SPoCA\n",
      "frm_paramset : image171 : calibrated image 171 A ; image195 : calibrated image 195/193 A; spocaPreprocessing=DivExpTime,ALC,DivMedian; spocaClassifierType=HPCM2; spocaNumberclasses=4; spocaChannels=[AIA_171,AIA_193]; spocaPrecision=0.00150000; spocaRadiusRatio=1.20; spocaBinsize=0.01,0.01; spocaSegmentationType=threshold; spocaVersion=2.00; intensitiesStatsPreprocessing=NAR,DivExpTime; intensitiesStatsRadiusRatio=0.95; trackingDeltat=14400; trackingOverlap=2; trackingNumberImages=5; spocaCenters=(0.8289,0.7367),(1.0048,0.9265),(1.6795,2.7295),(4.7372,7.9916)\n",
      "frm_specificid : SPoCA_v1.0_AR_0000001153\n",
      "frm_url : http://sdoatsidc.oma.be/web/sdoatsidc/SoftwareSPoCA\n",
      "frm_versionnumber : 1\n",
      "gradientunit : \n",
      "gs_galleryid : \n",
      "gs_imageurl : \n",
      "gs_movieurl : \n",
      "gs_thumburl : \n",
      "gwill : None\n",
      "gwillunit : \n",
      "hcr_checked : true\n",
      "hgc_bbox : POLYGON((-11.189976 -19.450297,-6.282752 -19.926547,-4.507355 -16.141995,-9.13119 -15.700031,-11.189976 -19.450297))\n",
      "hgc_boundcc : POLYGON((-10.042544 -17.505197,-9.953674 -17.477393,-6.322542 -16.007752,-6.695847 -19.813667,-10.042544 -17.505197))\n",
      "hgc_coord : POINT(-7.576601 -17.831096)\n",
      "hgc_x : -7.576601\n",
      "hgc_y : -17.831096\n",
      "hgs_bbox : POLYGON((-60.859407 -19.450297,-55.952183 -19.926547,-54.176786 -16.141995,-58.800621 -15.700031,-60.859407 -19.450297))\n",
      "hgs_boundcc : POLYGON((-59.711975 -17.505197,-59.623105 -17.477393,-55.991973 -16.007752,-56.365278 -19.813667,-59.711975 -17.505197))\n",
      "hgs_coord : POINT(-57.246032 -17.831096)\n",
      "hgs_x : -57.246032\n",
      "hgs_y : -17.831096\n",
      "highsheararea : None\n",
      "highshearareapercent : None\n",
      "highshearareaunit : \n",
      "hpc_bbox : POLYGON((-801.9 -269.7,-758.7 -269.7,-758.7 -204.9,-801.9 -204.9,-801.9 -269.7))\n",
      "hpc_boundcc : POLYGON((-801.9 -236.1,-801.3 -235.5,-776.1 -205.5,-762.9 -268.5,-801.9 -236.1))\n",
      "hpc_coord : POINT(-779.719 -237.501)\n",
      "hpc_geom : 0103000000010000000500000033333333330F89C03333333333836DC066666666660A89C00000000000706DC0CDCCCCCCCC4088C00000000000B069C03333333333D787C00000000000C870C033333333330F89C03333333333836DC0\n",
      "hpc_radius : 815.087997680005174\n",
      "hpc_x : -779.719\n",
      "hpc_y : -237.501\n",
      "hrc_a : 106.940641124357\n",
      "hrc_bbox : POLYGON((0.870946 108.589142,0.828916 109.569103,0.809018 105.113165,0.85203 104.333423,0.870946 108.589142))\n",
      "hrc_boundcc : POLYGON((0.860545 106.405786,0.859778 106.377926,0.826482 104.830741,0.83258 109.389342,0.860545 106.405786))\n",
      "hrc_coord : POINT(0.839084108225352 106.940641124357)\n",
      "hrc_r : 0.839084108225352\n",
      "intenskurt : 1.35473\n",
      "intensmax : 1682.84\n",
      "intensmean : 648.447\n",
      "intensmedian : 622.942\n",
      "intensmin : 283.973\n",
      "intensskew : 0.868023\n",
      "intenstotal : 2678090.0\n",
      "intensunit : DN/s\n",
      "intensvar : 39866.8\n",
      "kb_archivdate : 2012-01-12T02:08:55\n",
      "kb_archivid : ivo://helio-informatics.org/AR_SPoCA_20120107_104418_20110213T030001_2\n",
      "kb_archivist : rtimmons\n",
      "log_r_value : None\n",
      "magfluxunit : \n",
      "maxmagfieldstrength : None\n",
      "maxmagfieldstrengthunit : \n",
      "meancurrenthelicity : None\n",
      "meanenergydensityunit : \n",
      "meangradienthorz : None\n",
      "meangradienttotal : None\n",
      "meangradientvert : None\n",
      "meaninclinationgamma : None\n",
      "meanphotoenergydensity : None\n",
      "meanshearangle : None\n",
      "meantwistalpha : None\n",
      "meanvertcurrentdensity : None\n",
      "noposition : false\n",
      "obs_channelid : AIA 171, AIA 193\n",
      "obs_dataprepurl : \n",
      "obs_firstprocessingdate : \n",
      "obs_includesnrt : F\n",
      "obs_instrument : AIA\n",
      "obs_lastprocessingdate : 2011-02-18T02:00:16\n",
      "obs_levelnum : 1.5\n",
      "obs_meanwavel : 1.71e-06\n",
      "obs_observatory : SDO\n",
      "obs_title : \n",
      "obs_wavelunit : cm\n",
      "rasterscan : \n",
      "rasterscantype : \n",
      "refs : [{'ref_name': 'FRM_URL', 'ref_type': 'unknown', 'ref_url': 'http://sdoatsidc.oma.be/web/sdoatsidc/SoftwareSPoCA'}\n",
      " {'ref_name': 'OBS_DATAPREPURL', 'ref_type': 'unknown', 'ref_url': 'http://sdoatsidc.oma.be/web/sdoatsidc/SoftwareSPoCA'}]\n",
      "refs_orig : \n",
      "revision : 1\n",
      "savncpp : None\n",
      "search_channelid : 171,193\n",
      "search_frm_name : SPoCA\n",
      "search_instrument : AIA\n",
      "search_observatory : SDO\n",
      "sharp_noaa_ars : \n",
      "sum_overlap_scores : 0\n",
      "totalenergydensityunit : \n",
      "totalphotoenergy : None\n",
      "totalphotoenergydensity : None\n",
      "totalphotoenergyunit : \n",
      "twistunit : \n",
      "unsignedcurrenthelicity : None\n",
      "unsignedflux : None\n",
      "unsignedvertcurrent : None\n"
     ]
    }
   ],
   "source": [
    "for key in result[0].colnames:\n",
    "    print(key, ':', result[0][key])"
   ]
  },
  {
   "cell_type": "code",
   "execution_count": 17,
   "metadata": {},
   "outputs": [],
   "source": [
    "result = client.search(hek.attrs.Time(tstart, tend),\n",
    "                       hek.attrs.EventType('AR'))"
   ]
  },
  {
   "cell_type": "raw",
   "metadata": {},
   "source": []
  },
  {
   "cell_type": "code",
   "execution_count": 21,
   "metadata": {},
   "outputs": [
    {
     "name": "stdout",
     "output_type": "stream",
     "text": [
      "SOL_standard : SOL2011-02-10T00:00:04L079C109\n",
      "absnetcurrenthelicity : None\n",
      "active : true\n",
      "ar_axislength : None\n",
      "ar_compactnesscls : \n",
      "ar_lengthunit : \n",
      "ar_mcintoshcls : \n",
      "ar_mtwilsoncls : \n",
      "ar_neutrallength : None\n",
      "ar_noaaclass : \n",
      "ar_noaanum : None\n",
      "ar_numspots : None\n",
      "ar_penumbracls : \n",
      "ar_pilcurvature : None\n",
      "ar_polarity : None\n",
      "ar_spotarearaw : None\n",
      "ar_spotarearawuncert : None\n",
      "ar_spotarearawunit : \n",
      "ar_spotarearepr : None\n",
      "ar_spotarearepruncert : None\n",
      "ar_spotareareprunit : \n",
      "ar_sumnegsignedflux : None\n",
      "ar_sumpossignedflux : None\n",
      "ar_zurichcls : \n",
      "area_atdiskcenter : None\n",
      "area_atdiskcenteruncert : None\n",
      "area_raw : None\n",
      "area_uncert : None\n",
      "area_unit : \n",
      "bound_ccnsteps : None\n",
      "bound_ccstartc1 : None\n",
      "bound_ccstartc2 : None\n",
      "bound_chaincode : \n",
      "boundbox_c1ll : -745.0\n",
      "boundbox_c1ur : 467.0\n",
      "boundbox_c2ll : -383.0\n",
      "boundbox_c2ur : -52.0\n",
      "chaincodetype : \n",
      "comment_count : 0\n",
      "concept : Active Region\n",
      "currentdensityunit : \n",
      "currenthelicityunit : \n",
      "currentunit : \n",
      "event_avg_rating : 0.8\n",
      "event_c1error : 606.2\n",
      "event_c2error : 165.65\n",
      "event_clippedspatial : \n",
      "event_clippedtemporal : \n",
      "event_coord1 : -139.0\n",
      "event_coord2 : -217.0\n",
      "event_coord3 : None\n",
      "event_coordsys : UTC-HPC-TOPO\n",
      "event_coordunit : arcsec\n",
      "event_description : Active region emergence from start to past X2.2 flare (4.25d interval).\n",
      "event_endtime : 2011-02-15T06:00:04\n",
      "event_expires : \n",
      "event_importance : 0.8\n",
      "event_importance_num_ratings : 1\n",
      "event_mapurl : \n",
      "event_maskurl : \n",
      "event_npixels : None\n",
      "event_pixelunit : \n",
      "event_probability : None\n",
      "event_score : \n",
      "event_starttime : 2011-02-10T00:00:04\n",
      "event_testflag : false\n",
      "event_title : AR emergence\n",
      "event_type : AR\n",
      "eventtype : 1\n",
      "frm_contact : Scott Green\n",
      "frm_daterun : 2011-03-30T22:12:53\n",
      "frm_humanflag : true\n",
      "frm_identifier : Annotator-build_20110328-avc\n",
      "frm_institute : LMSAL\n",
      "frm_name : schryver\n",
      "frm_paramset : n/a\n",
      "frm_specificid : \n",
      "frm_url : n/a\n",
      "frm_versionnumber : None\n",
      "gradientunit : \n",
      "gs_galleryid : pod_schrijver_karel_2011-03-30T22:12:56.516\n",
      "gs_imageurl : http://www.lmsal.com/hek/gallery/podimages/2011/03/30/pod_schrijver_karel_2011-03-30T22%3A12%3A56.516/panorama_schryver_AIA-211_AIA-193_AIA-171_HMI-6173_20110213T183004_at_20110330T215402.jpg\n",
      "gs_movieurl : http://sdowww.lmsal.com/sdomedia/h264/2011/02/10/AVC_KarelSchrijver_20110210T000004-20110215T060004_SDO_211-193-171-6173_900.0_20110330_221253.mov\n",
      "gs_thumburl : http://www.lmsal.com/hek/gallery/podimages/2011/03/30/pod_schrijver_karel_2011-03-30T22%3A12%3A56.516/thumb/panorama_schryver_AIA-211_AIA-193_AIA-171_HMI-6173_20110213T183004_at_20110330T215402.jpg\n",
      "gwill : None\n",
      "gwillunit : \n",
      "hcr_checked : true\n",
      "hgc_bbox : POLYGON((29.777611 -26.674752,121.689679 -28.674209,117.583407 -8.809635,38.232508 -7.266674,29.777611 -26.674752))\n",
      "hgc_boundcc : \n",
      "hgc_coord : POINT(79.9442043 -19.334847)\n",
      "hgc_x : 79.9442043\n",
      "hgc_y : -19.334847\n",
      "hgs_bbox : POLYGON((-58.844268 -26.674752,33.0678 -28.674209,28.961528 -8.809635,-50.389371 -7.266674,-58.844268 -26.674752))\n",
      "hgs_boundcc : \n",
      "hgs_coord : POINT(-8.6776747 -19.334847)\n",
      "hgs_x : -8.6776747\n",
      "hgs_y : -19.334847\n",
      "highsheararea : None\n",
      "highshearareapercent : None\n",
      "highshearareaunit : \n",
      "hpc_bbox : POLYGON((-745 -383,467 -383,467 -52,-745 -52,-745 -383))\n",
      "hpc_boundcc : \n",
      "hpc_coord : POINT(-139 -217)\n",
      "hpc_geom : 0103000000010000000500000000000000004887C00000000000F077C00000000000307D400000000000F077C00000000000307D400000000000004AC000000000004887C00000000000004AC000000000004887C00000000000F077C0\n",
      "hpc_radius : 257.701377567136831\n",
      "hpc_x : -139.0\n",
      "hpc_y : -217.0\n",
      "hrc_a : 147.358285059318\n",
      "hrc_bbox : POLYGON((0.861894 117.207422,0.621424 230.643846,0.483466 263.646343,0.768396 93.992693,0.861894 117.207422))\n",
      "hrc_boundcc : \n",
      "hrc_coord : POINT(0.265149212119179 147.358285059318)\n",
      "hrc_r : 0.265149212119179\n",
      "intenskurt : None\n",
      "intensmax : None\n",
      "intensmean : None\n",
      "intensmedian : None\n",
      "intensmin : None\n",
      "intensskew : None\n",
      "intenstotal : None\n",
      "intensunit : \n",
      "intensvar : None\n",
      "kb_archivdate : 2011-03-30T22:12:59\n",
      "kb_archivid : ivo://helio-informatics.org/AR193_KarelSchrijver_20110330_221253\n",
      "kb_archivist : schrijver_karel\n",
      "log_r_value : None\n",
      "magfluxunit : \n",
      "maxmagfieldstrength : None\n",
      "maxmagfieldstrengthunit : \n",
      "meancurrenthelicity : None\n",
      "meanenergydensityunit : \n",
      "meangradienthorz : None\n",
      "meangradienttotal : None\n",
      "meangradientvert : None\n",
      "meaninclinationgamma : None\n",
      "meanphotoenergydensity : None\n",
      "meanshearangle : None\n",
      "meantwistalpha : None\n",
      "meanvertcurrentdensity : None\n",
      "noposition : false\n",
      "obs_channelid : 193\n",
      "obs_dataprepurl : \n",
      "obs_firstprocessingdate : \n",
      "obs_includesnrt : \n",
      "obs_instrument : AIA\n",
      "obs_lastprocessingdate : \n",
      "obs_levelnum : None\n",
      "obs_meanwavel : 1.93e-06\n",
      "obs_observatory : SDO\n",
      "obs_title : \n",
      "obs_wavelunit : cm\n",
      "rasterscan : \n",
      "rasterscantype : \n",
      "refs : [{'ref_name': 'AR:  HER Entry', 'ref_type': 'ivorn', 'ref_url': 'ivo://helio-informatics.org/AR211_KarelSchrijver_20110330_221253'}, {'ref_name': 'EF:  HER Entry', 'ref_type': 'ivorn', 'ref_url': 'ivo://helio-informatics.org/EF211_KarelSchrijver_20110330_221253'}, {'ref_name': 'EF:  HER Entry', 'ref_type': 'ivorn', 'ref_url': 'ivo://helio-informatics.org/EF193_KarelSchrijver_20110330_221253'}, {'ref_name': 'AR:  HER Entry', 'ref_type': 'ivorn', 'ref_url': 'ivo://helio-informatics.org/AR171_KarelSchrijver_20110330_221253'}, {'ref_name': 'EF:  HER Entry', 'ref_type': 'ivorn', 'ref_url': 'ivo://helio-informatics.org/EF171_KarelSchrijver_20110330_221253'}, {'ref_name': 'AR:  HER Entry', 'ref_type': 'ivorn', 'ref_url': 'ivo://helio-informatics.org/AR6173_KarelSchrijver_20110330_221253'}, {'ref_name': 'EF:  HER Entry', 'ref_type': 'ivorn', 'ref_url': 'ivo://helio-informatics.org/EF6173_KarelSchrijver_20110330_221253'}, {'ref_name': 'Movie', 'ref_type': 'movie', 'ref_url': 'http://sdowww.lmsal.com/sdomedia/h264/2011/02/10/AVC_KarelSchrijver_20110210T000004-20110215T060004_SDO_211-193-171-6173_900.0_20110330_221253.mov'}, {'ref_name': 'Event_MapURL', 'ref_type': 'unknown', 'ref_url': ''}, {'ref_name': 'FRM_URL', 'ref_type': 'unknown', 'ref_url': 'n/a'}]\n",
      "refs_orig : \n",
      "revision : 1\n",
      "savncpp : None\n",
      "search_channelid : 193\n",
      "search_frm_name : Human Annotation\n",
      "search_instrument : AIA\n",
      "search_observatory : SDO\n",
      "sharp_noaa_ars : \n",
      "sum_overlap_scores : 1.50162271692667648\n",
      "totalenergydensityunit : \n",
      "totalphotoenergy : None\n",
      "totalphotoenergydensity : None\n",
      "totalphotoenergyunit : \n",
      "twistunit : \n",
      "unsignedcurrenthelicity : None\n",
      "unsignedflux : None\n",
      "unsignedvertcurrent : None\n"
     ]
    }
   ],
   "source": [
    "for key in result[0].colnames:\n",
    "    print(key, ':', result[0][key])"
   ]
  },
  {
   "cell_type": "code",
   "execution_count": 27,
   "metadata": {},
   "outputs": [
    {
     "data": {
      "text/plain": [
       "{'HMI SHARP', 'NOAA SWPC Observer', 'SPoCA', 'schryver'}"
      ]
     },
     "execution_count": 27,
     "metadata": {},
     "output_type": "execute_result"
    }
   ],
   "source": [
    "set(list(result['frm_name']))"
   ]
  },
  {
   "cell_type": "markdown",
   "metadata": {},
   "source": [
    "# NOAA SWPC Observer"
   ]
  },
  {
   "cell_type": "code",
   "execution_count": 134,
   "metadata": {},
   "outputs": [],
   "source": [
    "tstart = '2015-10-21 00:00'\n",
    "tend = '2015-10-21 00:00'"
   ]
  },
  {
   "cell_type": "code",
   "execution_count": 135,
   "metadata": {},
   "outputs": [],
   "source": [
    "result = client.search(hek.attrs.Time(tstart, tend),\n",
    "                       hek.attrs.EventType('AR'),\n",
    "                       hek.attrs.FRM.Name == 'NOAA SWPC Observer')"
   ]
  },
  {
   "cell_type": "code",
   "execution_count": 136,
   "metadata": {},
   "outputs": [
    {
     "data": {
      "text/plain": [
       "(<HEKColumn name='ar_noaanum' dtype='int64' length=4>\n",
       " 12436\n",
       " 12437\n",
       " 12434\n",
       " 12435,\n",
       " <HEKColumn name='event_starttime' dtype='str19' length=4>\n",
       " 2015-10-21T00:00:00\n",
       " 2015-10-21T00:00:00\n",
       " 2015-10-21T00:00:00\n",
       " 2015-10-21T00:00:00)"
      ]
     },
     "execution_count": 136,
     "metadata": {},
     "output_type": "execute_result"
    }
   ],
   "source": [
    "result['ar_noaanum'], result['event_starttime']"
   ]
  },
  {
   "cell_type": "code",
   "execution_count": 137,
   "metadata": {},
   "outputs": [
    {
     "name": "stdout",
     "output_type": "stream",
     "text": [
      "12436   2015-10-21T00:00:00   2015-10-21T23:59:59\n",
      "12437   2015-10-21T00:00:00   2015-10-21T23:59:59\n",
      "12434   2015-10-21T00:00:00   2015-10-21T23:59:59\n",
      "12435   2015-10-21T00:00:00   2015-10-21T23:59:59\n"
     ]
    }
   ],
   "source": [
    "for r in result:\n",
    "    print(r['ar_noaanum'], ' ', r['event_starttime'], ' ', r['event_endtime'])"
   ]
  },
  {
   "cell_type": "code",
   "execution_count": 138,
   "metadata": {},
   "outputs": [
    {
     "name": "stdout",
     "output_type": "stream",
     "text": [
      "SOL_standard : SOL2015-10-21T00:00:00L126C105\n",
      "active : true\n",
      "ar_compactnesscls : \n",
      "ar_lengthunit : \n",
      "ar_mcintoshcls : HSX\n",
      "ar_mtwilsoncls : ALPHAGAMMA-DELTA\n",
      "ar_noaaclass : \n",
      "ar_noaanum : 12435\n",
      "ar_numspots : 1\n",
      "ar_penumbracls : \n",
      "ar_spotarearawunit : \n",
      "ar_spotareareprunit : \n",
      "ar_zurichcls : \n",
      "area_atdiskcenter : 60873508\n",
      "area_unit : km2\n",
      "bound_chaincode : \n",
      "boundbox_c1ll : -17.5\n",
      "boundbox_c1ur : -16.5\n",
      "boundbox_c2ll : -15.20626449584961\n",
      "boundbox_c2ur : -14.79373550415039\n",
      "chaincodetype : \n",
      "comment_count : 0\n",
      "concept : Active Region\n",
      "currentdensityunit : \n",
      "currenthelicityunit : \n",
      "currentunit : \n",
      "event_c1error : 0.5\n",
      "event_c2error : 0.20626500248908997\n",
      "event_clippedspatial : \n",
      "event_clippedtemporal : \n",
      "event_coord1 : -17\n",
      "event_coord2 : -15\n",
      "event_coordsys : UTC-HGS-TOPO\n",
      "event_coordunit : deg deg\n",
      "event_description : Note: Latitudinal extent not provided by SWPC and is calculated assuming area=lat_ext*long_ext.\n",
      "event_endtime : 2015-10-21T23:59:59\n",
      "event_expires : \n",
      "event_importance_num_ratings : \n",
      "event_mapurl : \n",
      "event_maskurl : \n",
      "event_pixelunit : \n",
      "event_probability : 1\n",
      "event_score : 0.00727272723623376919\n",
      "event_starttime : 2015-10-21T00:00:00\n",
      "event_testflag : false\n",
      "event_title : \n",
      "event_type : AR\n",
      "eventtype : 1\n",
      "frm_contact : http://www.swpc.noaa.gov/\n",
      "frm_daterun : 2015-10-21T02:35:35\n",
      "frm_humanflag : true\n",
      "frm_identifier : NOAA SWPC\n",
      "frm_institute : NOAA Space Weather Prediction Center\n",
      "frm_name : NOAA SWPC Observer\n",
      "frm_paramset : N/A\n",
      "frm_specificid : \n",
      "frm_url : N/A\n",
      "gradientunit : \n",
      "gs_galleryid : \n",
      "gs_imageurl : \n",
      "gs_movieurl : \n",
      "gs_thumburl : \n",
      "gwillunit : \n",
      "hcr_checked : true\n",
      "hgc_bbox : POLYGON((125.79325 -15.206264,126.79325 -15.206264,126.79325 -14.793736,125.79325 -14.793736,125.79325 -15.206264))\n",
      "hgc_boundcc : \n",
      "hgc_coord : POINT(126.29325 -15)\n",
      "hgc_x : 126.29325\n",
      "hgc_y : -15\n",
      "hgs_bbox : POLYGON((-17.5 -15.206264,-16.5 -15.206264,-16.5 -14.793736,-17.5 -14.793736,-17.5 -15.206264))\n",
      "hgs_boundcc : \n",
      "hgs_coord : POINT(-17 -15)\n",
      "hgs_x : -17\n",
      "hgs_y : -15\n",
      "highshearareaunit : \n",
      "hpc_bbox : POLYGON((-280.6518 -336.9432,-265.0806 -337.4022,-265.5954 -330.8736,-281.1972 -330.4134,-280.6518 -336.9432))\n",
      "hpc_boundcc : \n",
      "hpc_coord : POINT(-273.1434 -333.9138)\n",
      "hpc_geom : 010300000001000000050000008638D6C56D8A71C06519E258170F75C0ECC039234A9170C0386744696F1675C09D8026C2869970C0925CFE43FAAD74C057EC2FBB279371C0AA8251499DA674C08638D6C56D8A71C06519E258170F75C0\n",
      "hpc_radius : 431.399748254446649\n",
      "hpc_x : -273.1434\n",
      "hpc_y : -333.9138\n",
      "hrc_a : 140.716637313087\n",
      "hrc_bbox : POLYGON((0.455298 140.207899,0.445499 141.844992,0.440523 141.245655,0.450476 139.600668,0.455298 140.207899))\n",
      "hrc_boundcc : \n",
      "hrc_coord : POINT(0.447909127776045 140.716637313087)\n",
      "hrc_r : 0.447909127776045\n",
      "intensunit : \n",
      "kb_archivdate : 2015-10-21T02:35:36\n",
      "kb_archivid : ivo://helio-informatics.org/AR_NOAASWPCObserver_20151021_023535_NOAA12435_20151021\n",
      "kb_archivist : cheung_mark\n",
      "magfluxunit : \n",
      "maxmagfieldstrengthunit : \n",
      "meanenergydensityunit : \n",
      "noposition : false\n",
      "obs_channelid : visible\n",
      "obs_dataprepurl : \n",
      "obs_firstprocessingdate : \n",
      "obs_includesnrt : \n",
      "obs_instrument : various\n",
      "obs_lastprocessingdate : \n",
      "obs_meanwavel : 5e-05\n",
      "obs_observatory : various\n",
      "obs_title : \n",
      "obs_wavelunit : cm\n",
      "rasterscan : \n",
      "rasterscantype : \n",
      "refs : [{'ref_name': 'FRM_URL', 'ref_type': 'unknown', 'ref_url': 'N/A'}\n",
      " {'ref_name': 'NASA Solar Monitor', 'ref_type': 'html', 'ref_url': 'http://www.solarmonitor.org/region.php?date=20151021%26region=12435'}]\n",
      "refs_orig : \n",
      "revision : 1\n",
      "search_channelid : visible\n",
      "search_frm_name : SWPC\n",
      "search_instrument : nil\n",
      "search_observatory : nil\n",
      "sharp_noaa_ars : \n",
      "sum_overlap_scores : 0\n",
      "totalenergydensityunit : \n",
      "totalphotoenergyunit : \n",
      "twistunit : \n"
     ]
    }
   ],
   "source": [
    "for k in r.colnames:\n",
    "    if (r[k] is not None):\n",
    "\n",
    "        print(k, ':', r[k])"
   ]
  },
  {
   "cell_type": "code",
   "execution_count": 139,
   "metadata": {},
   "outputs": [
    {
     "name": "stdout",
     "output_type": "stream",
     "text": [
      "SOL_standard : SOL2015-10-21T00:00:00L126C105\n",
      "absnetcurrenthelicity : None\n",
      "active : true\n",
      "ar_axislength : None\n",
      "ar_compactnesscls : \n",
      "ar_lengthunit : \n",
      "ar_mcintoshcls : HSX\n",
      "ar_mtwilsoncls : ALPHAGAMMA-DELTA\n",
      "ar_neutrallength : None\n",
      "ar_noaaclass : \n",
      "ar_noaanum : 12435\n",
      "ar_numspots : 1\n",
      "ar_penumbracls : \n",
      "ar_pilcurvature : None\n",
      "ar_polarity : None\n",
      "ar_spotarearaw : None\n",
      "ar_spotarearawuncert : None\n",
      "ar_spotarearawunit : \n",
      "ar_spotarearepr : None\n",
      "ar_spotarearepruncert : None\n",
      "ar_spotareareprunit : \n",
      "ar_sumnegsignedflux : None\n",
      "ar_sumpossignedflux : None\n",
      "ar_zurichcls : \n",
      "area_atdiskcenter : 60873508\n",
      "area_atdiskcenteruncert : None\n",
      "area_raw : None\n",
      "area_uncert : None\n",
      "area_unit : km2\n",
      "bound_ccnsteps : None\n",
      "bound_ccstartc1 : None\n",
      "bound_ccstartc2 : None\n",
      "bound_chaincode : \n",
      "boundbox_c1ll : -17.5\n",
      "boundbox_c1ur : -16.5\n",
      "boundbox_c2ll : -15.20626449584961\n",
      "boundbox_c2ur : -14.79373550415039\n",
      "chaincodetype : \n",
      "comment_count : 0\n",
      "concept : Active Region\n",
      "currentdensityunit : \n",
      "currenthelicityunit : \n",
      "currentunit : \n",
      "event_avg_rating : None\n",
      "event_c1error : 0.5\n",
      "event_c2error : 0.20626500248908997\n",
      "event_clippedspatial : \n",
      "event_clippedtemporal : \n",
      "event_coord1 : -17\n",
      "event_coord2 : -15\n",
      "event_coord3 : None\n",
      "event_coordsys : UTC-HGS-TOPO\n",
      "event_coordunit : deg deg\n",
      "event_description : Note: Latitudinal extent not provided by SWPC and is calculated assuming area=lat_ext*long_ext.\n",
      "event_endtime : 2015-10-21T23:59:59\n",
      "event_expires : \n",
      "event_importance : None\n",
      "event_importance_num_ratings : \n",
      "event_mapurl : \n",
      "event_maskurl : \n",
      "event_npixels : None\n",
      "event_pixelunit : \n",
      "event_probability : 1\n",
      "event_score : 0.00727272723623376919\n",
      "event_starttime : 2015-10-21T00:00:00\n",
      "event_testflag : false\n",
      "event_title : \n",
      "event_type : AR\n",
      "eventtype : 1\n",
      "frm_contact : http://www.swpc.noaa.gov/\n",
      "frm_daterun : 2015-10-21T02:35:35\n",
      "frm_humanflag : true\n",
      "frm_identifier : NOAA SWPC\n",
      "frm_institute : NOAA Space Weather Prediction Center\n",
      "frm_name : NOAA SWPC Observer\n",
      "frm_paramset : N/A\n",
      "frm_specificid : \n",
      "frm_url : N/A\n",
      "frm_versionnumber : None\n",
      "gradientunit : \n",
      "gs_galleryid : \n",
      "gs_imageurl : \n",
      "gs_movieurl : \n",
      "gs_thumburl : \n",
      "gwill : None\n",
      "gwillunit : \n",
      "hcr_checked : true\n",
      "hgc_bbox : POLYGON((125.79325 -15.206264,126.79325 -15.206264,126.79325 -14.793736,125.79325 -14.793736,125.79325 -15.206264))\n",
      "hgc_boundcc : \n",
      "hgc_coord : POINT(126.29325 -15)\n",
      "hgc_x : 126.29325\n",
      "hgc_y : -15\n",
      "hgs_bbox : POLYGON((-17.5 -15.206264,-16.5 -15.206264,-16.5 -14.793736,-17.5 -14.793736,-17.5 -15.206264))\n",
      "hgs_boundcc : \n",
      "hgs_coord : POINT(-17 -15)\n",
      "hgs_x : -17\n",
      "hgs_y : -15\n",
      "highsheararea : None\n",
      "highshearareapercent : None\n",
      "highshearareaunit : \n",
      "hpc_bbox : POLYGON((-280.6518 -336.9432,-265.0806 -337.4022,-265.5954 -330.8736,-281.1972 -330.4134,-280.6518 -336.9432))\n",
      "hpc_boundcc : \n",
      "hpc_coord : POINT(-273.1434 -333.9138)\n",
      "hpc_geom : 010300000001000000050000008638D6C56D8A71C06519E258170F75C0ECC039234A9170C0386744696F1675C09D8026C2869970C0925CFE43FAAD74C057EC2FBB279371C0AA8251499DA674C08638D6C56D8A71C06519E258170F75C0\n",
      "hpc_radius : 431.399748254446649\n",
      "hpc_x : -273.1434\n",
      "hpc_y : -333.9138\n",
      "hrc_a : 140.716637313087\n",
      "hrc_bbox : POLYGON((0.455298 140.207899,0.445499 141.844992,0.440523 141.245655,0.450476 139.600668,0.455298 140.207899))\n",
      "hrc_boundcc : \n",
      "hrc_coord : POINT(0.447909127776045 140.716637313087)\n",
      "hrc_r : 0.447909127776045\n",
      "intenskurt : None\n",
      "intensmax : None\n",
      "intensmean : None\n",
      "intensmedian : None\n",
      "intensmin : None\n",
      "intensskew : None\n",
      "intenstotal : None\n",
      "intensunit : \n",
      "intensvar : None\n",
      "kb_archivdate : 2015-10-21T02:35:36\n",
      "kb_archivid : ivo://helio-informatics.org/AR_NOAASWPCObserver_20151021_023535_NOAA12435_20151021\n",
      "kb_archivist : cheung_mark\n",
      "log_r_value : None\n",
      "magfluxunit : \n",
      "maxmagfieldstrength : None\n",
      "maxmagfieldstrengthunit : \n",
      "meancurrenthelicity : None\n",
      "meanenergydensityunit : \n",
      "meangradienthorz : None\n",
      "meangradienttotal : None\n",
      "meangradientvert : None\n",
      "meaninclinationgamma : None\n",
      "meanphotoenergydensity : None\n",
      "meanshearangle : None\n",
      "meantwistalpha : None\n",
      "meanvertcurrentdensity : None\n",
      "noposition : false\n",
      "obs_channelid : visible\n",
      "obs_dataprepurl : \n",
      "obs_firstprocessingdate : \n",
      "obs_includesnrt : \n",
      "obs_instrument : various\n",
      "obs_lastprocessingdate : \n",
      "obs_levelnum : None\n",
      "obs_meanwavel : 5e-05\n",
      "obs_observatory : various\n",
      "obs_title : \n",
      "obs_wavelunit : cm\n",
      "rasterscan : \n",
      "rasterscantype : \n",
      "refs : [{'ref_name': 'FRM_URL', 'ref_type': 'unknown', 'ref_url': 'N/A'}\n",
      " {'ref_name': 'NASA Solar Monitor', 'ref_type': 'html', 'ref_url': 'http://www.solarmonitor.org/region.php?date=20151021%26region=12435'}]\n",
      "refs_orig : \n",
      "revision : 1\n",
      "savncpp : None\n",
      "search_channelid : visible\n",
      "search_frm_name : SWPC\n",
      "search_instrument : nil\n",
      "search_observatory : nil\n",
      "sharp_noaa_ars : \n",
      "sum_overlap_scores : 0\n",
      "totalenergydensityunit : \n",
      "totalphotoenergy : None\n",
      "totalphotoenergydensity : None\n",
      "totalphotoenergyunit : \n",
      "twistunit : \n",
      "unsignedcurrenthelicity : None\n",
      "unsignedflux : None\n",
      "unsignedvertcurrent : None\n"
     ]
    }
   ],
   "source": [
    "for k in r.colnames:\n",
    "    print(k, ':', r[k])"
   ]
  },
  {
   "cell_type": "code",
   "execution_count": 140,
   "metadata": {},
   "outputs": [],
   "source": [
    "new_columns = ['ar_noaanum', 'event_starttime', 'event_endtime', \n",
    "               'hpc_coord', 'hgs_coord', 'hgc_coord', 'frm_humanflag', 'frm_name',\n",
    "               'frm_daterun', 'ar_mtwilsoncls', 'ar_mcintoshcls', 'SOL_standard', \n",
    "              'ar_numspots', 'area_atdiskcenter', 'area_unit', 'refs']\n",
    "new_table = result[new_columns]"
   ]
  },
  {
   "cell_type": "code",
   "execution_count": 141,
   "metadata": {},
   "outputs": [
    {
     "data": {
      "text/html": [
       "<i>HEKTable length=4</i>\n",
       "<table id=\"table4810913392\" class=\"table-striped table-bordered table-condensed\">\n",
       "<thead><tr><th>ar_noaanum</th><th>event_starttime</th><th>event_endtime</th><th>hpc_coord</th><th>hgs_coord</th><th>hgc_coord</th><th>frm_humanflag</th><th>frm_name</th><th>frm_daterun</th><th>ar_mtwilsoncls</th><th>ar_mcintoshcls</th><th>SOL_standard</th><th>ar_numspots</th><th>area_atdiskcenter</th><th>area_unit</th><th>refs [2]</th></tr></thead>\n",
       "<thead><tr><th>int64</th><th>str19</th><th>str19</th><th>str26</th><th>str14</th><th>str20</th><th>str4</th><th>str18</th><th>str19</th><th>str16</th><th>str3</th><th>str30</th><th>int64</th><th>int64</th><th>str3</th><th>object</th></tr></thead>\n",
       "<tr><td>12434</td><td>2015-10-21T00:00:00</td><td>2015-10-21T23:59:59</td><td>POINT(356.8068 -250.9314)</td><td>POINT(22 -10)</td><td>POINT(165.29325 -10)</td><td>true</td><td>NOAA SWPC Observer</td><td>2015-10-21T02:35:34</td><td>BETA-GAMMA-DELTA</td><td>DAI</td><td>SOL2015-10-21T00:00:00L165C100</td><td>14</td><td>639171840</td><td>km2</td><td>{&apos;ref_name&apos;: &apos;FRM_URL&apos;, &apos;ref_type&apos;: &apos;unknown&apos;, &apos;ref_url&apos;: &apos;N/A&apos;} .. {&apos;ref_name&apos;: &apos;NASA Solar Monitor&apos;, &apos;ref_type&apos;: &apos;html&apos;, &apos;ref_url&apos;: &apos;http://www.solarmonitor.org/region.php?date=20151021%26region=12434&apos;}</td></tr>\n",
       "<tr><td>12435</td><td>2015-10-21T00:00:00</td><td>2015-10-21T23:59:59</td><td>POINT(-273.1434 -333.9138)</td><td>POINT(-17 -15)</td><td>POINT(126.29325 -15)</td><td>true</td><td>NOAA SWPC Observer</td><td>2015-10-21T02:35:35</td><td>ALPHAGAMMA-DELTA</td><td>HSX</td><td>SOL2015-10-21T00:00:00L126C105</td><td>1</td><td>60873508</td><td>km2</td><td>{&apos;ref_name&apos;: &apos;FRM_URL&apos;, &apos;ref_type&apos;: &apos;unknown&apos;, &apos;ref_url&apos;: &apos;N/A&apos;} .. {&apos;ref_name&apos;: &apos;NASA Solar Monitor&apos;, &apos;ref_type&apos;: &apos;html&apos;, &apos;ref_url&apos;: &apos;http://www.solarmonitor.org/region.php?date=20151021%26region=12435&apos;}</td></tr>\n",
       "<tr><td>12436</td><td>2015-10-21T00:00:00</td><td>2015-10-21T23:59:59</td><td>POINT(-477.576 72.165)</td><td>POINT(-30 9)</td><td>POINT(113.29325 9)</td><td>true</td><td>NOAA SWPC Observer</td><td>2015-10-21T02:35:36</td><td>BETA-DELTA-DELTA</td><td>EAI</td><td>SOL2015-10-21T00:00:00L113C081</td><td>18</td><td>730482112</td><td>km2</td><td>{&apos;ref_name&apos;: &apos;FRM_URL&apos;, &apos;ref_type&apos;: &apos;unknown&apos;, &apos;ref_url&apos;: &apos;N/A&apos;} .. {&apos;ref_name&apos;: &apos;NASA Solar Monitor&apos;, &apos;ref_type&apos;: &apos;html&apos;, &apos;ref_url&apos;: &apos;http://www.solarmonitor.org/region.php?date=20151021%26region=12436&apos;}</td></tr>\n",
       "<tr><td>12437</td><td>2015-10-21T00:00:00</td><td>2015-10-21T23:59:59</td><td>POINT(-652.926 -388.6668)</td><td>POINT(-46 -20)</td><td>POINT(97.29325 -20)</td><td>true</td><td>NOAA SWPC Observer</td><td>2015-10-21T02:35:37</td><td>BETA-DELTA-DELTA</td><td>CAO</td><td>SOL2015-10-21T00:00:00L097C110</td><td>4</td><td>152183776</td><td>km2</td><td>{&apos;ref_name&apos;: &apos;FRM_URL&apos;, &apos;ref_type&apos;: &apos;unknown&apos;, &apos;ref_url&apos;: &apos;N/A&apos;} .. {&apos;ref_name&apos;: &apos;NASA Solar Monitor&apos;, &apos;ref_type&apos;: &apos;html&apos;, &apos;ref_url&apos;: &apos;http://www.solarmonitor.org/region.php?date=20151021%26region=12437&apos;}</td></tr>\n",
       "</table>"
      ],
      "text/plain": [
       "<HEKTable length=4>\n",
       "ar_noaanum ...\n",
       "  int64    ...\n",
       "---------- ...\n",
       "     12434 ...\n",
       "     12435 ...\n",
       "     12436 ...\n",
       "     12437 ..."
      ]
     },
     "execution_count": 141,
     "metadata": {},
     "output_type": "execute_result"
    }
   ],
   "source": [
    "new_table.sort('ar_noaanum')\n",
    "new_table"
   ]
  },
  {
   "cell_type": "code",
   "execution_count": 142,
   "metadata": {},
   "outputs": [],
   "source": [
    "from sunpy.coordinates import frames\n",
    "from astropy.coordinates import SkyCoord\n",
    "from astropy import units as u"
   ]
  },
  {
   "cell_type": "code",
   "execution_count": 143,
   "metadata": {},
   "outputs": [],
   "source": [
    "test_hpc = SkyCoord(-662.5326*u.arcsec, 96.135824*u.arcsec, frame=frames.Helioprojective, observer='earth', \n",
    "                   obstime='2017-09-06')"
   ]
  },
  {
   "cell_type": "code",
   "execution_count": 129,
   "metadata": {},
   "outputs": [
    {
     "data": {
      "text/plain": [
       "<SkyCoord (HeliographicStonyhurst: obstime=2017-09-06T00:00:00.000): (lon, lat, radius) in (deg, deg, AU)\n",
       "    (-44.97281525, 10.9417797, 0.00465047)>"
      ]
     },
     "execution_count": 129,
     "metadata": {},
     "output_type": "execute_result"
    }
   ],
   "source": [
    "test_hpc.transform_to(frames.HeliographicStonyhurst)"
   ]
  },
  {
   "cell_type": "code",
   "execution_count": 130,
   "metadata": {},
   "outputs": [
    {
     "data": {
      "text/plain": [
       "<SkyCoord (HeliographicCarrington: obstime=2017-09-06T00:00:00.000, observer=<HeliographicStonyhurst Coordinate for 'earth'>): (lon, lat, radius) in (deg, deg, AU)\n",
       "    (43.8359103, 10.9417797, 0.00465047)>"
      ]
     },
     "execution_count": 130,
     "metadata": {},
     "output_type": "execute_result"
    }
   ],
   "source": [
    "test_hpc.transform_to(frames.HeliographicCarrington)"
   ]
  },
  {
   "cell_type": "code",
   "execution_count": 71,
   "metadata": {},
   "outputs": [],
   "source": [
    "test2 = SkyCoord(28*u.deg, -21*u.deg, frame=frames.HeliographicCarrington, obstime='2011-02-15', observer='earth')"
   ]
  },
  {
   "cell_type": "code",
   "execution_count": 72,
   "metadata": {},
   "outputs": [
    {
     "data": {
      "text/plain": [
       "<SkyCoord (Helioprojective: obstime=2011-02-15T00:00:00.000, rsun=695700.0 km, observer=<HeliographicStonyhurst Coordinate for 'earth'>): (Tx, Ty, distance) in (arcsec, arcsec, km)\n",
       "    (83.41621691, -239.57455401, 1.47068659e+08)>"
      ]
     },
     "execution_count": 72,
     "metadata": {},
     "output_type": "execute_result"
    }
   ],
   "source": [
    "test2.transform_to(frames.Helioprojective)"
   ]
  },
  {
   "cell_type": "code",
   "execution_count": 132,
   "metadata": {},
   "outputs": [
    {
     "data": {
      "text/plain": [
       "['ar_noaanum',\n",
       " 'event_starttime',\n",
       " 'event_endtime',\n",
       " 'hpc_coord',\n",
       " 'hgs_coord',\n",
       " 'hgc_coord',\n",
       " 'frm_humanflag',\n",
       " 'frm_name',\n",
       " 'frm_daterun',\n",
       " 'ar_mtwilsoncls',\n",
       " 'ar_mcintoshcls',\n",
       " 'SOL_standard',\n",
       " 'ar_numspots',\n",
       " 'area_atdiskcenter',\n",
       " 'area_unit',\n",
       " 'refs']"
      ]
     },
     "execution_count": 132,
     "metadata": {},
     "output_type": "execute_result"
    }
   ],
   "source": [
    "new_table.colnames"
   ]
  },
  {
   "cell_type": "code",
   "execution_count": 133,
   "metadata": {},
   "outputs": [
    {
     "data": {
      "text/html": [
       "<i>HEKTable length=6</i>\n",
       "<table id=\"table4821199456\" class=\"table-striped table-bordered table-condensed\">\n",
       "<thead><tr><th>ar_noaanum</th><th>event_starttime</th><th>event_endtime</th><th>hpc_coord</th><th>hgs_coord</th><th>hgc_coord</th><th>frm_humanflag</th><th>frm_name</th><th>frm_daterun</th><th>ar_mtwilsoncls</th><th>ar_mcintoshcls</th><th>SOL_standard</th><th>ar_numspots</th><th>area_atdiskcenter</th><th>area_unit</th><th>refs [2]</th></tr></thead>\n",
       "<thead><tr><th>int64</th><th>str19</th><th>str19</th><th>str29</th><th>str13</th><th>str18</th><th>str4</th><th>str18</th><th>str19</th><th>str16</th><th>str3</th><th>str30</th><th>int64</th><th>int64</th><th>str3</th><th>object</th></tr></thead>\n",
       "<tr><td>12673</td><td>2017-09-06T00:00:00</td><td>2017-09-06T23:59:59</td><td>POINT(471.628338 -251.205186)</td><td>POINT(30 -9)</td><td>POINT(118.8542 -9)</td><td>true</td><td>NOAA SWPC Observer</td><td>2017-09-06T02:36:01</td><td>BETA-GAMMA-DELTA</td><td>DKC</td><td>SOL2017-09-06T00:00:00L118C099</td><td>33</td><td>2678434560</td><td>km2</td><td>{&apos;ref_name&apos;: &apos;FRM_URL&apos;, &apos;ref_type&apos;: &apos;unknown&apos;, &apos;ref_url&apos;: &apos;N/A&apos;} .. {&apos;ref_name&apos;: &apos;NASA Solar Monitor&apos;, &apos;ref_type&apos;: &apos;html&apos;, &apos;ref_url&apos;: &apos;http://www.solarmonitor.org/region.php?date=20170906%26region=12673&apos;}</td></tr>\n",
       "<tr><td>12674</td><td>2017-09-06T00:00:00</td><td>2017-09-06T23:59:59</td><td>POINT(224.317272 115.898784)</td><td>POINT(14 14)</td><td>POINT(102.8542 14)</td><td>true</td><td>NOAA SWPC Observer</td><td>2017-09-06T02:36:03</td><td>BETA</td><td>FHI</td><td>SOL2017-09-06T00:00:00L102C076</td><td>23</td><td>2069699328</td><td>km2</td><td>{&apos;ref_name&apos;: &apos;FRM_URL&apos;, &apos;ref_type&apos;: &apos;unknown&apos;, &apos;ref_url&apos;: &apos;N/A&apos;} .. {&apos;ref_name&apos;: &apos;NASA Solar Monitor&apos;, &apos;ref_type&apos;: &apos;html&apos;, &apos;ref_url&apos;: &apos;http://www.solarmonitor.org/region.php?date=20170906%26region=12674&apos;}</td></tr>\n",
       "<tr><td>12675</td><td>2017-09-06T00:00:00</td><td>2017-09-06T23:59:59</td><td>POINT(935.60298 -131.66115)</td><td>POINT(82 -7)</td><td>POINT(170.8542 -7)</td><td>true</td><td>NOAA SWPC Observer</td><td>2017-09-06T02:36:04</td><td>BETA</td><td>BXO</td><td>SOL2017-09-06T00:00:00L170C097</td><td>1</td><td>30436754</td><td>km2</td><td>{&apos;ref_name&apos;: &apos;FRM_URL&apos;, &apos;ref_type&apos;: &apos;unknown&apos;, &apos;ref_url&apos;: &apos;N/A&apos;} .. {&apos;ref_name&apos;: &apos;NASA Solar Monitor&apos;, &apos;ref_type&apos;: &apos;html&apos;, &apos;ref_url&apos;: &apos;http://www.solarmonitor.org/region.php?date=20170906%26region=12675&apos;}</td></tr>\n",
       "<tr><td>12676</td><td>2017-09-06T00:00:00</td><td>2017-09-06T23:59:59</td><td>POINT(912.64956 -176.478282)</td><td>POINT(76 -9)</td><td>POINT(164.8542 -9)</td><td>true</td><td>NOAA SWPC Observer</td><td>2017-09-06T02:36:05</td><td>BETA</td><td>BXO</td><td>SOL2017-09-06T00:00:00L164C099</td><td>2</td><td>91310264</td><td>km2</td><td>{&apos;ref_name&apos;: &apos;FRM_URL&apos;, &apos;ref_type&apos;: &apos;unknown&apos;, &apos;ref_url&apos;: &apos;N/A&apos;} .. {&apos;ref_name&apos;: &apos;NASA Solar Monitor&apos;, &apos;ref_type&apos;: &apos;html&apos;, &apos;ref_url&apos;: &apos;http://www.solarmonitor.org/region.php?date=20170906%26region=12676&apos;}</td></tr>\n",
       "<tr><td>12677</td><td>2017-09-06T00:00:00</td><td>2017-09-06T23:59:59</td><td>POINT(-571.444266 203.706072)</td><td>POINT(-39 18)</td><td>POINT(49.8542 18)</td><td>true</td><td>NOAA SWPC Observer</td><td>2017-09-06T02:36:06</td><td>ALPHA</td><td>AXX</td><td>SOL2017-09-06T00:00:00L049C072</td><td>1</td><td>60873508</td><td>km2</td><td>{&apos;ref_name&apos;: &apos;FRM_URL&apos;, &apos;ref_type&apos;: &apos;unknown&apos;, &apos;ref_url&apos;: &apos;N/A&apos;} .. {&apos;ref_name&apos;: &apos;NASA Solar Monitor&apos;, &apos;ref_type&apos;: &apos;html&apos;, &apos;ref_url&apos;: &apos;http://www.solarmonitor.org/region.php?date=20170906%26region=12677&apos;}</td></tr>\n",
       "<tr><td>12678</td><td>2017-09-06T00:00:00</td><td>2017-09-06T23:59:59</td><td>POINT(-662.5326 97.135824)</td><td>POINT(-45 11)</td><td>POINT(43.8542 11)</td><td>true</td><td>NOAA SWPC Observer</td><td>2017-09-06T02:36:08</td><td>BETA</td><td>BXO</td><td>SOL2017-09-06T00:00:00L043C079</td><td>2</td><td>30436754</td><td>km2</td><td>{&apos;ref_name&apos;: &apos;FRM_URL&apos;, &apos;ref_type&apos;: &apos;unknown&apos;, &apos;ref_url&apos;: &apos;N/A&apos;} .. {&apos;ref_name&apos;: &apos;NASA Solar Monitor&apos;, &apos;ref_type&apos;: &apos;html&apos;, &apos;ref_url&apos;: &apos;http://www.solarmonitor.org/region.php?date=20170906%26region=12678&apos;}</td></tr>\n",
       "</table>"
      ],
      "text/plain": [
       "<HEKTable length=6>\n",
       "ar_noaanum ...\n",
       "  int64    ...\n",
       "---------- ...\n",
       "     12673 ...\n",
       "     12674 ...\n",
       "     12675 ...\n",
       "     12676 ...\n",
       "     12677 ...\n",
       "     12678 ..."
      ]
     },
     "execution_count": 133,
     "metadata": {},
     "output_type": "execute_result"
    }
   ],
   "source": [
    "new_table"
   ]
  },
  {
   "cell_type": "markdown",
   "metadata": {},
   "source": [
    "# Reading in all the data "
   ]
  },
  {
   "cell_type": "code",
   "execution_count": 148,
   "metadata": {},
   "outputs": [],
   "source": [
    "import pandas as pd\n",
    "import matplotlib.pyplot as plt \n",
    "all_data = pd.read_csv('all_ar_2010-2020.csv')"
   ]
  },
  {
   "cell_type": "code",
   "execution_count": 156,
   "metadata": {},
   "outputs": [
    {
     "data": {
      "image/png": "[encoded data removed]",
      "text/plain": [
       "<Figure size 432x288 with 1 Axes>"
      ]
     },
     "metadata": {
      "needs_background": "light"
     },
     "output_type": "display_data"
    }
   ],
   "source": [
    "circle1 = plt.Circle((0, 0), 960, color='r', fill=False)\n",
    "plt.scatter(all_data['hpc_x'], all_data['hpc_y'], s=all_data['ar_numspots'])\n",
    "plt.xlim(-1000, 1000)\n",
    "plt.ylim(-1000, 1000)\n",
    "ax = plt.gca()\n",
    "ax.add_artist(circle1)\n",
    "plt.gca().set_aspect('equal', adjustable='box')"
   ]
  },
  {
   "cell_type": "code",
   "execution_count": null,
   "metadata": {},
   "outputs": [],
   "source": []
  }
 ],
 "metadata": {
  "kernelspec": {
   "display_name": "Python 3",
   "language": "python",
   "name": "python3"
  },
  "language_info": {
   "codemirror_mode": {
    "name": "ipython",
    "version": 3
   },
   "file_extension": ".py",
   "mimetype": "text/x-python",
   "name": "python",
   "nbconvert_exporter": "python",
   "pygments_lexer": "ipython3",
   "version": "3.8.3"
  }
 },
 "nbformat": 4,
 "nbformat_minor": 4
}
