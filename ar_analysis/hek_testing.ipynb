{
 "cells": [
  {
   "cell_type": "code",
   "execution_count": 1,
   "metadata": {},
   "outputs": [],
   "source": [
    "from sunpy.net import hek"
   ]
  },
  {
   "cell_type": "code",
   "execution_count": 2,
   "metadata": {},
   "outputs": [],
   "source": [
    "client = hek.HEKClient()"
   ]
  },
  {
   "cell_type": "code",
   "execution_count": 13,
   "metadata": {},
   "outputs": [],
   "source": [
    "tstart = '2011-02-13'\n",
    "tend = '2011-02-15'"
   ]
  },
  {
   "cell_type": "code",
   "execution_count": 14,
   "metadata": {},
   "outputs": [],
   "source": [
    "result = client.search(hek.attrs.Time(tstart, tend),\n",
    "                       hek.attrs.EventType('AR'),\n",
    "                       hek.attrs.FRM.Name == 'SPoCA',\n",
    "                       hek.attrs.OBS.Observatory == 'SDO')"
   ]
  },
  {
   "cell_type": "code",
   "execution_count": 15,
   "metadata": {},
   "outputs": [],
   "source": [
    "result = client.search(hek.attrs.Time(tstart, tend),\n",
    "                       hek.attrs.EventType('FL'))"
   ]
  },
  {
   "cell_type": "code",
   "execution_count": 26,
   "metadata": {},
   "outputs": [],
   "source": [
    "result_flare_ssw = client.search(hek.attrs.Time(tstart, tend),\n",
    "                       hek.attrs.EventType('FL'),\n",
    "                       hek.attrs.FRM.Name == 'SSW Latest Events')"
   ]
  },
  {
   "cell_type": "code",
   "execution_count": 28,
   "metadata": {},
   "outputs": [],
   "source": [
    "result_flare_goes = client.search(hek.attrs.Time(tstart, tend),\n",
    "                       hek.attrs.EventType('FL'),\n",
    "                       hek.attrs.OBS.Observatory == 'GOES')"
   ]
  },
  {
   "cell_type": "code",
   "execution_count": 30,
   "metadata": {},
   "outputs": [
    {
     "data": {
      "text/plain": [
       "(25, 19)"
      ]
     },
     "execution_count": 30,
     "metadata": {},
     "output_type": "execute_result"
    }
   ],
   "source": [
    "len(result_flare_goes), len(result_flare_ssw)"
   ]
  },
  {
   "cell_type": "code",
   "execution_count": 42,
   "metadata": {},
   "outputs": [
    {
     "name": "stdout",
     "output_type": "stream",
     "text": [
      "0 2011-02-13T00:36:00 SWPC B8.5 GOES 11158 POINT(0 114.2202)\n",
      "1 2011-02-13T03:27:00 SWPC B5.6 GOES 0 POINT(0 114.3138)\n",
      "2 2011-02-13T05:59:00 SWPC B3.2 GOES 11160 POINT(0 114.3966)\n",
      "3 2011-02-13T07:25:00 SWPC C1.4 GOES 11160 POINT(0 114.4434)\n",
      "4 2011-02-13T11:48:00 SWPC B5.4 GOES 0 POINT(0 114.5856)\n",
      "5 2011-02-13T12:29:00 SWPC C1.1 GOES 11158 POINT(0 114.6078)\n",
      "6 2011-02-13T13:44:00 SWPC C4.7 GOES 11158 POINT(0 114.648)\n",
      "7 2011-02-13T17:28:00 SWPC M6.6 GOES 11158 POINT(-63.9588 -223.8318)\n",
      "8 2011-02-13T20:42:00 SWPC B4.8 GOES 0 POINT(0 114.8706)\n",
      "9 2011-02-13T21:17:00 SWPC C1.1 GOES 0 POINT(0 114.8892)\n",
      "10 2011-02-13T21:26:00 SWPC B5.1 GOES 0 POINT(0 114.894)\n",
      "11 2011-02-14T01:31:00 SWPC B9.3 GOES 0 POINT(0 115.0224)\n",
      "12 2011-02-14T02:35:00 SWPC C1.6 GOES 11158 POINT(-63.537 -240.0612)\n",
      "13 2011-02-14T03:24:00 SWPC C7.1 GOES 0 POINT(0 115.0818)\n",
      "14 2011-02-14T04:29:00 SWPC C8.3 GOES 11158 POINT(16.00068 -223.218)\n",
      "15 2011-02-14T06:51:00 SWPC C6.6 GOES 11158 POINT(0 115.1892)\n",
      "16 2011-02-14T08:39:00 SWPC C1.8 GOES 11158 POINT(0 115.245)\n",
      "17 2011-02-14T11:51:00 SWPC C1.7 GOES 11158 POINT(0 115.3434)\n",
      "18 2011-02-14T12:41:00 SWPC C9.4 GOES 11158 POINT(0 115.3692)\n",
      "19 2011-02-14T13:47:00 SWPC C7.0 GOES 11158 POINT(95.8242 -223.4832)\n",
      "20 2011-02-14T16:48:00 SWPC B7.9 GOES 0 POINT(0 115.4952)\n",
      "21 2011-02-14T17:20:00 SWPC M2.2 GOES 11158 POINT(168.1446 862.29)\n",
      "22 2011-02-14T19:23:00 SWPC C6.6 GOES 11158 POINT(79.8954 -223.122)\n",
      "23 2011-02-14T23:14:00 SWPC C1.2 GOES 11158 POINT(0 115.6896)\n",
      "24 2011-02-14T23:40:00 SWPC C2.7 GOES 11158 POINT(240.0948 -193.0188)\n"
     ]
    }
   ],
   "source": [
    "for i, r in enumerate(result_flare_goes):\n",
    "    print(i, r['event_starttime'], r['search_frm_name'], r['fl_goescls'], r['obs_observatory'],\n",
    "          r['ar_noaanum'], r['hpc_coord'])"
   ]
  },
  {
   "cell_type": "code",
   "execution_count": 40,
   "metadata": {},
   "outputs": [
    {
     "name": "stdout",
     "output_type": "stream",
     "text": [
      "0 2011-02-13T00:36:00 SSW Latest Events B8.5 SDO 0 POINT(-224.4306 404.703)\n",
      "1 2011-02-13T03:27:00 SSW Latest Events B5.6 SDO 0 POINT(-162.0474 -175.6956)\n",
      "2 2011-02-13T07:25:00 SSW Latest Events C1.4 SDO 0 POINT(-946.818 197.7792)\n",
      "3 2011-02-13T12:29:00 SSW Latest Events C1.1 SDO 0 POINT(-936.66 205.5762)\n",
      "4 2011-02-13T13:44:00 SSW Latest Events C4.7 SDO 0 POINT(-111.7416 -224.4942)\n",
      "5 2011-02-13T17:28:00 SSW Latest Events M6.6 SDO 1158 POINT(-79.9116 -223.9782)\n",
      "6 2011-02-13T21:17:00 SSW Latest Events C1.1 SDO 1158 POINT(0 -206.8362)\n",
      "7 2011-02-14T01:31:00 SSW Latest Events B9.3 SDO 1158 POINT(0 -223.3002)\n",
      "8 2011-02-14T02:35:00 SSW Latest Events C1.6 SDO 0 POINT(-63.9546 -223.5258)\n",
      "9 2011-02-14T04:29:00 SSW Latest Events C8.3 SDO 1158 POINT(0 -223.2012)\n",
      "10 2011-02-14T06:51:00 SSW Latest Events C6.6 SDO 0 POINT(-16.00038 -223.1394)\n",
      "11 2011-02-14T12:41:00 SSW Latest Events C9.4 SDO 0 POINT(15.99966 -222.9474)\n",
      "12 2011-02-14T13:45:00 SSW Latest Events C8.5 SDO 1158 POINT(95.8242 -223.4844)\n",
      "13 2011-02-14T16:48:00 SSW Latest Events B7.9 SDO 1158 POINT(63.9474 -223.0584)\n",
      "14 2011-02-14T17:20:00 SSW Latest Events M2.2 SDO 1158 POINT(63.9468 -223.041)\n",
      "15 2011-02-14T19:23:00 SSW Latest Events C6.6 SDO 0 POINT(63.9456 -222.975)\n",
      "16 2011-02-14T19:23:00 SSW Latest Events C6.6 SDO 0 POINT(63.9456 -222.975)\n",
      "17 2011-02-14T23:14:00 SSW Latest Events C1.2 SDO 0 POINT(207.467316 -208.76202)\n",
      "18 2011-02-14T23:40:00 SSW Latest Events C2.7 SDO 0 POINT(224.4246 -192.5418)\n"
     ]
    }
   ],
   "source": [
    "for i, r in enumerate(result_flare_ssw):\n",
    "    print(i, r['event_starttime'], r['search_frm_name'], r['fl_goescls'], r['obs_observatory'], \n",
    "          r['ar_noaanum'], r['hpc_coord'])"
   ]
  },
  {
   "cell_type": "code",
   "execution_count": 19,
   "metadata": {},
   "outputs": [
    {
     "name": "stdout",
     "output_type": "stream",
     "text": [
      "SOL_standard : SOL2011-02-13T00:26:08L036C107\n",
      "active : true\n",
      "ar_compactnesscls : \n",
      "ar_mcintoshcls : \n",
      "ar_mtwilsoncls : \n",
      "ar_noaaclass : \n",
      "ar_noaanum : None\n",
      "ar_numspots : None\n",
      "ar_penumbracls : \n",
      "ar_polarity : None\n",
      "ar_zurichcls : \n",
      "area_atdiskcenter : None\n",
      "area_atdiskcenteruncert : None\n",
      "area_raw : None\n",
      "area_uncert : None\n",
      "area_unit : \n",
      "bound_ccnsteps : None\n",
      "bound_ccstartc1 : None\n",
      "bound_ccstartc2 : None\n",
      "bound_chaincode : \n",
      "boundbox_c1ll : -230.4\n",
      "boundbox_c1ur : -153.6\n",
      "boundbox_c2ll : -230.4\n",
      "boundbox_c2ur : -153.6\n",
      "chaincodetype : \n",
      "comment_count : 0\n",
      "concept : Flare\n",
      "event_avg_rating : None\n",
      "event_c1error : 2\n",
      "event_c2error : 2\n",
      "event_clippedspatial : \n",
      "event_clippedtemporal : \n",
      "event_coord1 : -192.0\n",
      "event_coord2 : -192.0\n",
      "event_coord3 : None\n",
      "event_coordsys : UTC-HPC-TOPO\n",
      "event_coordunit : arcseconds\n",
      "event_description : \n",
      "event_endtime : 2011-02-13T00:28:20\n",
      "event_expires : \n",
      "event_importance : None\n",
      "event_importance_num_ratings : \n",
      "event_mapurl : \n",
      "event_maskurl : \n",
      "event_npixels : None\n",
      "event_peaktime : 2011-02-13T00:26:44\n",
      "event_pixelunit : \n",
      "event_probability : None\n",
      "event_score : 0.122849743369954939\n",
      "event_starttime : 2011-02-13T00:26:08\n",
      "event_testflag : false\n",
      "event_title : \n",
      "event_type : FL\n",
      "eventtype : 9\n",
      "fl_efoldtime : None\n",
      "fl_efoldtimeunit : \n",
      "fl_fluence : None\n",
      "fl_fluenceunit : \n",
      "fl_goescls : \n",
      "fl_halphaclass : \n",
      "fl_peakem : None\n",
      "fl_peakemunit : \n",
      "fl_peakflux : 940.174\n",
      "fl_peakfluxunit : erg/cm/cm/s\n",
      "fl_peaktemp : None\n",
      "fl_peaktempunit : \n",
      "frm_contact : Paolo C. Grigis - pgrigis@cfa.harvard.edu\n",
      "frm_daterun : 2011-02-14T16:24:47\n",
      "frm_humanflag : false\n",
      "frm_identifier : Feature Finding Team\n",
      "frm_institute : SAO\n",
      "frm_name : Flare Detective - Trigger Module\n",
      "frm_paramset : DerivativeThreshold= 3.00000e+00 EndFraction= 2.50000e-01\n",
      "frm_specificid : \n",
      "frm_url : http://www.cfa.harvard.edu\n",
      "frm_versionnumber : 0.51\n",
      "gs_galleryid : \n",
      "gs_imageurl : http://sdowww.lmsal.com/sdomedia/ssw/ssw_client/data/ssw_service_110302_151634_36897/www/ssw_cutout_193_context_full.gif\n",
      "gs_movieurl : http://sdowww.lmsal.com/sdomedia/h264/2011/02/13/EDS_FlareDetective-TriggerModule_20110213T001608-20110213T003820_AIA_193_XCEN-192.0YCEN-192.0.mov\n",
      "gs_thumburl : http://sdowww.lmsal.com/sdomedia/ssw/ssw_client/data/ssw_service_110302_151634_36897/www/ssw_cutout_193_context_thumb.gif\n",
      "hcr_checked : true\n",
      "hgc_bbox : POLYGON((34.323697 -20.161103,39.228577 -20.276279,39.479676 -15.682099,34.704009 -15.57143,34.323697 -20.161103))\n",
      "hgc_boundcc : \n",
      "hgc_coord : POINT(36.956259 -17.919505)\n",
      "hgc_x : 36.956259\n",
      "hgc_y : -17.919505\n",
      "hgs_bbox : POLYGON((-14.558278 -20.161103,-9.653398 -20.276279,-9.402299 -15.682099,-14.177966 -15.57143,-14.558278 -20.161103))\n",
      "hgs_boundcc : \n",
      "hgs_coord : POINT(-11.925716 -17.919505)\n",
      "hgs_x : -11.925716\n",
      "hgs_y : -17.919505\n",
      "hpc_bbox : POLYGON((-230.4 -230.4,-153.6 -230.4,-153.6 -153.6,-230.4 -153.6,-230.4 -230.4))\n",
      "hpc_boundcc : \n",
      "hpc_coord : POINT(-192 -192)\n",
      "hpc_geom : 01030000000100000005000000CDCCCCCCCCCC6CC0CDCCCCCCCCCC6CC033333333333363C0CDCCCCCCCCCC6CC033333333333363C033333333333363C0CDCCCCCCCCCC6CC033333333333363C0CDCCCCCCCCCC6CC0CDCCCCCCCCCC6CC0\n",
      "hpc_radius : 271.529003975634225\n",
      "hpc_x : -192.0\n",
      "hpc_y : -192.0\n",
      "hrc_a : 135.0\n",
      "hrc_bbox : POLYGON((0.335193 135,0.28486 146.309932,0.223462 135,0.28486 123.690068,0.335193 135))\n",
      "hrc_boundcc : \n",
      "hrc_coord : POINT(0.27932777109934 135)\n",
      "hrc_r : 0.27932777109934\n",
      "intenskurt : None\n",
      "intensmax : None\n",
      "intensmean : None\n",
      "intensmedian : None\n",
      "intensmin : None\n",
      "intensskew : None\n",
      "intenstotal : None\n",
      "intensunit : \n",
      "intensvar : None\n",
      "kb_archivdate : 2011-02-15T00:26:46\n",
      "kb_archivid : ivo://helio-informatics.org/FL_FlareDetective-TriggerModule_20110215_002504_2011-02-13T00:26:08.840_1\n",
      "kb_archivist : flare_detective\n",
      "noposition : false\n",
      "obs_channelid : 193\n",
      "obs_dataprepurl : \n",
      "obs_firstprocessingdate : \n",
      "obs_includesnrt : \n",
      "obs_instrument : AIA\n",
      "obs_lastprocessingdate : \n",
      "obs_levelnum : None\n",
      "obs_meanwavel : 1.93e-06\n",
      "obs_observatory : SDO\n",
      "obs_title : \n",
      "obs_wavelunit : cm\n",
      "rasterscan : \n",
      "rasterscantype : \n",
      "refs : [{'ref_name': 'FRM_URL', 'ref_type': 'unknown', 'ref_url': 'http://www.cfa.harvard.edu'}, {'ref_name': 'SDO Movie', 'ref_type': 'movie', 'ref_url': 'http://sdowww.lmsal.com/sdomedia/h264/2011/02/13/EDS_FlareDetective-TriggerModule_20110213T001608-20110213T003820_AIA_193_XCEN-192.0YCEN-192.0.mov'}, {'ref_name': 'SSW Context Image', 'ref_type': 'image', 'ref_url': 'http://sdowww.lmsal.com/sdomedia/ssw/ssw_client/data/ssw_service_110302_151634_36897/www/ssw_cutout_193_context_full.gif'}, {'ref_name': 'SSW Context Thumbnail', 'ref_type': 'thumbnail', 'ref_url': 'http://sdowww.lmsal.com/sdomedia/ssw/ssw_client/data/ssw_service_110302_151634_36897/www/ssw_cutout_193_context_thumb.gif'}]\n",
      "refs_orig : \n",
      "revision : 1\n",
      "search_channelid : 193\n",
      "search_frm_name : Flare Detective - Trigger Module\n",
      "search_instrument : AIA\n",
      "search_observatory : SDO\n",
      "skel_chaincode : \n",
      "skel_curvature : None\n",
      "skel_nsteps : None\n",
      "skel_startc1 : None\n",
      "skel_startc2 : None\n",
      "sum_overlap_scores : 0\n"
     ]
    }
   ],
   "source": [
    "for key in result[0].colnames:\n",
    "    print(key, ':', result[0][key])"
   ]
  },
  {
   "cell_type": "code",
   "execution_count": null,
   "metadata": {},
   "outputs": [],
   "source": []
  },
  {
   "cell_type": "code",
   "execution_count": 17,
   "metadata": {},
   "outputs": [],
   "source": [
    "result = client.search(hek.attrs.Time(tstart, tend),\n",
    "                       hek.attrs.EventType('AR'))"
   ]
  },
  {
   "cell_type": "raw",
   "metadata": {},
   "source": []
  },
  {
   "cell_type": "code",
   "execution_count": 21,
   "metadata": {},
   "outputs": [
    {
     "name": "stdout",
     "output_type": "stream",
     "text": [
      "SOL_standard : SOL2011-02-10T00:00:04L079C109\n",
      "absnetcurrenthelicity : None\n",
      "active : true\n",
      "ar_axislength : None\n",
      "ar_compactnesscls : \n",
      "ar_lengthunit : \n",
      "ar_mcintoshcls : \n",
      "ar_mtwilsoncls : \n",
      "ar_neutrallength : None\n",
      "ar_noaaclass : \n",
      "ar_noaanum : None\n",
      "ar_numspots : None\n",
      "ar_penumbracls : \n",
      "ar_pilcurvature : None\n",
      "ar_polarity : None\n",
      "ar_spotarearaw : None\n",
      "ar_spotarearawuncert : None\n",
      "ar_spotarearawunit : \n",
      "ar_spotarearepr : None\n",
      "ar_spotarearepruncert : None\n",
      "ar_spotareareprunit : \n",
      "ar_sumnegsignedflux : None\n",
      "ar_sumpossignedflux : None\n",
      "ar_zurichcls : \n",
      "area_atdiskcenter : None\n",
      "area_atdiskcenteruncert : None\n",
      "area_raw : None\n",
      "area_uncert : None\n",
      "area_unit : \n",
      "bound_ccnsteps : None\n",
      "bound_ccstartc1 : None\n",
      "bound_ccstartc2 : None\n",
      "bound_chaincode : \n",
      "boundbox_c1ll : -745.0\n",
      "boundbox_c1ur : 467.0\n",
      "boundbox_c2ll : -383.0\n",
      "boundbox_c2ur : -52.0\n",
      "chaincodetype : \n",
      "comment_count : 0\n",
      "concept : Active Region\n",
      "currentdensityunit : \n",
      "currenthelicityunit : \n",
      "currentunit : \n",
      "event_avg_rating : 0.8\n",
      "event_c1error : 606.2\n",
      "event_c2error : 165.65\n",
      "event_clippedspatial : \n",
      "event_clippedtemporal : \n",
      "event_coord1 : -139.0\n",
      "event_coord2 : -217.0\n",
      "event_coord3 : None\n",
      "event_coordsys : UTC-HPC-TOPO\n",
      "event_coordunit : arcsec\n",
      "event_description : Active region emergence from start to past X2.2 flare (4.25d interval).\n",
      "event_endtime : 2011-02-15T06:00:04\n",
      "event_expires : \n",
      "event_importance : 0.8\n",
      "event_importance_num_ratings : 1\n",
      "event_mapurl : \n",
      "event_maskurl : \n",
      "event_npixels : None\n",
      "event_pixelunit : \n",
      "event_probability : None\n",
      "event_score : \n",
      "event_starttime : 2011-02-10T00:00:04\n",
      "event_testflag : false\n",
      "event_title : AR emergence\n",
      "event_type : AR\n",
      "eventtype : 1\n",
      "frm_contact : Scott Green\n",
      "frm_daterun : 2011-03-30T22:12:53\n",
      "frm_humanflag : true\n",
      "frm_identifier : Annotator-build_20110328-avc\n",
      "frm_institute : LMSAL\n",
      "frm_name : schryver\n",
      "frm_paramset : n/a\n",
      "frm_specificid : \n",
      "frm_url : n/a\n",
      "frm_versionnumber : None\n",
      "gradientunit : \n",
      "gs_galleryid : pod_schrijver_karel_2011-03-30T22:12:56.516\n",
      "gs_imageurl : http://www.lmsal.com/hek/gallery/podimages/2011/03/30/pod_schrijver_karel_2011-03-30T22%3A12%3A56.516/panorama_schryver_AIA-211_AIA-193_AIA-171_HMI-6173_20110213T183004_at_20110330T215402.jpg\n",
      "gs_movieurl : http://sdowww.lmsal.com/sdomedia/h264/2011/02/10/AVC_KarelSchrijver_20110210T000004-20110215T060004_SDO_211-193-171-6173_900.0_20110330_221253.mov\n",
      "gs_thumburl : http://www.lmsal.com/hek/gallery/podimages/2011/03/30/pod_schrijver_karel_2011-03-30T22%3A12%3A56.516/thumb/panorama_schryver_AIA-211_AIA-193_AIA-171_HMI-6173_20110213T183004_at_20110330T215402.jpg\n",
      "gwill : None\n",
      "gwillunit : \n",
      "hcr_checked : true\n",
      "hgc_bbox : POLYGON((29.777611 -26.674752,121.689679 -28.674209,117.583407 -8.809635,38.232508 -7.266674,29.777611 -26.674752))\n",
      "hgc_boundcc : \n",
      "hgc_coord : POINT(79.9442043 -19.334847)\n",
      "hgc_x : 79.9442043\n",
      "hgc_y : -19.334847\n",
      "hgs_bbox : POLYGON((-58.844268 -26.674752,33.0678 -28.674209,28.961528 -8.809635,-50.389371 -7.266674,-58.844268 -26.674752))\n",
      "hgs_boundcc : \n",
      "hgs_coord : POINT(-8.6776747 -19.334847)\n",
      "hgs_x : -8.6776747\n",
      "hgs_y : -19.334847\n",
      "highsheararea : None\n",
      "highshearareapercent : None\n",
      "highshearareaunit : \n",
      "hpc_bbox : POLYGON((-745 -383,467 -383,467 -52,-745 -52,-745 -383))\n",
      "hpc_boundcc : \n",
      "hpc_coord : POINT(-139 -217)\n",
      "hpc_geom : 0103000000010000000500000000000000004887C00000000000F077C00000000000307D400000000000F077C00000000000307D400000000000004AC000000000004887C00000000000004AC000000000004887C00000000000F077C0\n",
      "hpc_radius : 257.701377567136831\n",
      "hpc_x : -139.0\n",
      "hpc_y : -217.0\n",
      "hrc_a : 147.358285059318\n",
      "hrc_bbox : POLYGON((0.861894 117.207422,0.621424 230.643846,0.483466 263.646343,0.768396 93.992693,0.861894 117.207422))\n",
      "hrc_boundcc : \n",
      "hrc_coord : POINT(0.265149212119179 147.358285059318)\n",
      "hrc_r : 0.265149212119179\n",
      "intenskurt : None\n",
      "intensmax : None\n",
      "intensmean : None\n",
      "intensmedian : None\n",
      "intensmin : None\n",
      "intensskew : None\n",
      "intenstotal : None\n",
      "intensunit : \n",
      "intensvar : None\n",
      "kb_archivdate : 2011-03-30T22:12:59\n",
      "kb_archivid : ivo://helio-informatics.org/AR193_KarelSchrijver_20110330_221253\n",
      "kb_archivist : schrijver_karel\n",
      "log_r_value : None\n",
      "magfluxunit : \n",
      "maxmagfieldstrength : None\n",
      "maxmagfieldstrengthunit : \n",
      "meancurrenthelicity : None\n",
      "meanenergydensityunit : \n",
      "meangradienthorz : None\n",
      "meangradienttotal : None\n",
      "meangradientvert : None\n",
      "meaninclinationgamma : None\n",
      "meanphotoenergydensity : None\n",
      "meanshearangle : None\n",
      "meantwistalpha : None\n",
      "meanvertcurrentdensity : None\n",
      "noposition : false\n",
      "obs_channelid : 193\n",
      "obs_dataprepurl : \n",
      "obs_firstprocessingdate : \n",
      "obs_includesnrt : \n",
      "obs_instrument : AIA\n",
      "obs_lastprocessingdate : \n",
      "obs_levelnum : None\n",
      "obs_meanwavel : 1.93e-06\n",
      "obs_observatory : SDO\n",
      "obs_title : \n",
      "obs_wavelunit : cm\n",
      "rasterscan : \n",
      "rasterscantype : \n",
      "refs : [{'ref_name': 'AR:  HER Entry', 'ref_type': 'ivorn', 'ref_url': 'ivo://helio-informatics.org/AR211_KarelSchrijver_20110330_221253'}, {'ref_name': 'EF:  HER Entry', 'ref_type': 'ivorn', 'ref_url': 'ivo://helio-informatics.org/EF211_KarelSchrijver_20110330_221253'}, {'ref_name': 'EF:  HER Entry', 'ref_type': 'ivorn', 'ref_url': 'ivo://helio-informatics.org/EF193_KarelSchrijver_20110330_221253'}, {'ref_name': 'AR:  HER Entry', 'ref_type': 'ivorn', 'ref_url': 'ivo://helio-informatics.org/AR171_KarelSchrijver_20110330_221253'}, {'ref_name': 'EF:  HER Entry', 'ref_type': 'ivorn', 'ref_url': 'ivo://helio-informatics.org/EF171_KarelSchrijver_20110330_221253'}, {'ref_name': 'AR:  HER Entry', 'ref_type': 'ivorn', 'ref_url': 'ivo://helio-informatics.org/AR6173_KarelSchrijver_20110330_221253'}, {'ref_name': 'EF:  HER Entry', 'ref_type': 'ivorn', 'ref_url': 'ivo://helio-informatics.org/EF6173_KarelSchrijver_20110330_221253'}, {'ref_name': 'Movie', 'ref_type': 'movie', 'ref_url': 'http://sdowww.lmsal.com/sdomedia/h264/2011/02/10/AVC_KarelSchrijver_20110210T000004-20110215T060004_SDO_211-193-171-6173_900.0_20110330_221253.mov'}, {'ref_name': 'Event_MapURL', 'ref_type': 'unknown', 'ref_url': ''}, {'ref_name': 'FRM_URL', 'ref_type': 'unknown', 'ref_url': 'n/a'}]\n",
      "refs_orig : \n",
      "revision : 1\n",
      "savncpp : None\n",
      "search_channelid : 193\n",
      "search_frm_name : Human Annotation\n",
      "search_instrument : AIA\n",
      "search_observatory : SDO\n",
      "sharp_noaa_ars : \n",
      "sum_overlap_scores : 1.50162271692667648\n",
      "totalenergydensityunit : \n",
      "totalphotoenergy : None\n",
      "totalphotoenergydensity : None\n",
      "totalphotoenergyunit : \n",
      "twistunit : \n",
      "unsignedcurrenthelicity : None\n",
      "unsignedflux : None\n",
      "unsignedvertcurrent : None\n"
     ]
    }
   ],
   "source": [
    "for key in result[0].colnames:\n",
    "    print(key, ':', result[0][key])"
   ]
  },
  {
   "cell_type": "code",
   "execution_count": 27,
   "metadata": {},
   "outputs": [
    {
     "data": {
      "text/plain": [
       "{'HMI SHARP', 'NOAA SWPC Observer', 'SPoCA', 'schryver'}"
      ]
     },
     "execution_count": 27,
     "metadata": {},
     "output_type": "execute_result"
    }
   ],
   "source": [
    "set(list(result['frm_name']))"
   ]
  },
  {
   "cell_type": "markdown",
   "metadata": {},
   "source": [
    "# NOAA SWPC Observer"
   ]
  },
  {
   "cell_type": "code",
   "execution_count": 134,
   "metadata": {},
   "outputs": [],
   "source": [
    "tstart = '2015-10-21 00:00'\n",
    "tend = '2015-10-21 00:00'"
   ]
  },
  {
   "cell_type": "code",
   "execution_count": 135,
   "metadata": {},
   "outputs": [],
   "source": [
    "result = client.search(hek.attrs.Time(tstart, tend),\n",
    "                       hek.attrs.EventType('AR'),\n",
    "                       hek.attrs.FRM.Name == 'NOAA SWPC Observer')"
   ]
  },
  {
   "cell_type": "code",
   "execution_count": 136,
   "metadata": {},
   "outputs": [
    {
     "data": {
      "text/plain": [
       "(<HEKColumn name='ar_noaanum' dtype='int64' length=4>\n",
       " 12436\n",
       " 12437\n",
       " 12434\n",
       " 12435,\n",
       " <HEKColumn name='event_starttime' dtype='str19' length=4>\n",
       " 2015-10-21T00:00:00\n",
       " 2015-10-21T00:00:00\n",
       " 2015-10-21T00:00:00\n",
       " 2015-10-21T00:00:00)"
      ]
     },
     "execution_count": 136,
     "metadata": {},
     "output_type": "execute_result"
    }
   ],
   "source": [
    "result['ar_noaanum'], result['event_starttime']"
   ]
  },
  {
   "cell_type": "code",
   "execution_count": 137,
   "metadata": {},
   "outputs": [
    {
     "name": "stdout",
     "output_type": "stream",
     "text": [
      "12436   2015-10-21T00:00:00   2015-10-21T23:59:59\n",
      "12437   2015-10-21T00:00:00   2015-10-21T23:59:59\n",
      "12434   2015-10-21T00:00:00   2015-10-21T23:59:59\n",
      "12435   2015-10-21T00:00:00   2015-10-21T23:59:59\n"
     ]
    }
   ],
   "source": [
    "for r in result:\n",
    "    print(r['ar_noaanum'], ' ', r['event_starttime'], ' ', r['event_endtime'])"
   ]
  },
  {
   "cell_type": "code",
   "execution_count": 138,
   "metadata": {},
   "outputs": [
    {
     "name": "stdout",
     "output_type": "stream",
     "text": [
      "SOL_standard : SOL2015-10-21T00:00:00L126C105\n",
      "active : true\n",
      "ar_compactnesscls : \n",
      "ar_lengthunit : \n",
      "ar_mcintoshcls : HSX\n",
      "ar_mtwilsoncls : ALPHAGAMMA-DELTA\n",
      "ar_noaaclass : \n",
      "ar_noaanum : 12435\n",
      "ar_numspots : 1\n",
      "ar_penumbracls : \n",
      "ar_spotarearawunit : \n",
      "ar_spotareareprunit : \n",
      "ar_zurichcls : \n",
      "area_atdiskcenter : 60873508\n",
      "area_unit : km2\n",
      "bound_chaincode : \n",
      "boundbox_c1ll : -17.5\n",
      "boundbox_c1ur : -16.5\n",
      "boundbox_c2ll : -15.20626449584961\n",
      "boundbox_c2ur : -14.79373550415039\n",
      "chaincodetype : \n",
      "comment_count : 0\n",
      "concept : Active Region\n",
      "currentdensityunit : \n",
      "currenthelicityunit : \n",
      "currentunit : \n",
      "event_c1error : 0.5\n",
      "event_c2error : 0.20626500248908997\n",
      "event_clippedspatial : \n",
      "event_clippedtemporal : \n",
      "event_coord1 : -17\n",
      "event_coord2 : -15\n",
      "event_coordsys : UTC-HGS-TOPO\n",
      "event_coordunit : deg deg\n",
      "event_description : Note: Latitudinal extent not provided by SWPC and is calculated assuming area=lat_ext*long_ext.\n",
      "event_endtime : 2015-10-21T23:59:59\n",
      "event_expires : \n",
      "event_importance_num_ratings : \n",
      "event_mapurl : \n",
      "event_maskurl : \n",
      "event_pixelunit : \n",
      "event_probability : 1\n",
      "event_score : 0.00727272723623376919\n",
      "event_starttime : 2015-10-21T00:00:00\n",
      "event_testflag : false\n",
      "event_title : \n",
      "event_type : AR\n",
      "eventtype : 1\n",
      "frm_contact : http://www.swpc.noaa.gov/\n",
      "frm_daterun : 2015-10-21T02:35:35\n",
      "frm_humanflag : true\n",
      "frm_identifier : NOAA SWPC\n",
      "frm_institute : NOAA Space Weather Prediction Center\n",
      "frm_name : NOAA SWPC Observer\n",
      "frm_paramset : N/A\n",
      "frm_specificid : \n",
      "frm_url : N/A\n",
      "gradientunit : \n",
      "gs_galleryid : \n",
      "gs_imageurl : \n",
      "gs_movieurl : \n",
      "gs_thumburl : \n",
      "gwillunit : \n",
      "hcr_checked : true\n",
      "hgc_bbox : POLYGON((125.79325 -15.206264,126.79325 -15.206264,126.79325 -14.793736,125.79325 -14.793736,125.79325 -15.206264))\n",
      "hgc_boundcc : \n",
      "hgc_coord : POINT(126.29325 -15)\n",
      "hgc_x : 126.29325\n",
      "hgc_y : -15\n",
      "hgs_bbox : POLYGON((-17.5 -15.206264,-16.5 -15.206264,-16.5 -14.793736,-17.5 -14.793736,-17.5 -15.206264))\n",
      "hgs_boundcc : \n",
      "hgs_coord : POINT(-17 -15)\n",
      "hgs_x : -17\n",
      "hgs_y : -15\n",
      "highshearareaunit : \n",
      "hpc_bbox : POLYGON((-280.6518 -336.9432,-265.0806 -337.4022,-265.5954 -330.8736,-281.1972 -330.4134,-280.6518 -336.9432))\n",
      "hpc_boundcc : \n",
      "hpc_coord : POINT(-273.1434 -333.9138)\n",
      "hpc_geom : 010300000001000000050000008638D6C56D8A71C06519E258170F75C0ECC039234A9170C0386744696F1675C09D8026C2869970C0925CFE43FAAD74C057EC2FBB279371C0AA8251499DA674C08638D6C56D8A71C06519E258170F75C0\n",
      "hpc_radius : 431.399748254446649\n",
      "hpc_x : -273.1434\n",
      "hpc_y : -333.9138\n",
      "hrc_a : 140.716637313087\n",
      "hrc_bbox : POLYGON((0.455298 140.207899,0.445499 141.844992,0.440523 141.245655,0.450476 139.600668,0.455298 140.207899))\n",
      "hrc_boundcc : \n",
      "hrc_coord : POINT(0.447909127776045 140.716637313087)\n",
      "hrc_r : 0.447909127776045\n",
      "intensunit : \n",
      "kb_archivdate : 2015-10-21T02:35:36\n",
      "kb_archivid : ivo://helio-informatics.org/AR_NOAASWPCObserver_20151021_023535_NOAA12435_20151021\n",
      "kb_archivist : cheung_mark\n",
      "magfluxunit : \n",
      "maxmagfieldstrengthunit : \n",
      "meanenergydensityunit : \n",
      "noposition : false\n",
      "obs_channelid : visible\n",
      "obs_dataprepurl : \n",
      "obs_firstprocessingdate : \n",
      "obs_includesnrt : \n",
      "obs_instrument : various\n",
      "obs_lastprocessingdate : \n",
      "obs_meanwavel : 5e-05\n",
      "obs_observatory : various\n",
      "obs_title : \n",
      "obs_wavelunit : cm\n",
      "rasterscan : \n",
      "rasterscantype : \n",
      "refs : [{'ref_name': 'FRM_URL', 'ref_type': 'unknown', 'ref_url': 'N/A'}\n",
      " {'ref_name': 'NASA Solar Monitor', 'ref_type': 'html', 'ref_url': 'http://www.solarmonitor.org/region.php?date=20151021%26region=12435'}]\n",
      "refs_orig : \n",
      "revision : 1\n",
      "search_channelid : visible\n",
      "search_frm_name : SWPC\n",
      "search_instrument : nil\n",
      "search_observatory : nil\n",
      "sharp_noaa_ars : \n",
      "sum_overlap_scores : 0\n",
      "totalenergydensityunit : \n",
      "totalphotoenergyunit : \n",
      "twistunit : \n"
     ]
    }
   ],
   "source": [
    "for k in r.colnames:\n",
    "    if (r[k] is not None):\n",
    "\n",
    "        print(k, ':', r[k])"
   ]
  },
  {
   "cell_type": "code",
   "execution_count": 139,
   "metadata": {},
   "outputs": [
    {
     "name": "stdout",
     "output_type": "stream",
     "text": [
      "SOL_standard : SOL2015-10-21T00:00:00L126C105\n",
      "absnetcurrenthelicity : None\n",
      "active : true\n",
      "ar_axislength : None\n",
      "ar_compactnesscls : \n",
      "ar_lengthunit : \n",
      "ar_mcintoshcls : HSX\n",
      "ar_mtwilsoncls : ALPHAGAMMA-DELTA\n",
      "ar_neutrallength : None\n",
      "ar_noaaclass : \n",
      "ar_noaanum : 12435\n",
      "ar_numspots : 1\n",
      "ar_penumbracls : \n",
      "ar_pilcurvature : None\n",
      "ar_polarity : None\n",
      "ar_spotarearaw : None\n",
      "ar_spotarearawuncert : None\n",
      "ar_spotarearawunit : \n",
      "ar_spotarearepr : None\n",
      "ar_spotarearepruncert : None\n",
      "ar_spotareareprunit : \n",
      "ar_sumnegsignedflux : None\n",
      "ar_sumpossignedflux : None\n",
      "ar_zurichcls : \n",
      "area_atdiskcenter : 60873508\n",
      "area_atdiskcenteruncert : None\n",
      "area_raw : None\n",
      "area_uncert : None\n",
      "area_unit : km2\n",
      "bound_ccnsteps : None\n",
      "bound_ccstartc1 : None\n",
      "bound_ccstartc2 : None\n",
      "bound_chaincode : \n",
      "boundbox_c1ll : -17.5\n",
      "boundbox_c1ur : -16.5\n",
      "boundbox_c2ll : -15.20626449584961\n",
      "boundbox_c2ur : -14.79373550415039\n",
      "chaincodetype : \n",
      "comment_count : 0\n",
      "concept : Active Region\n",
      "currentdensityunit : \n",
      "currenthelicityunit : \n",
      "currentunit : \n",
      "event_avg_rating : None\n",
      "event_c1error : 0.5\n",
      "event_c2error : 0.20626500248908997\n",
      "event_clippedspatial : \n",
      "event_clippedtemporal : \n",
      "event_coord1 : -17\n",
      "event_coord2 : -15\n",
      "event_coord3 : None\n",
      "event_coordsys : UTC-HGS-TOPO\n",
      "event_coordunit : deg deg\n",
      "event_description : Note: Latitudinal extent not provided by SWPC and is calculated assuming area=lat_ext*long_ext.\n",
      "event_endtime : 2015-10-21T23:59:59\n",
      "event_expires : \n",
      "event_importance : None\n",
      "event_importance_num_ratings : \n",
      "event_mapurl : \n",
      "event_maskurl : \n",
      "event_npixels : None\n",
      "event_pixelunit : \n",
      "event_probability : 1\n",
      "event_score : 0.00727272723623376919\n",
      "event_starttime : 2015-10-21T00:00:00\n",
      "event_testflag : false\n",
      "event_title : \n",
      "event_type : AR\n",
      "eventtype : 1\n",
      "frm_contact : http://www.swpc.noaa.gov/\n",
      "frm_daterun : 2015-10-21T02:35:35\n",
      "frm_humanflag : true\n",
      "frm_identifier : NOAA SWPC\n",
      "frm_institute : NOAA Space Weather Prediction Center\n",
      "frm_name : NOAA SWPC Observer\n",
      "frm_paramset : N/A\n",
      "frm_specificid : \n",
      "frm_url : N/A\n",
      "frm_versionnumber : None\n",
      "gradientunit : \n",
      "gs_galleryid : \n",
      "gs_imageurl : \n",
      "gs_movieurl : \n",
      "gs_thumburl : \n",
      "gwill : None\n",
      "gwillunit : \n",
      "hcr_checked : true\n",
      "hgc_bbox : POLYGON((125.79325 -15.206264,126.79325 -15.206264,126.79325 -14.793736,125.79325 -14.793736,125.79325 -15.206264))\n",
      "hgc_boundcc : \n",
      "hgc_coord : POINT(126.29325 -15)\n",
      "hgc_x : 126.29325\n",
      "hgc_y : -15\n",
      "hgs_bbox : POLYGON((-17.5 -15.206264,-16.5 -15.206264,-16.5 -14.793736,-17.5 -14.793736,-17.5 -15.206264))\n",
      "hgs_boundcc : \n",
      "hgs_coord : POINT(-17 -15)\n",
      "hgs_x : -17\n",
      "hgs_y : -15\n",
      "highsheararea : None\n",
      "highshearareapercent : None\n",
      "highshearareaunit : \n",
      "hpc_bbox : POLYGON((-280.6518 -336.9432,-265.0806 -337.4022,-265.5954 -330.8736,-281.1972 -330.4134,-280.6518 -336.9432))\n",
      "hpc_boundcc : \n",
      "hpc_coord : POINT(-273.1434 -333.9138)\n",
      "hpc_geom : 010300000001000000050000008638D6C56D8A71C06519E258170F75C0ECC039234A9170C0386744696F1675C09D8026C2869970C0925CFE43FAAD74C057EC2FBB279371C0AA8251499DA674C08638D6C56D8A71C06519E258170F75C0\n",
      "hpc_radius : 431.399748254446649\n",
      "hpc_x : -273.1434\n",
      "hpc_y : -333.9138\n",
      "hrc_a : 140.716637313087\n",
      "hrc_bbox : POLYGON((0.455298 140.207899,0.445499 141.844992,0.440523 141.245655,0.450476 139.600668,0.455298 140.207899))\n",
      "hrc_boundcc : \n",
      "hrc_coord : POINT(0.447909127776045 140.716637313087)\n",
      "hrc_r : 0.447909127776045\n",
      "intenskurt : None\n",
      "intensmax : None\n",
      "intensmean : None\n",
      "intensmedian : None\n",
      "intensmin : None\n",
      "intensskew : None\n",
      "intenstotal : None\n",
      "intensunit : \n",
      "intensvar : None\n",
      "kb_archivdate : 2015-10-21T02:35:36\n",
      "kb_archivid : ivo://helio-informatics.org/AR_NOAASWPCObserver_20151021_023535_NOAA12435_20151021\n",
      "kb_archivist : cheung_mark\n",
      "log_r_value : None\n",
      "magfluxunit : \n",
      "maxmagfieldstrength : None\n",
      "maxmagfieldstrengthunit : \n",
      "meancurrenthelicity : None\n",
      "meanenergydensityunit : \n",
      "meangradienthorz : None\n",
      "meangradienttotal : None\n",
      "meangradientvert : None\n",
      "meaninclinationgamma : None\n",
      "meanphotoenergydensity : None\n",
      "meanshearangle : None\n",
      "meantwistalpha : None\n",
      "meanvertcurrentdensity : None\n",
      "noposition : false\n",
      "obs_channelid : visible\n",
      "obs_dataprepurl : \n",
      "obs_firstprocessingdate : \n",
      "obs_includesnrt : \n",
      "obs_instrument : various\n",
      "obs_lastprocessingdate : \n",
      "obs_levelnum : None\n",
      "obs_meanwavel : 5e-05\n",
      "obs_observatory : various\n",
      "obs_title : \n",
      "obs_wavelunit : cm\n",
      "rasterscan : \n",
      "rasterscantype : \n",
      "refs : [{'ref_name': 'FRM_URL', 'ref_type': 'unknown', 'ref_url': 'N/A'}\n",
      " {'ref_name': 'NASA Solar Monitor', 'ref_type': 'html', 'ref_url': 'http://www.solarmonitor.org/region.php?date=20151021%26region=12435'}]\n",
      "refs_orig : \n",
      "revision : 1\n",
      "savncpp : None\n",
      "search_channelid : visible\n",
      "search_frm_name : SWPC\n",
      "search_instrument : nil\n",
      "search_observatory : nil\n",
      "sharp_noaa_ars : \n",
      "sum_overlap_scores : 0\n",
      "totalenergydensityunit : \n",
      "totalphotoenergy : None\n",
      "totalphotoenergydensity : None\n",
      "totalphotoenergyunit : \n",
      "twistunit : \n",
      "unsignedcurrenthelicity : None\n",
      "unsignedflux : None\n",
      "unsignedvertcurrent : None\n"
     ]
    }
   ],
   "source": [
    "for k in r.colnames:\n",
    "    print(k, ':', r[k])"
   ]
  },
  {
   "cell_type": "code",
   "execution_count": 140,
   "metadata": {},
   "outputs": [],
   "source": [
    "new_columns = ['ar_noaanum', 'event_starttime', 'event_endtime', \n",
    "               'hpc_coord', 'hgs_coord', 'hgc_coord', 'frm_humanflag', 'frm_name',\n",
    "               'frm_daterun', 'ar_mtwilsoncls', 'ar_mcintoshcls', 'SOL_standard', \n",
    "              'ar_numspots', 'area_atdiskcenter', 'area_unit', 'refs']\n",
    "new_table = result[new_columns]"
   ]
  },
  {
   "cell_type": "code",
   "execution_count": 141,
   "metadata": {},
   "outputs": [
    {
     "data": {
      "text/html": [
       "<i>HEKTable length=4</i>\n",
       "<table id=\"table4810913392\" class=\"table-striped table-bordered table-condensed\">\n",
       "<thead><tr><th>ar_noaanum</th><th>event_starttime</th><th>event_endtime</th><th>hpc_coord</th><th>hgs_coord</th><th>hgc_coord</th><th>frm_humanflag</th><th>frm_name</th><th>frm_daterun</th><th>ar_mtwilsoncls</th><th>ar_mcintoshcls</th><th>SOL_standard</th><th>ar_numspots</th><th>area_atdiskcenter</th><th>area_unit</th><th>refs [2]</th></tr></thead>\n",
       "<thead><tr><th>int64</th><th>str19</th><th>str19</th><th>str26</th><th>str14</th><th>str20</th><th>str4</th><th>str18</th><th>str19</th><th>str16</th><th>str3</th><th>str30</th><th>int64</th><th>int64</th><th>str3</th><th>object</th></tr></thead>\n",
       "<tr><td>12434</td><td>2015-10-21T00:00:00</td><td>2015-10-21T23:59:59</td><td>POINT(356.8068 -250.9314)</td><td>POINT(22 -10)</td><td>POINT(165.29325 -10)</td><td>true</td><td>NOAA SWPC Observer</td><td>2015-10-21T02:35:34</td><td>BETA-GAMMA-DELTA</td><td>DAI</td><td>SOL2015-10-21T00:00:00L165C100</td><td>14</td><td>639171840</td><td>km2</td><td>{&apos;ref_name&apos;: &apos;FRM_URL&apos;, &apos;ref_type&apos;: &apos;unknown&apos;, &apos;ref_url&apos;: &apos;N/A&apos;} .. {&apos;ref_name&apos;: &apos;NASA Solar Monitor&apos;, &apos;ref_type&apos;: &apos;html&apos;, &apos;ref_url&apos;: &apos;http://www.solarmonitor.org/region.php?date=20151021%26region=12434&apos;}</td></tr>\n",
       "<tr><td>12435</td><td>2015-10-21T00:00:00</td><td>2015-10-21T23:59:59</td><td>POINT(-273.1434 -333.9138)</td><td>POINT(-17 -15)</td><td>POINT(126.29325 -15)</td><td>true</td><td>NOAA SWPC Observer</td><td>2015-10-21T02:35:35</td><td>ALPHAGAMMA-DELTA</td><td>HSX</td><td>SOL2015-10-21T00:00:00L126C105</td><td>1</td><td>60873508</td><td>km2</td><td>{&apos;ref_name&apos;: &apos;FRM_URL&apos;, &apos;ref_type&apos;: &apos;unknown&apos;, &apos;ref_url&apos;: &apos;N/A&apos;} .. {&apos;ref_name&apos;: &apos;NASA Solar Monitor&apos;, &apos;ref_type&apos;: &apos;html&apos;, &apos;ref_url&apos;: &apos;http://www.solarmonitor.org/region.php?date=20151021%26region=12435&apos;}</td></tr>\n",
       "<tr><td>12436</td><td>2015-10-21T00:00:00</td><td>2015-10-21T23:59:59</td><td>POINT(-477.576 72.165)</td><td>POINT(-30 9)</td><td>POINT(113.29325 9)</td><td>true</td><td>NOAA SWPC Observer</td><td>2015-10-21T02:35:36</td><td>BETA-DELTA-DELTA</td><td>EAI</td><td>SOL2015-10-21T00:00:00L113C081</td><td>18</td><td>730482112</td><td>km2</td><td>{&apos;ref_name&apos;: &apos;FRM_URL&apos;, &apos;ref_type&apos;: &apos;unknown&apos;, &apos;ref_url&apos;: &apos;N/A&apos;} .. {&apos;ref_name&apos;: &apos;NASA Solar Monitor&apos;, &apos;ref_type&apos;: &apos;html&apos;, &apos;ref_url&apos;: &apos;http://www.solarmonitor.org/region.php?date=20151021%26region=12436&apos;}</td></tr>\n",
       "<tr><td>12437</td><td>2015-10-21T00:00:00</td><td>2015-10-21T23:59:59</td><td>POINT(-652.926 -388.6668)</td><td>POINT(-46 -20)</td><td>POINT(97.29325 -20)</td><td>true</td><td>NOAA SWPC Observer</td><td>2015-10-21T02:35:37</td><td>BETA-DELTA-DELTA</td><td>CAO</td><td>SOL2015-10-21T00:00:00L097C110</td><td>4</td><td>152183776</td><td>km2</td><td>{&apos;ref_name&apos;: &apos;FRM_URL&apos;, &apos;ref_type&apos;: &apos;unknown&apos;, &apos;ref_url&apos;: &apos;N/A&apos;} .. {&apos;ref_name&apos;: &apos;NASA Solar Monitor&apos;, &apos;ref_type&apos;: &apos;html&apos;, &apos;ref_url&apos;: &apos;http://www.solarmonitor.org/region.php?date=20151021%26region=12437&apos;}</td></tr>\n",
       "</table>"
      ],
      "text/plain": [
       "<HEKTable length=4>\n",
       "ar_noaanum ...\n",
       "  int64    ...\n",
       "---------- ...\n",
       "     12434 ...\n",
       "     12435 ...\n",
       "     12436 ...\n",
       "     12437 ..."
      ]
     },
     "execution_count": 141,
     "metadata": {},
     "output_type": "execute_result"
    }
   ],
   "source": [
    "new_table.sort('ar_noaanum')\n",
    "new_table"
   ]
  },
  {
   "cell_type": "code",
   "execution_count": 142,
   "metadata": {},
   "outputs": [],
   "source": [
    "from sunpy.coordinates import frames\n",
    "from astropy.coordinates import SkyCoord\n",
    "from astropy import units as u"
   ]
  },
  {
   "cell_type": "code",
   "execution_count": 143,
   "metadata": {},
   "outputs": [],
   "source": [
    "test_hpc = SkyCoord(-662.5326*u.arcsec, 96.135824*u.arcsec, frame=frames.Helioprojective, observer='earth', \n",
    "                   obstime='2017-09-06')"
   ]
  },
  {
   "cell_type": "code",
   "execution_count": 129,
   "metadata": {},
   "outputs": [
    {
     "data": {
      "text/plain": [
       "<SkyCoord (HeliographicStonyhurst: obstime=2017-09-06T00:00:00.000): (lon, lat, radius) in (deg, deg, AU)\n",
       "    (-44.97281525, 10.9417797, 0.00465047)>"
      ]
     },
     "execution_count": 129,
     "metadata": {},
     "output_type": "execute_result"
    }
   ],
   "source": [
    "test_hpc.transform_to(frames.HeliographicStonyhurst)"
   ]
  },
  {
   "cell_type": "code",
   "execution_count": 130,
   "metadata": {},
   "outputs": [
    {
     "data": {
      "text/plain": [
       "<SkyCoord (HeliographicCarrington: obstime=2017-09-06T00:00:00.000, observer=<HeliographicStonyhurst Coordinate for 'earth'>): (lon, lat, radius) in (deg, deg, AU)\n",
       "    (43.8359103, 10.9417797, 0.00465047)>"
      ]
     },
     "execution_count": 130,
     "metadata": {},
     "output_type": "execute_result"
    }
   ],
   "source": [
    "test_hpc.transform_to(frames.HeliographicCarrington)"
   ]
  },
  {
   "cell_type": "code",
   "execution_count": 71,
   "metadata": {},
   "outputs": [],
   "source": [
    "test2 = SkyCoord(28*u.deg, -21*u.deg, frame=frames.HeliographicCarrington, obstime='2011-02-15', observer='earth')"
   ]
  },
  {
   "cell_type": "code",
   "execution_count": 72,
   "metadata": {},
   "outputs": [
    {
     "data": {
      "text/plain": [
       "<SkyCoord (Helioprojective: obstime=2011-02-15T00:00:00.000, rsun=695700.0 km, observer=<HeliographicStonyhurst Coordinate for 'earth'>): (Tx, Ty, distance) in (arcsec, arcsec, km)\n",
       "    (83.41621691, -239.57455401, 1.47068659e+08)>"
      ]
     },
     "execution_count": 72,
     "metadata": {},
     "output_type": "execute_result"
    }
   ],
   "source": [
    "test2.transform_to(frames.Helioprojective)"
   ]
  },
  {
   "cell_type": "code",
   "execution_count": 132,
   "metadata": {},
   "outputs": [
    {
     "data": {
      "text/plain": [
       "['ar_noaanum',\n",
       " 'event_starttime',\n",
       " 'event_endtime',\n",
       " 'hpc_coord',\n",
       " 'hgs_coord',\n",
       " 'hgc_coord',\n",
       " 'frm_humanflag',\n",
       " 'frm_name',\n",
       " 'frm_daterun',\n",
       " 'ar_mtwilsoncls',\n",
       " 'ar_mcintoshcls',\n",
       " 'SOL_standard',\n",
       " 'ar_numspots',\n",
       " 'area_atdiskcenter',\n",
       " 'area_unit',\n",
       " 'refs']"
      ]
     },
     "execution_count": 132,
     "metadata": {},
     "output_type": "execute_result"
    }
   ],
   "source": [
    "new_table.colnames"
   ]
  },
  {
   "cell_type": "code",
   "execution_count": 133,
   "metadata": {},
   "outputs": [
    {
     "data": {
      "text/html": [
       "<i>HEKTable length=6</i>\n",
       "<table id=\"table4821199456\" class=\"table-striped table-bordered table-condensed\">\n",
       "<thead><tr><th>ar_noaanum</th><th>event_starttime</th><th>event_endtime</th><th>hpc_coord</th><th>hgs_coord</th><th>hgc_coord</th><th>frm_humanflag</th><th>frm_name</th><th>frm_daterun</th><th>ar_mtwilsoncls</th><th>ar_mcintoshcls</th><th>SOL_standard</th><th>ar_numspots</th><th>area_atdiskcenter</th><th>area_unit</th><th>refs [2]</th></tr></thead>\n",
       "<thead><tr><th>int64</th><th>str19</th><th>str19</th><th>str29</th><th>str13</th><th>str18</th><th>str4</th><th>str18</th><th>str19</th><th>str16</th><th>str3</th><th>str30</th><th>int64</th><th>int64</th><th>str3</th><th>object</th></tr></thead>\n",
       "<tr><td>12673</td><td>2017-09-06T00:00:00</td><td>2017-09-06T23:59:59</td><td>POINT(471.628338 -251.205186)</td><td>POINT(30 -9)</td><td>POINT(118.8542 -9)</td><td>true</td><td>NOAA SWPC Observer</td><td>2017-09-06T02:36:01</td><td>BETA-GAMMA-DELTA</td><td>DKC</td><td>SOL2017-09-06T00:00:00L118C099</td><td>33</td><td>2678434560</td><td>km2</td><td>{&apos;ref_name&apos;: &apos;FRM_URL&apos;, &apos;ref_type&apos;: &apos;unknown&apos;, &apos;ref_url&apos;: &apos;N/A&apos;} .. {&apos;ref_name&apos;: &apos;NASA Solar Monitor&apos;, &apos;ref_type&apos;: &apos;html&apos;, &apos;ref_url&apos;: &apos;http://www.solarmonitor.org/region.php?date=20170906%26region=12673&apos;}</td></tr>\n",
       "<tr><td>12674</td><td>2017-09-06T00:00:00</td><td>2017-09-06T23:59:59</td><td>POINT(224.317272 115.898784)</td><td>POINT(14 14)</td><td>POINT(102.8542 14)</td><td>true</td><td>NOAA SWPC Observer</td><td>2017-09-06T02:36:03</td><td>BETA</td><td>FHI</td><td>SOL2017-09-06T00:00:00L102C076</td><td>23</td><td>2069699328</td><td>km2</td><td>{&apos;ref_name&apos;: &apos;FRM_URL&apos;, &apos;ref_type&apos;: &apos;unknown&apos;, &apos;ref_url&apos;: &apos;N/A&apos;} .. {&apos;ref_name&apos;: &apos;NASA Solar Monitor&apos;, &apos;ref_type&apos;: &apos;html&apos;, &apos;ref_url&apos;: &apos;http://www.solarmonitor.org/region.php?date=20170906%26region=12674&apos;}</td></tr>\n",
       "<tr><td>12675</td><td>2017-09-06T00:00:00</td><td>2017-09-06T23:59:59</td><td>POINT(935.60298 -131.66115)</td><td>POINT(82 -7)</td><td>POINT(170.8542 -7)</td><td>true</td><td>NOAA SWPC Observer</td><td>2017-09-06T02:36:04</td><td>BETA</td><td>BXO</td><td>SOL2017-09-06T00:00:00L170C097</td><td>1</td><td>30436754</td><td>km2</td><td>{&apos;ref_name&apos;: &apos;FRM_URL&apos;, &apos;ref_type&apos;: &apos;unknown&apos;, &apos;ref_url&apos;: &apos;N/A&apos;} .. {&apos;ref_name&apos;: &apos;NASA Solar Monitor&apos;, &apos;ref_type&apos;: &apos;html&apos;, &apos;ref_url&apos;: &apos;http://www.solarmonitor.org/region.php?date=20170906%26region=12675&apos;}</td></tr>\n",
       "<tr><td>12676</td><td>2017-09-06T00:00:00</td><td>2017-09-06T23:59:59</td><td>POINT(912.64956 -176.478282)</td><td>POINT(76 -9)</td><td>POINT(164.8542 -9)</td><td>true</td><td>NOAA SWPC Observer</td><td>2017-09-06T02:36:05</td><td>BETA</td><td>BXO</td><td>SOL2017-09-06T00:00:00L164C099</td><td>2</td><td>91310264</td><td>km2</td><td>{&apos;ref_name&apos;: &apos;FRM_URL&apos;, &apos;ref_type&apos;: &apos;unknown&apos;, &apos;ref_url&apos;: &apos;N/A&apos;} .. {&apos;ref_name&apos;: &apos;NASA Solar Monitor&apos;, &apos;ref_type&apos;: &apos;html&apos;, &apos;ref_url&apos;: &apos;http://www.solarmonitor.org/region.php?date=20170906%26region=12676&apos;}</td></tr>\n",
       "<tr><td>12677</td><td>2017-09-06T00:00:00</td><td>2017-09-06T23:59:59</td><td>POINT(-571.444266 203.706072)</td><td>POINT(-39 18)</td><td>POINT(49.8542 18)</td><td>true</td><td>NOAA SWPC Observer</td><td>2017-09-06T02:36:06</td><td>ALPHA</td><td>AXX</td><td>SOL2017-09-06T00:00:00L049C072</td><td>1</td><td>60873508</td><td>km2</td><td>{&apos;ref_name&apos;: &apos;FRM_URL&apos;, &apos;ref_type&apos;: &apos;unknown&apos;, &apos;ref_url&apos;: &apos;N/A&apos;} .. {&apos;ref_name&apos;: &apos;NASA Solar Monitor&apos;, &apos;ref_type&apos;: &apos;html&apos;, &apos;ref_url&apos;: &apos;http://www.solarmonitor.org/region.php?date=20170906%26region=12677&apos;}</td></tr>\n",
       "<tr><td>12678</td><td>2017-09-06T00:00:00</td><td>2017-09-06T23:59:59</td><td>POINT(-662.5326 97.135824)</td><td>POINT(-45 11)</td><td>POINT(43.8542 11)</td><td>true</td><td>NOAA SWPC Observer</td><td>2017-09-06T02:36:08</td><td>BETA</td><td>BXO</td><td>SOL2017-09-06T00:00:00L043C079</td><td>2</td><td>30436754</td><td>km2</td><td>{&apos;ref_name&apos;: &apos;FRM_URL&apos;, &apos;ref_type&apos;: &apos;unknown&apos;, &apos;ref_url&apos;: &apos;N/A&apos;} .. {&apos;ref_name&apos;: &apos;NASA Solar Monitor&apos;, &apos;ref_type&apos;: &apos;html&apos;, &apos;ref_url&apos;: &apos;http://www.solarmonitor.org/region.php?date=20170906%26region=12678&apos;}</td></tr>\n",
       "</table>"
      ],
      "text/plain": [
       "<HEKTable length=6>\n",
       "ar_noaanum ...\n",
       "  int64    ...\n",
       "---------- ...\n",
       "     12673 ...\n",
       "     12674 ...\n",
       "     12675 ...\n",
       "     12676 ...\n",
       "     12677 ...\n",
       "     12678 ..."
      ]
     },
     "execution_count": 133,
     "metadata": {},
     "output_type": "execute_result"
    }
   ],
   "source": [
    "new_table"
   ]
  },
  {
   "cell_type": "markdown",
   "metadata": {},
   "source": [
    "# Reading in all the data "
   ]
  },
  {
   "cell_type": "code",
   "execution_count": 1,
   "metadata": {},
   "outputs": [
    {
     "ename": "FileNotFoundError",
     "evalue": "[Errno 2] File all_ar_2010-2020.csv does not exist: 'all_ar_2010-2020.csv'",
     "output_type": "error",
     "traceback": [
      "\u001b[0;31m---------------------------------------------------------------------------\u001b[0m",
      "\u001b[0;31mFileNotFoundError\u001b[0m                         Traceback (most recent call last)",
      "\u001b[0;32m<ipython-input-1-8935719c402c>\u001b[0m in \u001b[0;36m<module>\u001b[0;34m\u001b[0m\n\u001b[1;32m      1\u001b[0m \u001b[0;32mimport\u001b[0m \u001b[0mpandas\u001b[0m \u001b[0;32mas\u001b[0m \u001b[0mpd\u001b[0m\u001b[0;34m\u001b[0m\u001b[0;34m\u001b[0m\u001b[0m\n\u001b[1;32m      2\u001b[0m \u001b[0;32mimport\u001b[0m \u001b[0mmatplotlib\u001b[0m\u001b[0;34m.\u001b[0m\u001b[0mpyplot\u001b[0m \u001b[0;32mas\u001b[0m \u001b[0mplt\u001b[0m\u001b[0;34m\u001b[0m\u001b[0;34m\u001b[0m\u001b[0m\n\u001b[0;32m----> 3\u001b[0;31m \u001b[0mall_data\u001b[0m \u001b[0;34m=\u001b[0m \u001b[0mpd\u001b[0m\u001b[0;34m.\u001b[0m\u001b[0mread_csv\u001b[0m\u001b[0;34m(\u001b[0m\u001b[0;34m'all_ar_2010-2020.csv'\u001b[0m\u001b[0;34m)\u001b[0m\u001b[0;34m\u001b[0m\u001b[0;34m\u001b[0m\u001b[0m\n\u001b[0m",
      "\u001b[0;32m~/opt/miniconda3/envs/sunpy_dev/lib/python3.8/site-packages/pandas/io/parsers.py\u001b[0m in \u001b[0;36mparser_f\u001b[0;34m(filepath_or_buffer, sep, delimiter, header, names, index_col, usecols, squeeze, prefix, mangle_dupe_cols, dtype, engine, converters, true_values, false_values, skipinitialspace, skiprows, skipfooter, nrows, na_values, keep_default_na, na_filter, verbose, skip_blank_lines, parse_dates, infer_datetime_format, keep_date_col, date_parser, dayfirst, cache_dates, iterator, chunksize, compression, thousands, decimal, lineterminator, quotechar, quoting, doublequote, escapechar, comment, encoding, dialect, error_bad_lines, warn_bad_lines, delim_whitespace, low_memory, memory_map, float_precision)\u001b[0m\n\u001b[1;32m    674\u001b[0m         )\n\u001b[1;32m    675\u001b[0m \u001b[0;34m\u001b[0m\u001b[0m\n\u001b[0;32m--> 676\u001b[0;31m         \u001b[0;32mreturn\u001b[0m \u001b[0m_read\u001b[0m\u001b[0;34m(\u001b[0m\u001b[0mfilepath_or_buffer\u001b[0m\u001b[0;34m,\u001b[0m \u001b[0mkwds\u001b[0m\u001b[0;34m)\u001b[0m\u001b[0;34m\u001b[0m\u001b[0;34m\u001b[0m\u001b[0m\n\u001b[0m\u001b[1;32m    677\u001b[0m \u001b[0;34m\u001b[0m\u001b[0m\n\u001b[1;32m    678\u001b[0m     \u001b[0mparser_f\u001b[0m\u001b[0;34m.\u001b[0m\u001b[0m__name__\u001b[0m \u001b[0;34m=\u001b[0m \u001b[0mname\u001b[0m\u001b[0;34m\u001b[0m\u001b[0;34m\u001b[0m\u001b[0m\n",
      "\u001b[0;32m~/opt/miniconda3/envs/sunpy_dev/lib/python3.8/site-packages/pandas/io/parsers.py\u001b[0m in \u001b[0;36m_read\u001b[0;34m(filepath_or_buffer, kwds)\u001b[0m\n\u001b[1;32m    446\u001b[0m \u001b[0;34m\u001b[0m\u001b[0m\n\u001b[1;32m    447\u001b[0m     \u001b[0;31m# Create the parser.\u001b[0m\u001b[0;34m\u001b[0m\u001b[0;34m\u001b[0m\u001b[0;34m\u001b[0m\u001b[0m\n\u001b[0;32m--> 448\u001b[0;31m     \u001b[0mparser\u001b[0m \u001b[0;34m=\u001b[0m \u001b[0mTextFileReader\u001b[0m\u001b[0;34m(\u001b[0m\u001b[0mfp_or_buf\u001b[0m\u001b[0;34m,\u001b[0m \u001b[0;34m**\u001b[0m\u001b[0mkwds\u001b[0m\u001b[0;34m)\u001b[0m\u001b[0;34m\u001b[0m\u001b[0;34m\u001b[0m\u001b[0m\n\u001b[0m\u001b[1;32m    449\u001b[0m \u001b[0;34m\u001b[0m\u001b[0m\n\u001b[1;32m    450\u001b[0m     \u001b[0;32mif\u001b[0m \u001b[0mchunksize\u001b[0m \u001b[0;32mor\u001b[0m \u001b[0miterator\u001b[0m\u001b[0;34m:\u001b[0m\u001b[0;34m\u001b[0m\u001b[0;34m\u001b[0m\u001b[0m\n",
      "\u001b[0;32m~/opt/miniconda3/envs/sunpy_dev/lib/python3.8/site-packages/pandas/io/parsers.py\u001b[0m in \u001b[0;36m__init__\u001b[0;34m(self, f, engine, **kwds)\u001b[0m\n\u001b[1;32m    878\u001b[0m             \u001b[0mself\u001b[0m\u001b[0;34m.\u001b[0m\u001b[0moptions\u001b[0m\u001b[0;34m[\u001b[0m\u001b[0;34m\"has_index_names\"\u001b[0m\u001b[0;34m]\u001b[0m \u001b[0;34m=\u001b[0m \u001b[0mkwds\u001b[0m\u001b[0;34m[\u001b[0m\u001b[0;34m\"has_index_names\"\u001b[0m\u001b[0;34m]\u001b[0m\u001b[0;34m\u001b[0m\u001b[0;34m\u001b[0m\u001b[0m\n\u001b[1;32m    879\u001b[0m \u001b[0;34m\u001b[0m\u001b[0m\n\u001b[0;32m--> 880\u001b[0;31m         \u001b[0mself\u001b[0m\u001b[0;34m.\u001b[0m\u001b[0m_make_engine\u001b[0m\u001b[0;34m(\u001b[0m\u001b[0mself\u001b[0m\u001b[0;34m.\u001b[0m\u001b[0mengine\u001b[0m\u001b[0;34m)\u001b[0m\u001b[0;34m\u001b[0m\u001b[0;34m\u001b[0m\u001b[0m\n\u001b[0m\u001b[1;32m    881\u001b[0m \u001b[0;34m\u001b[0m\u001b[0m\n\u001b[1;32m    882\u001b[0m     \u001b[0;32mdef\u001b[0m \u001b[0mclose\u001b[0m\u001b[0;34m(\u001b[0m\u001b[0mself\u001b[0m\u001b[0;34m)\u001b[0m\u001b[0;34m:\u001b[0m\u001b[0;34m\u001b[0m\u001b[0;34m\u001b[0m\u001b[0m\n",
      "\u001b[0;32m~/opt/miniconda3/envs/sunpy_dev/lib/python3.8/site-packages/pandas/io/parsers.py\u001b[0m in \u001b[0;36m_make_engine\u001b[0;34m(self, engine)\u001b[0m\n\u001b[1;32m   1112\u001b[0m     \u001b[0;32mdef\u001b[0m \u001b[0m_make_engine\u001b[0m\u001b[0;34m(\u001b[0m\u001b[0mself\u001b[0m\u001b[0;34m,\u001b[0m \u001b[0mengine\u001b[0m\u001b[0;34m=\u001b[0m\u001b[0;34m\"c\"\u001b[0m\u001b[0;34m)\u001b[0m\u001b[0;34m:\u001b[0m\u001b[0;34m\u001b[0m\u001b[0;34m\u001b[0m\u001b[0m\n\u001b[1;32m   1113\u001b[0m         \u001b[0;32mif\u001b[0m \u001b[0mengine\u001b[0m \u001b[0;34m==\u001b[0m \u001b[0;34m\"c\"\u001b[0m\u001b[0;34m:\u001b[0m\u001b[0;34m\u001b[0m\u001b[0;34m\u001b[0m\u001b[0m\n\u001b[0;32m-> 1114\u001b[0;31m             \u001b[0mself\u001b[0m\u001b[0;34m.\u001b[0m\u001b[0m_engine\u001b[0m \u001b[0;34m=\u001b[0m \u001b[0mCParserWrapper\u001b[0m\u001b[0;34m(\u001b[0m\u001b[0mself\u001b[0m\u001b[0;34m.\u001b[0m\u001b[0mf\u001b[0m\u001b[0;34m,\u001b[0m \u001b[0;34m**\u001b[0m\u001b[0mself\u001b[0m\u001b[0;34m.\u001b[0m\u001b[0moptions\u001b[0m\u001b[0;34m)\u001b[0m\u001b[0;34m\u001b[0m\u001b[0;34m\u001b[0m\u001b[0m\n\u001b[0m\u001b[1;32m   1115\u001b[0m         \u001b[0;32melse\u001b[0m\u001b[0;34m:\u001b[0m\u001b[0;34m\u001b[0m\u001b[0;34m\u001b[0m\u001b[0m\n\u001b[1;32m   1116\u001b[0m             \u001b[0;32mif\u001b[0m \u001b[0mengine\u001b[0m \u001b[0;34m==\u001b[0m \u001b[0;34m\"python\"\u001b[0m\u001b[0;34m:\u001b[0m\u001b[0;34m\u001b[0m\u001b[0;34m\u001b[0m\u001b[0m\n",
      "\u001b[0;32m~/opt/miniconda3/envs/sunpy_dev/lib/python3.8/site-packages/pandas/io/parsers.py\u001b[0m in \u001b[0;36m__init__\u001b[0;34m(self, src, **kwds)\u001b[0m\n\u001b[1;32m   1889\u001b[0m         \u001b[0mkwds\u001b[0m\u001b[0;34m[\u001b[0m\u001b[0;34m\"usecols\"\u001b[0m\u001b[0;34m]\u001b[0m \u001b[0;34m=\u001b[0m \u001b[0mself\u001b[0m\u001b[0;34m.\u001b[0m\u001b[0musecols\u001b[0m\u001b[0;34m\u001b[0m\u001b[0;34m\u001b[0m\u001b[0m\n\u001b[1;32m   1890\u001b[0m \u001b[0;34m\u001b[0m\u001b[0m\n\u001b[0;32m-> 1891\u001b[0;31m         \u001b[0mself\u001b[0m\u001b[0;34m.\u001b[0m\u001b[0m_reader\u001b[0m \u001b[0;34m=\u001b[0m \u001b[0mparsers\u001b[0m\u001b[0;34m.\u001b[0m\u001b[0mTextReader\u001b[0m\u001b[0;34m(\u001b[0m\u001b[0msrc\u001b[0m\u001b[0;34m,\u001b[0m \u001b[0;34m**\u001b[0m\u001b[0mkwds\u001b[0m\u001b[0;34m)\u001b[0m\u001b[0;34m\u001b[0m\u001b[0;34m\u001b[0m\u001b[0m\n\u001b[0m\u001b[1;32m   1892\u001b[0m         \u001b[0mself\u001b[0m\u001b[0;34m.\u001b[0m\u001b[0munnamed_cols\u001b[0m \u001b[0;34m=\u001b[0m \u001b[0mself\u001b[0m\u001b[0;34m.\u001b[0m\u001b[0m_reader\u001b[0m\u001b[0;34m.\u001b[0m\u001b[0munnamed_cols\u001b[0m\u001b[0;34m\u001b[0m\u001b[0;34m\u001b[0m\u001b[0m\n\u001b[1;32m   1893\u001b[0m \u001b[0;34m\u001b[0m\u001b[0m\n",
      "\u001b[0;32mpandas/_libs/parsers.pyx\u001b[0m in \u001b[0;36mpandas._libs.parsers.TextReader.__cinit__\u001b[0;34m()\u001b[0m\n",
      "\u001b[0;32mpandas/_libs/parsers.pyx\u001b[0m in \u001b[0;36mpandas._libs.parsers.TextReader._setup_parser_source\u001b[0;34m()\u001b[0m\n",
      "\u001b[0;31mFileNotFoundError\u001b[0m: [Errno 2] File all_ar_2010-2020.csv does not exist: 'all_ar_2010-2020.csv'"
     ]
    }
   ],
   "source": [
    "import pandas as pd\n",
    "import matplotlib.pyplot as plt \n",
    "all_data = pd.read_csv('all_ar_2010-2020.csv')"
   ]
  },
  {
   "cell_type": "code",
   "execution_count": null,
   "metadata": {},
   "outputs": [],
   "source": [
    "tt = pd.to_datetime(all_data['event_starttime'])"
   ]
  },
  {
   "cell_type": "code",
   "execution_count": null,
   "metadata": {},
   "outputs": [],
   "source": [
    "times = [(t - tt[0]).total_seconds() for t in tt]"
   ]
  },
  {
   "cell_type": "code",
   "execution_count": null,
   "metadata": {},
   "outputs": [],
   "source": [
    "all_data.keys()"
   ]
  },
  {
   "cell_type": "code",
   "execution_count": 2,
   "metadata": {},
   "outputs": [
    {
     "ename": "NameError",
     "evalue": "name 'all_data' is not defined",
     "output_type": "error",
     "traceback": [
      "\u001b[0;31m---------------------------------------------------------------------------\u001b[0m",
      "\u001b[0;31mNameError\u001b[0m                                 Traceback (most recent call last)",
      "\u001b[0;32m<ipython-input-2-993131abcb70>\u001b[0m in \u001b[0;36m<module>\u001b[0;34m\u001b[0m\n\u001b[1;32m      1\u001b[0m \u001b[0mcircle1\u001b[0m \u001b[0;34m=\u001b[0m \u001b[0mplt\u001b[0m\u001b[0;34m.\u001b[0m\u001b[0mCircle\u001b[0m\u001b[0;34m(\u001b[0m\u001b[0;34m(\u001b[0m\u001b[0;36m0\u001b[0m\u001b[0;34m,\u001b[0m \u001b[0;36m0\u001b[0m\u001b[0;34m)\u001b[0m\u001b[0;34m,\u001b[0m \u001b[0;36m960\u001b[0m\u001b[0;34m,\u001b[0m \u001b[0mcolor\u001b[0m\u001b[0;34m=\u001b[0m\u001b[0;34m'k'\u001b[0m\u001b[0;34m,\u001b[0m \u001b[0mfill\u001b[0m\u001b[0;34m=\u001b[0m\u001b[0;32mFalse\u001b[0m\u001b[0;34m)\u001b[0m\u001b[0;34m\u001b[0m\u001b[0;34m\u001b[0m\u001b[0m\n\u001b[0;32m----> 2\u001b[0;31m \u001b[0mplt\u001b[0m\u001b[0;34m.\u001b[0m\u001b[0mscatter\u001b[0m\u001b[0;34m(\u001b[0m\u001b[0mall_data\u001b[0m\u001b[0;34m[\u001b[0m\u001b[0;34m'hpc_x'\u001b[0m\u001b[0;34m]\u001b[0m\u001b[0;34m,\u001b[0m \u001b[0mall_data\u001b[0m\u001b[0;34m[\u001b[0m\u001b[0;34m'hpc_y'\u001b[0m\u001b[0;34m]\u001b[0m\u001b[0;34m,\u001b[0m \u001b[0ms\u001b[0m\u001b[0;34m=\u001b[0m\u001b[0;36m10\u001b[0m\u001b[0;34m*\u001b[0m\u001b[0mall_data\u001b[0m\u001b[0;34m[\u001b[0m\u001b[0;34m'area_atdiskcenter'\u001b[0m\u001b[0;34m]\u001b[0m\u001b[0;34m/\u001b[0m\u001b[0mall_data\u001b[0m\u001b[0;34m[\u001b[0m\u001b[0;34m'area_atdiskcenter'\u001b[0m\u001b[0;34m]\u001b[0m\u001b[0;34m.\u001b[0m\u001b[0mmean\u001b[0m\u001b[0;34m(\u001b[0m\u001b[0;34m)\u001b[0m\u001b[0;34m,\u001b[0m \u001b[0mc\u001b[0m\u001b[0;34m=\u001b[0m\u001b[0mtimes\u001b[0m\u001b[0;34m,\u001b[0m \u001b[0malpha\u001b[0m\u001b[0;34m=\u001b[0m\u001b[0;36m0.7\u001b[0m\u001b[0;34m)\u001b[0m\u001b[0;34m\u001b[0m\u001b[0;34m\u001b[0m\u001b[0m\n\u001b[0m\u001b[1;32m      3\u001b[0m \u001b[0mplt\u001b[0m\u001b[0;34m.\u001b[0m\u001b[0mxlim\u001b[0m\u001b[0;34m(\u001b[0m\u001b[0;34m-\u001b[0m\u001b[0;36m1000\u001b[0m\u001b[0;34m,\u001b[0m \u001b[0;36m1000\u001b[0m\u001b[0;34m)\u001b[0m\u001b[0;34m\u001b[0m\u001b[0;34m\u001b[0m\u001b[0m\n\u001b[1;32m      4\u001b[0m \u001b[0mplt\u001b[0m\u001b[0;34m.\u001b[0m\u001b[0mylim\u001b[0m\u001b[0;34m(\u001b[0m\u001b[0;34m-\u001b[0m\u001b[0;36m1000\u001b[0m\u001b[0;34m,\u001b[0m \u001b[0;36m1000\u001b[0m\u001b[0;34m)\u001b[0m\u001b[0;34m\u001b[0m\u001b[0;34m\u001b[0m\u001b[0m\n\u001b[1;32m      5\u001b[0m \u001b[0max\u001b[0m \u001b[0;34m=\u001b[0m \u001b[0mplt\u001b[0m\u001b[0;34m.\u001b[0m\u001b[0mgca\u001b[0m\u001b[0;34m(\u001b[0m\u001b[0;34m)\u001b[0m\u001b[0;34m\u001b[0m\u001b[0;34m\u001b[0m\u001b[0m\n",
      "\u001b[0;31mNameError\u001b[0m: name 'all_data' is not defined"
     ]
    }
   ],
   "source": [
    "circle1 = plt.Circle((0, 0), 960, color='k', fill=False)\n",
    "plt.scatter(all_data['hpc_x'], all_data['hpc_y'], s=10*all_data['area_atdiskcenter']/all_data['area_atdiskcenter'].mean(), c=times, alpha=0.7)\n",
    "plt.xlim(-1000, 1000)\n",
    "plt.ylim(-1000, 1000)\n",
    "ax = plt.gca()\n",
    "ax.add_artist(circle1)\n",
    "plt.gca().set_aspect('equal', adjustable='box')"
   ]
  },
  {
   "cell_type": "code",
   "execution_count": 3,
   "metadata": {},
   "outputs": [
    {
     "ename": "NameError",
     "evalue": "name 'all_data' is not defined",
     "output_type": "error",
     "traceback": [
      "\u001b[0;31m---------------------------------------------------------------------------\u001b[0m",
      "\u001b[0;31mNameError\u001b[0m                                 Traceback (most recent call last)",
      "\u001b[0;32m<ipython-input-3-1fb7eba48dd9>\u001b[0m in \u001b[0;36m<module>\u001b[0;34m\u001b[0m\n\u001b[0;32m----> 1\u001b[0;31m \u001b[0mplt\u001b[0m\u001b[0;34m.\u001b[0m\u001b[0mscatter\u001b[0m\u001b[0;34m(\u001b[0m\u001b[0mall_data\u001b[0m\u001b[0;34m[\u001b[0m\u001b[0;34m'hgc_x'\u001b[0m\u001b[0;34m]\u001b[0m\u001b[0;34m,\u001b[0m \u001b[0mall_data\u001b[0m\u001b[0;34m[\u001b[0m\u001b[0;34m'hgc_y'\u001b[0m\u001b[0;34m]\u001b[0m\u001b[0;34m,\u001b[0m \u001b[0ms\u001b[0m\u001b[0;34m=\u001b[0m\u001b[0;36m10\u001b[0m\u001b[0;34m*\u001b[0m\u001b[0mall_data\u001b[0m\u001b[0;34m[\u001b[0m\u001b[0;34m'area_atdiskcenter'\u001b[0m\u001b[0;34m]\u001b[0m\u001b[0;34m/\u001b[0m\u001b[0mall_data\u001b[0m\u001b[0;34m[\u001b[0m\u001b[0;34m'area_atdiskcenter'\u001b[0m\u001b[0;34m]\u001b[0m\u001b[0;34m.\u001b[0m\u001b[0mmean\u001b[0m\u001b[0;34m(\u001b[0m\u001b[0;34m)\u001b[0m\u001b[0;34m,\u001b[0m \u001b[0mc\u001b[0m\u001b[0;34m=\u001b[0m\u001b[0mtimes\u001b[0m\u001b[0;34m,\u001b[0m \u001b[0malpha\u001b[0m\u001b[0;34m=\u001b[0m\u001b[0;36m0.7\u001b[0m\u001b[0;34m)\u001b[0m\u001b[0;34m\u001b[0m\u001b[0;34m\u001b[0m\u001b[0m\n\u001b[0m",
      "\u001b[0;31mNameError\u001b[0m: name 'all_data' is not defined"
     ]
    }
   ],
   "source": [
    "plt.scatter(all_data['hgc_x'], all_data['hgc_y'], s=10*all_data['area_atdiskcenter']/all_data['area_atdiskcenter'].mean(), c=times, alpha=0.7)\n"
   ]
  },
  {
   "cell_type": "code",
   "execution_count": 97,
   "metadata": {},
   "outputs": [
    {
     "data": {
      "text/plain": [
       "<matplotlib.collections.PathCollection at 0x7fe46a592a50>"
      ]
     },
     "execution_count": 97,
     "metadata": {},
     "output_type": "execute_result"
    },
    {
     "data": {
      "image/png": "[encoded data removed]",
      "text/plain": [
       "<Figure size 432x288 with 1 Axes>"
      ]
     },
     "metadata": {
      "needs_background": "light"
     },
     "output_type": "display_data"
    }
   ],
   "source": [
    "plt.scatter(times, all_data['hgc_y'], alpha=0.1, c=times, cmap='viridis', edgecolor='k', lw=0.3)"
   ]
  },
  {
   "cell_type": "code",
   "execution_count": 77,
   "metadata": {},
   "outputs": [
    {
     "data": {
      "text/plain": [
       "(-1000.0, 1000.0)"
      ]
     },
     "execution_count": 77,
     "metadata": {},
     "output_type": "execute_result"
    },
    {
     "data": {
      "image/png": "[encoded data removed]",
      "text/plain": [
       "<Figure size 432x288 with 1 Axes>"
      ]
     },
     "metadata": {
      "needs_background": "light"
     },
     "output_type": "display_data"
    }
   ],
   "source": [
    "aa = plt.hist(all_data['hpc_x'], bins=50, edgecolor='k', alpha=0.4, color='purple')\n",
    "plt.xlim(-1000, 1000)"
   ]
  },
  {
   "cell_type": "code",
   "execution_count": 78,
   "metadata": {},
   "outputs": [
    {
     "data": {
      "text/plain": [
       "(-1000.0, 1000.0)"
      ]
     },
     "execution_count": 78,
     "metadata": {},
     "output_type": "execute_result"
    },
    {
     "data": {
      "image/png": "[encoded data removed]",
      "text/plain": [
       "<Figure size 432x288 with 1 Axes>"
      ]
     },
     "metadata": {
      "needs_background": "light"
     },
     "output_type": "display_data"
    }
   ],
   "source": [
    "aa = plt.hist(all_data['hpc_y'], bins=50, edgecolor='k', alpha=0.4, color='lime')\n",
    "plt.xlim(-1000, 1000)\n"
   ]
  },
  {
   "cell_type": "code",
   "execution_count": null,
   "metadata": {},
   "outputs": [],
   "source": []
  }
 ],
 "metadata": {
  "kernelspec": {
   "display_name": "Python 3",
   "language": "python",
   "name": "python3"
  },
  "language_info": {
   "codemirror_mode": {
    "name": "ipython",
    "version": 3
   },
   "file_extension": ".py",
   "mimetype": "text/x-python",
   "name": "python",
   "nbconvert_exporter": "python",
   "pygments_lexer": "ipython3",
   "version": "3.8.3"
  }
 },
 "nbformat": 4,
 "nbformat_minor": 4
}
