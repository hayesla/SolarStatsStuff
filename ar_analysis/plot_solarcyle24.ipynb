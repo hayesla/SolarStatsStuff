{
 "cells": [
  {
   "cell_type": "code",
   "execution_count": 1,
   "metadata": {},
   "outputs": [],
   "source": [
    "import numpy as np\n",
    "import pandas as pd\n",
    "import matplotlib.pyplot as plt \n",
    "from matplotlib import dates\n",
    "from matplotlib.colors import LogNorm\n",
    "from sunpy.time import parse_time\n",
    "from sunpy.coordinates import frames\n",
    "import sunpy.map\n",
    "from astropy.coordinates import SkyCoord\n",
    "from astropy import units as u\n",
    "import datetime\n",
    "import pylab"
   ]
  },
  {
   "cell_type": "code",
   "execution_count": 2,
   "metadata": {},
   "outputs": [],
   "source": [
    "# get all the data and adjust datetime etcs\n",
    "all_data = pd.read_csv('concat_1996-2020.csv')\n",
    "tt = pd.to_datetime(all_data['event_starttime'])\n",
    "times = [(t - tt[0]).total_seconds() for t in tt]\n",
    "all_data['times'] = times\n",
    "all_data['tt'] = tt\n",
    "all_data['area_arcsec'] = all_data['area_atdiskcenter']/(725**2)"
   ]
  },
  {
   "cell_type": "code",
   "execution_count": 3,
   "metadata": {},
   "outputs": [],
   "source": [
    "# get all unique days over the solar cycle\n",
    "tstart = parse_time(all_data['event_starttime'].min()).datetime\n",
    "tfinal = parse_time(all_data['event_endtime'].max()).datetime\n",
    "time_over = [tstart.strftime('%Y-%m-%dT%H:%M:%S')]\n",
    "t0 = tstart\n",
    "while t0 < tfinal:\n",
    "    t0 = t0 + datetime.timedelta(days=1)\n",
    "    time_over.append(t0.strftime('%Y-%m-%dT%H:%M:%S'))\n",
    "all_data_test = all_data.set_index('tt')"
   ]
  },
  {
   "cell_type": "code",
   "execution_count": 4,
   "metadata": {},
   "outputs": [],
   "source": [
    "# get number of spots etc as function of day\n",
    "spots = []\n",
    "no_ar = []\n",
    "for i in range(len(time_over)):\n",
    "    data_for_day = all_data[all_data['event_starttime'].isin([time_over[i]])]\n",
    "    no_spots = data_for_day['ar_numspots'].sum()\n",
    "    spots.append(no_spots)\n",
    "    no_ar.append(len(data_for_day))\n",
    "spots_ar = pd.Series(spots, index=parse_time(time_over).datetime)\n",
    "ar_no = pd.Series(no_ar, index=parse_time(time_over).datetime)\n",
    "ssn_tots = 10*ar_no+spots_ar"
   ]
  },
  {
   "cell_type": "code",
   "execution_count": 5,
   "metadata": {},
   "outputs": [],
   "source": [
    "# get SSN data\n",
    "def read_ssn():\n",
    "    ssn = pd.read_csv(\"../SN_m_tot_V2.0.csv\", names=['year', 'month', 'decimal_date', \\\n",
    "                                                  'ssn', 'ssn_dev', 'number_obs', 'indicator'], \n",
    "             delimiter=';')\n",
    "    years = ssn['year'].values; months = ssn['month']\n",
    "    tt = [datetime.datetime(ssn['year'][i], ssn['month'][i], 1) for i in range(len(ssn))]\n",
    "\n",
    "\n",
    "    ssn['times'] = tt\n",
    "\n",
    "    return ssn.set_index('times')\n",
    "ssn = read_ssn()"
   ]
  },
  {
   "cell_type": "code",
   "execution_count": 6,
   "metadata": {},
   "outputs": [],
   "source": [
    "sc23 = all_data_test.truncate('1996-09-01', '2009-01-01')\n",
    "sc24 = all_data_test.truncate('2009-01-01', '2019-12-01')\n",
    "\n",
    "sc25 = all_data_test.truncate('2019-12-01', '2020-08-21')\n",
    "\n",
    "tstart = parse_time(\"2009-01-01\").datetime\n",
    "tfinal = parse_time(\"2020-08-21\").datetime"
   ]
  },
  {
   "cell_type": "code",
   "execution_count": 7,
   "metadata": {},
   "outputs": [
    {
     "name": "stderr",
     "output_type": "stream",
     "text": [
      "WARNING: AstropyDeprecationWarning: The truth value of a Quantity is ambiguous. In the future this will raise a ValueError. [astropy.units.quantity]\n"
     ]
    }
   ],
   "source": [
    "# create an empty sunpy.map.Map\n",
    "data_arr = np.zeros((1200, 1200))\n",
    "coord = SkyCoord(0*u.arcsec, 0*u.arcsec, frame=frames.Helioprojective(observer='Earth', obstime=time_over[i]))\n",
    "header = sunpy.map.make_fitswcs_header(data_arr, coord, scale=[2, 2]*u.arcsec/u.pix)\n",
    "mapy = sunpy.map.Map(data_arr, header)"
   ]
  },
  {
   "cell_type": "code",
   "execution_count": 8,
   "metadata": {},
   "outputs": [],
   "source": [
    "num_points = 100\n",
    "lat_value = [-60, -45, -30, -15, 0, 15, 30, 45, 60]*u.deg\n",
    "lon_value = [-60, -45, -30, -15, 0, 15, 30, 45, 60]*u.deg\n",
    "lats = []\n",
    "lons = []\n",
    "\n",
    "for l in range(len(lat_value)):\n",
    "    lat0 = SkyCoord(np.ones(num_points) * lat_value[l],\n",
    "                np.linspace(-90, 90, num_points) * u.deg,\n",
    "                frame=frames.HeliographicStonyhurst)\n",
    "    lon0 = SkyCoord(np.linspace(-80, 80, num_points) * u.deg,\n",
    "                np.ones(num_points) * lon_value[l], frame=frames.HeliographicStonyhurst)\n",
    "    lat00 = lat0.transform_to(mapy.coordinate_frame)\n",
    "    lon00 = lon0.transform_to(mapy.coordinate_frame)\n",
    "    lats.append(lat00)\n",
    "    lons.append(lon00)\n",
    "coords_test = []\n",
    "lat_value_plot = [-45, -30, -15, 0, 15, 30, 45]\n",
    "for l in lat_value_plot:\n",
    "    coords = SkyCoord(90*u.deg, l*u.deg, frame=frames.HeliographicStonyhurst).transform_to(mapy.coordinate_frame)\n",
    "    coords_test.append(mapy.world_to_pixel(coords))"
   ]
  },
  {
   "cell_type": "code",
   "execution_count": 9,
   "metadata": {},
   "outputs": [],
   "source": [
    "import matplotlib.colors as mcolors\n",
    "def truncate_colormap(cmap, minval=0.0, maxval=1.0, n=-1):\n",
    "    if n == -1:\n",
    "        n = cmap.N\n",
    "    new_cmap = mcolors.LinearSegmentedColormap.from_list(\n",
    "         'trunc({name},{a:.2f},{b:.2f})'.format(name=cmap.name, a=minval, b=maxval),\n",
    "         cmap(np.linspace(minval, maxval, n)))\n",
    "    return new_cmap"
   ]
  },
  {
   "cell_type": "code",
   "execution_count": 10,
   "metadata": {},
   "outputs": [],
   "source": [
    "test_cmap = truncate_colormap(plt.get_cmap(\"Spectral\"), minval=0, maxval=0.2)"
   ]
  },
  {
   "cell_type": "code",
   "execution_count": 19,
   "metadata": {},
   "outputs": [],
   "source": [
    "cmap=\"Reds_r\"\n",
    "test_cmap = truncate_colormap(plt.get_cmap(cmap), minval=0, maxval=0.2)\n",
    "\n",
    "def plot_24(cmap=\"Spectral\", fname=\"test\"):\n",
    "    \n",
    "    test_cmap = truncate_colormap(plt.get_cmap(cmap), minval=0, maxval=0.2)\n",
    "    fig = plt.figure(figsize=(6, 10))\n",
    "\n",
    "    # top plot\n",
    "    ax1 = pylab.axes([0.2, 0.58, 0.60, 0.43], projection=mapy)\n",
    "    # middle butterfly\n",
    "    ax2 = pylab.axes([0.1, 0.305, 0.88, 0.33])\n",
    "    # bottom ssn plot\n",
    "    ax3 = pylab.axes([0.1, 0.05, 0.88, 0.25], sharex=ax2)\n",
    "\n",
    "    sizey24 = 10*sc24['area_atdiskcenter']/sc24['area_atdiskcenter'].mean()\n",
    "    sizey24 = 5*sc24['ar_numspots']\n",
    "\n",
    "    sizey25 = 10*sc25['area_atdiskcenter']/sc25['area_atdiskcenter'].mean()\n",
    "    sizey25 = 5*sc25['ar_numspots']\n",
    "\n",
    "    ##### FIRST SOLAR CYCLE 24 ########\n",
    "    # circle1 = plt.Circle((0, 0), 960, color='k', fill=False)\n",
    "\n",
    "    mapy.plot(axes=ax1, alpha=0.0)\n",
    "    mapy.draw_limb(color='k', lw=0.8)\n",
    "    #mapy.draw_grid(color='w', lw=0.5)\n",
    "    ax1.scatter((sc24['hpc_x'].values*u.arcsec).to(u.deg), \n",
    "                 (sc24['hpc_y'].values*u.arcsec).to(u.deg), \n",
    "                 s=sizey24, edgecolor='k', lw=0.1,\n",
    "                 c=sc24['times'], alpha=0.5,\n",
    "                transform=ax1.get_transform('world'), cmap=cmap)\n",
    "\n",
    "    ax1.scatter((sc25['hpc_x'].values*u.arcsec).to(u.deg), \n",
    "                 (sc25['hpc_y'].values*u.arcsec).to(u.deg), \n",
    "                 s=sizey25, edgecolor='k', lw=0.1,\n",
    "                 c=sc25['times'], alpha=0.5,\n",
    "                transform=ax1.get_transform('world'), cmap=test_cmap)\n",
    "\n",
    "    ax1.set_xlabel('X (arcsec)')\n",
    "    ax1.set_ylabel(' ')\n",
    "    ax1.tick_params(which='both',direction='in')\n",
    "    ax1.tick_params(axis='y', labelleft=False)\n",
    "    ax1.set_title('Solar Cycle 24', pad=-1)#.set_position([.5, 1])\n",
    "    ax1.set_axis_off()\n",
    "    for l in range(len(lats)):\n",
    "        ax1.plot_coord(lats[l], color='k', lw=0.2)\n",
    "        ax1.plot_coord(lons[l], color='k', lw=0.2)\n",
    "\n",
    "    for c in range(len(coords_test)):\n",
    "        ax1.text(coords_test[c].x.value+40, coords_test[c].y.value, str(lat_value_plot[c])+'$^\\circ$')\n",
    "\n",
    "\n",
    "    ### ax2\n",
    "    ax2.scatter(sc24.index, sc24['hgc_y'], \n",
    "                alpha=0.5, c=sc24['times'], \n",
    "                s=sizey24/2,\n",
    "                #s=100*all_data['ar_numspots']/all_data['ar_numspots'].mean(),\n",
    "                cmap=cmap, edgecolor='k', lw=0.1)\n",
    "    ax2.scatter(sc25.index, sc25['hgc_y'], \n",
    "                alpha=0.5, c=sc25['times'], \n",
    "                s=sizey25/2,\n",
    "                #s=100*all_data['ar_numspots']/all_data['ar_numspots'].mean(),\n",
    "                cmap=test_cmap, edgecolor='k', lw=0.1)\n",
    "\n",
    "    ax2.set_ylim(-45, 45)\n",
    "    ax2.set_ylabel('Latitude ($^\\circ$)')\n",
    "    ax2.tick_params(which='both',direction='in', labelbottom=False)\n",
    "    ax2.xaxis.set_major_locator(dates.YearLocator(4))\n",
    "    ax2.xaxis.set_minor_locator(dates.YearLocator(1))  \n",
    "    ax2.xaxis.set_major_formatter(dates.DateFormatter('%Y'))  \n",
    "\n",
    "    ## ax3\n",
    "\n",
    "    ##### SUNSPOT NUMBER AS A FUNCTION OF TIME ########\n",
    "    ax3.plot(ssn_tots.resample('30D').mean().truncate(tstart, tfinal), color='k')\n",
    "    ax3.set_ylabel('Sunspot number')\n",
    "    ax3.set_xlabel('Time')\n",
    "    plt.tight_layout()\n",
    "    ax3.set_xlim(tstart, tfinal)\n",
    "    ax3.tick_params(which='both',direction='in')\n",
    "\n",
    "    ax2.axvline(\"2019-12-01\", ls=\"dashed\", color=\"grey\", lw=0.5)\n",
    "    ax3.axvline(\"2019-12-01\", ls=\"dashed\", color=\"grey\", lw=0.5)\n",
    "\n",
    "\n",
    "    plt.savefig(\"test_{:s}.jpeg\".format(fname), dpi=200)\n",
    "    plt.close()"
   ]
  },
  {
   "cell_type": "code",
   "execution_count": 20,
   "metadata": {},
   "outputs": [
    {
     "name": "stderr",
     "output_type": "stream",
     "text": [
      "/Users/laurahayes/miniconda3/lib/python3.7/site-packages/ipykernel_launcher.py:79: UserWarning: This figure includes Axes that are not compatible with tight_layout, so results might be incorrect.\n"
     ]
    }
   ],
   "source": [
    "plot_24(fname=\"testy\")"
   ]
  },
  {
   "cell_type": "code",
   "execution_count": 12,
   "metadata": {},
   "outputs": [
    {
     "name": "stderr",
     "output_type": "stream",
     "text": [
      "/Users/laurahayes/miniconda3/lib/python3.7/site-packages/ipykernel_launcher.py:79: UserWarning: This figure includes Axes that are not compatible with tight_layout, so results might be incorrect.\n",
      "/Users/laurahayes/miniconda3/lib/python3.7/site-packages/ipykernel_launcher.py:79: UserWarning: This figure includes Axes that are not compatible with tight_layout, so results might be incorrect.\n",
      "/Users/laurahayes/miniconda3/lib/python3.7/site-packages/ipykernel_launcher.py:79: UserWarning: This figure includes Axes that are not compatible with tight_layout, so results might be incorrect.\n",
      "/Users/laurahayes/miniconda3/lib/python3.7/site-packages/ipykernel_launcher.py:79: UserWarning: This figure includes Axes that are not compatible with tight_layout, so results might be incorrect.\n",
      "/Users/laurahayes/miniconda3/lib/python3.7/site-packages/ipykernel_launcher.py:79: UserWarning: This figure includes Axes that are not compatible with tight_layout, so results might be incorrect.\n"
     ]
    }
   ],
   "source": [
    "plot_24(cmap=\"Spectral\", fname=\"spectral\")\n",
    "plot_24(cmap=\"Reds_r\", fname=\"Reds_r\")\n",
    "plot_24(cmap=\"Blues_r\", fname=\"Blues_r\")\n",
    "plot_24(cmap=\"magma\", fname=\"magma\")\n",
    "plot_24(cmap=\"plasma\", fname=\"plasma\")"
   ]
  },
  {
   "cell_type": "code",
   "execution_count": 27,
   "metadata": {},
   "outputs": [],
   "source": [
    "cmap=\"Reds_r\"\n",
    "test_cmap = truncate_colormap(plt.get_cmap(cmap), minval=0, maxval=0.2)\n",
    "\n",
    "def plot_24_small(cmap=\"Spectral\", fname=\"test\"):\n",
    "    \n",
    "    test_cmap = truncate_colormap(plt.get_cmap(cmap), minval=0, maxval=0.2)\n",
    "    fig = plt.figure(figsize=(6, 8))\n",
    "\n",
    "    # top plot\n",
    "    ax1 = pylab.axes([0.2, 0.5, 0.60, 0.43], projection=mapy)\n",
    "    # middle butterfly\n",
    "    ax2 = pylab.axes([0.1, 0.05, 0.88, 0.45])\n",
    "    # bottom ssn plot\n",
    "   # ax3 = pylab.axes([0.1, 0.05, 0.88, 0.25], sharex=ax2)\n",
    "\n",
    "    sizey24 = 10*sc24['area_atdiskcenter']/sc24['area_atdiskcenter'].mean()\n",
    "    sizey24 = 5*sc24['ar_numspots']\n",
    "\n",
    "    sizey25 = 10*sc25['area_atdiskcenter']/sc25['area_atdiskcenter'].mean()\n",
    "    sizey25 = 5*sc25['ar_numspots']\n",
    "\n",
    "    ##### FIRST SOLAR CYCLE 24 ########\n",
    "    # circle1 = plt.Circle((0, 0), 960, color='k', fill=False)\n",
    "\n",
    "    mapy.plot(axes=ax1, alpha=0.0)\n",
    "    mapy.draw_limb(color='k', lw=0.8)\n",
    "    #mapy.draw_grid(color='w', lw=0.5)\n",
    "    ax1.scatter((sc24['hpc_x'].values*u.arcsec).to(u.deg), \n",
    "                 (sc24['hpc_y'].values*u.arcsec).to(u.deg), \n",
    "                 s=sizey24, edgecolor='k', lw=0.1,\n",
    "                 c=sc24['times'], alpha=0.5,\n",
    "                transform=ax1.get_transform('world'), cmap=cmap)\n",
    "\n",
    "    ax1.scatter((sc25['hpc_x'].values*u.arcsec).to(u.deg), \n",
    "                 (sc25['hpc_y'].values*u.arcsec).to(u.deg), \n",
    "                 s=sizey25, edgecolor='k', lw=0.1,\n",
    "                 c=sc25['times'], alpha=0.5,\n",
    "                transform=ax1.get_transform('world'), cmap=test_cmap)\n",
    "\n",
    "    ax1.set_xlabel('X (arcsec)')\n",
    "    ax1.set_ylabel(' ')\n",
    "    ax1.tick_params(which='both',direction='in')\n",
    "    ax1.tick_params(axis='y', labelleft=False)\n",
    "    ax1.set_title('Solar Cycle 24', pad=-1)#.set_position([.5, 1])\n",
    "    ax1.set_axis_off()\n",
    "    for l in range(len(lats)):\n",
    "        ax1.plot_coord(lats[l], color='k', lw=0.2)\n",
    "        ax1.plot_coord(lons[l], color='k', lw=0.2)\n",
    "\n",
    "    for c in range(len(coords_test)):\n",
    "        ax1.text(coords_test[c].x.value+40, coords_test[c].y.value, str(lat_value_plot[c])+'$^\\circ$')\n",
    "\n",
    "\n",
    "    ### ax2\n",
    "    ax2.scatter(sc24.index, sc24['hgc_y'], \n",
    "                alpha=0.5, c=sc24['times'], \n",
    "                s=sizey24/2,\n",
    "                #s=100*all_data['ar_numspots']/all_data['ar_numspots'].mean(),\n",
    "                cmap=cmap, edgecolor='k', lw=0.1)\n",
    "    ax2.scatter(sc25.index, sc25['hgc_y'], \n",
    "                alpha=0.5, c=sc25['times'], \n",
    "                s=sizey25/2,\n",
    "                #s=100*all_data['ar_numspots']/all_data['ar_numspots'].mean(),\n",
    "                cmap=test_cmap, edgecolor='k', lw=0.1)\n",
    "\n",
    "    ax2.set_ylim(-45, 45)\n",
    "    ax2.set_ylabel('Latitude ($^\\circ$)')\n",
    "    ax2.tick_params(which='both',direction='in')#, labelbottom=False)\n",
    "    ax2.axvline(\"2019-12-01\", ls=\"dashed\", color=\"grey\", lw=0.5)\n",
    "    ax2.set_xlabel('Time')\n",
    "    ax2.set_xlim(tstart, tfinal)\n",
    "    \n",
    "    ax2.xaxis.set_major_locator(dates.YearLocator(2))\n",
    "    ax2.xaxis.set_major_formatter(dates.DateFormatter('%Y'))\n",
    "    ax2.xaxis.set_minor_locator(dates.YearLocator(1))  \n",
    "     \n",
    "\n",
    "    plt.tight_layout()\n",
    "    plt.savefig(\"test2_{:s}.jpeg\".format(fname), dpi=200)\n",
    "    plt.close()"
   ]
  },
  {
   "cell_type": "code",
   "execution_count": 30,
   "metadata": {},
   "outputs": [
    {
     "name": "stderr",
     "output_type": "stream",
     "text": [
      "/Users/laurahayes/miniconda3/lib/python3.7/site-packages/ipykernel_launcher.py:78: UserWarning: This figure includes Axes that are not compatible with tight_layout, so results might be incorrect.\n",
      "/Users/laurahayes/miniconda3/lib/python3.7/site-packages/ipykernel_launcher.py:78: UserWarning: This figure includes Axes that are not compatible with tight_layout, so results might be incorrect.\n",
      "/Users/laurahayes/miniconda3/lib/python3.7/site-packages/ipykernel_launcher.py:78: UserWarning: This figure includes Axes that are not compatible with tight_layout, so results might be incorrect.\n",
      "/Users/laurahayes/miniconda3/lib/python3.7/site-packages/ipykernel_launcher.py:78: UserWarning: This figure includes Axes that are not compatible with tight_layout, so results might be incorrect.\n",
      "/Users/laurahayes/miniconda3/lib/python3.7/site-packages/ipykernel_launcher.py:78: UserWarning: This figure includes Axes that are not compatible with tight_layout, so results might be incorrect.\n"
     ]
    }
   ],
   "source": [
    "plot_24_small(cmap=\"Spectral\", fname=\"spectral\")\n",
    "plot_24_small(cmap=\"Reds_r\", fname=\"Reds_r\")\n",
    "plot_24_small(cmap=\"Blues_r\", fname=\"Blues_r\")\n",
    "plot_24_small(cmap=\"magma\", fname=\"magma\")\n",
    "plot_24_small(cmap=\"plasma\", fname=\"plasma\")"
   ]
  },
  {
   "cell_type": "code",
   "execution_count": null,
   "metadata": {},
   "outputs": [],
   "source": []
  }
 ],
 "metadata": {
  "kernelspec": {
   "display_name": "Python 3",
   "language": "python",
   "name": "python3"
  },
  "language_info": {
   "codemirror_mode": {
    "name": "ipython",
    "version": 3
   },
   "file_extension": ".py",
   "mimetype": "text/x-python",
   "name": "python",
   "nbconvert_exporter": "python",
   "pygments_lexer": "ipython3",
   "version": "3.7.7"
  }
 },
 "nbformat": 4,
 "nbformat_minor": 4
}
