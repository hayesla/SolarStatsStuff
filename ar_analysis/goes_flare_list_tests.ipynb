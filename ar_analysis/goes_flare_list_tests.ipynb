{
 "cells": [
  {
   "cell_type": "code",
   "execution_count": 84,
   "metadata": {},
   "outputs": [],
   "source": [
    "import warnings\n",
    "warnings.filterwarnings(\"ignore\")\n",
    "from sunpy.net import Fido, attrs as a"
   ]
  },
  {
   "cell_type": "code",
   "execution_count": 93,
   "metadata": {},
   "outputs": [],
   "source": [
    "event_type = 'FL'\n",
    "tstart = '2020/01/05'\n",
    "tend = '2020/09/11'\n",
    "result = Fido.search(a.Time(tstart, tend),\n",
    "                     a.hek.EventType(event_type),\n",
    "                     a.hek.OBS.Observatory == 'GOES')"
   ]
  },
  {
   "cell_type": "code",
   "execution_count": 88,
   "metadata": {},
   "outputs": [
    {
     "data": {
      "text/html": [
       "&lt;Column name=&apos;frm_name&apos; dtype=&apos;str32&apos; length=35&gt;\n",
       "<table>\n",
       "<tr><td>SSW Latest Events</td></tr>\n",
       "<tr><td>SSW Latest Events</td></tr>\n",
       "<tr><td>Flare Detective - Trigger Module</td></tr>\n",
       "<tr><td>Flare Detective - Trigger Module</td></tr>\n",
       "<tr><td>Flare Detective - Trigger Module</td></tr>\n",
       "<tr><td>Flare Detective - Trigger Module</td></tr>\n",
       "<tr><td>SSW Latest Events</td></tr>\n",
       "<tr><td>Flare Detective - Trigger Module</td></tr>\n",
       "<tr><td>Flare Detective - Trigger Module</td></tr>\n",
       "<tr><td>Flare Detective - Trigger Module</td></tr>\n",
       "<tr><td>Flare Detective - Trigger Module</td></tr>\n",
       "<tr><td>SSW Latest Events</td></tr>\n",
       "<tr><td>...</td></tr>\n",
       "<tr><td>Flare Detective - Trigger Module</td></tr>\n",
       "<tr><td>Flare Detective - Trigger Module</td></tr>\n",
       "<tr><td>Flare Detective - Trigger Module</td></tr>\n",
       "<tr><td>Flare Detective - Trigger Module</td></tr>\n",
       "<tr><td>SSW Latest Events</td></tr>\n",
       "<tr><td>Flare Detective - Trigger Module</td></tr>\n",
       "<tr><td>Flare Detective - Trigger Module</td></tr>\n",
       "<tr><td>Flare Detective - Trigger Module</td></tr>\n",
       "<tr><td>SSW Latest Events</td></tr>\n",
       "<tr><td>Flare Detective - Trigger Module</td></tr>\n",
       "<tr><td>Flare Detective - Trigger Module</td></tr>\n",
       "<tr><td>SSW Latest Events</td></tr>\n",
       "</table>"
      ],
      "text/plain": [
       "<Column name='frm_name' dtype='str32' length=35>\n",
       "               SSW Latest Events\n",
       "               SSW Latest Events\n",
       "Flare Detective - Trigger Module\n",
       "Flare Detective - Trigger Module\n",
       "Flare Detective - Trigger Module\n",
       "Flare Detective - Trigger Module\n",
       "               SSW Latest Events\n",
       "Flare Detective - Trigger Module\n",
       "Flare Detective - Trigger Module\n",
       "Flare Detective - Trigger Module\n",
       "Flare Detective - Trigger Module\n",
       "               SSW Latest Events\n",
       "                             ...\n",
       "Flare Detective - Trigger Module\n",
       "Flare Detective - Trigger Module\n",
       "Flare Detective - Trigger Module\n",
       "Flare Detective - Trigger Module\n",
       "               SSW Latest Events\n",
       "Flare Detective - Trigger Module\n",
       "Flare Detective - Trigger Module\n",
       "Flare Detective - Trigger Module\n",
       "               SSW Latest Events\n",
       "Flare Detective - Trigger Module\n",
       "Flare Detective - Trigger Module\n",
       "               SSW Latest Events"
      ]
     },
     "execution_count": 88,
     "metadata": {},
     "output_type": "execute_result"
    }
   ],
   "source": [
    "result[0].table[\"frm_name\"]"
   ]
  },
  {
   "cell_type": "code",
   "execution_count": null,
   "metadata": {},
   "outputs": [],
   "source": []
  },
  {
   "cell_type": "code",
   "execution_count": null,
   "metadata": {},
   "outputs": [],
   "source": []
  },
  {
   "cell_type": "code",
   "execution_count": null,
   "metadata": {},
   "outputs": [],
   "source": []
  },
  {
   "cell_type": "code",
   "execution_count": 106,
   "metadata": {},
   "outputs": [],
   "source": [
    "event_type = 'FL'\n",
    "tstart = '2017/09/09'\n",
    "tend = '2017/09/10'\n",
    "result3 = Fido.search(a.Time(tstart, tend),\n",
    "                     a.hek.EventType(event_type),\n",
    "                     a.hek.OBS.Observatory == 'GOES')"
   ]
  },
  {
   "cell_type": "code",
   "execution_count": 108,
   "metadata": {},
   "outputs": [
    {
     "data": {
      "text/html": [
       "Results from 1 Provider:</br></br>13 Results from the HEKClient:</br><i>Table length=13</i>\n",
       "<table id=\"table5040289776\" class=\"table-striped table-bordered table-condensed\">\n",
       "<thead><tr><th>SOL_standard</th><th>active</th><th>ar_compactnesscls</th><th>ar_mcintoshcls</th><th>ar_mtwilsoncls</th><th>ar_noaaclass</th><th>ar_noaanum</th><th>ar_numspots</th><th>ar_penumbracls</th><th>ar_polarity</th><th>ar_zurichcls</th><th>area_atdiskcenter</th><th>area_atdiskcenteruncert</th><th>area_raw</th><th>area_uncert</th><th>area_unit</th><th>bound_ccnsteps</th><th>bound_ccstartc1</th><th>bound_ccstartc2</th><th>bound_chaincode</th><th>boundbox_c1ll</th><th>boundbox_c1ur</th><th>boundbox_c2ll</th><th>boundbox_c2ur</th><th>chaincodetype</th><th>comment_count</th><th>concept</th><th>event_avg_rating</th><th>event_c1error</th><th>event_c2error</th><th>event_clippedspatial</th><th>event_clippedtemporal</th><th>event_coord1</th><th>event_coord2</th><th>event_coord3</th><th>event_coordsys</th><th>event_coordunit</th><th>event_description</th><th>event_endtime</th><th>event_expires</th><th>event_importance</th><th>event_importance_num_ratings</th><th>event_mapurl</th><th>event_maskurl</th><th>event_npixels</th><th>event_peaktime</th><th>event_pixelunit</th><th>event_probability</th><th>event_score</th><th>event_starttime</th><th>event_testflag</th><th>event_title</th><th>event_type</th><th>eventtype</th><th>fl_efoldtime</th><th>fl_efoldtimeunit</th><th>fl_fluence</th><th>fl_fluenceunit</th><th>fl_goescls</th><th>fl_halphaclass</th><th>fl_peakem</th><th>fl_peakemunit</th><th>fl_peakflux</th><th>fl_peakfluxunit</th><th>fl_peaktemp</th><th>fl_peaktempunit</th><th>frm_contact</th><th>frm_daterun</th><th>frm_humanflag</th><th>frm_identifier</th><th>frm_institute</th><th>frm_name</th><th>frm_paramset</th><th>frm_specificid</th><th>frm_url</th><th>frm_versionnumber</th><th>gs_galleryid</th><th>gs_imageurl</th><th>gs_movieurl</th><th>gs_thumburl</th><th>hcr_checked</th><th>hgc_bbox</th><th>hgc_boundcc</th><th>hgc_coord</th><th>hgc_x</th><th>hgc_y</th><th>hgs_bbox</th><th>hgs_boundcc</th><th>hgs_coord</th><th>hgs_x</th><th>hgs_y</th><th>hpc_bbox</th><th>hpc_boundcc</th><th>hpc_coord</th><th>hpc_geom</th><th>hpc_radius</th><th>hpc_x</th><th>hpc_y</th><th>hrc_a</th><th>hrc_bbox</th><th>hrc_boundcc</th><th>hrc_coord</th><th>hrc_r</th><th>intenskurt</th><th>intensmax</th><th>intensmean</th><th>intensmedian</th><th>intensmin</th><th>intensskew</th><th>intenstotal</th><th>intensunit</th><th>intensvar</th><th>kb_archivdate</th><th>kb_archivid</th><th>kb_archivist</th><th>noposition</th><th>obs_channelid</th><th>obs_dataprepurl</th><th>obs_firstprocessingdate</th><th>obs_includesnrt</th><th>obs_instrument</th><th>obs_lastprocessingdate</th><th>obs_levelnum</th><th>obs_meanwavel</th><th>obs_observatory</th><th>obs_title</th><th>obs_wavelunit</th><th>rasterscan</th><th>rasterscantype</th><th>refs</th><th>refs_orig</th><th>revision</th><th>search_channelid</th><th>search_frm_name</th><th>search_instrument</th><th>search_observatory</th><th>skel_chaincode</th><th>skel_curvature</th><th>skel_nsteps</th><th>skel_startc1</th><th>skel_startc2</th><th>sum_overlap_scores</th></tr></thead>\n",
       "<thead><tr><th>str30</th><th>str4</th><th>str1</th><th>str1</th><th>str1</th><th>str1</th><th>int64</th><th>object</th><th>str1</th><th>object</th><th>str1</th><th>object</th><th>object</th><th>object</th><th>object</th><th>str1</th><th>object</th><th>object</th><th>object</th><th>str1</th><th>float64</th><th>float64</th><th>float64</th><th>float64</th><th>str1</th><th>str1</th><th>str5</th><th>object</th><th>int64</th><th>int64</th><th>str1</th><th>str1</th><th>int64</th><th>int64</th><th>object</th><th>str12</th><th>str7</th><th>str1</th><th>str19</th><th>str1</th><th>object</th><th>str1</th><th>str1</th><th>str1</th><th>object</th><th>str19</th><th>str1</th><th>object</th><th>str20</th><th>str19</th><th>str5</th><th>str1</th><th>str2</th><th>str1</th><th>object</th><th>str1</th><th>object</th><th>str1</th><th>str4</th><th>str1</th><th>object</th><th>str1</th><th>object</th><th>str1</th><th>object</th><th>str1</th><th>str23</th><th>str19</th><th>str5</th><th>str4</th><th>str61</th><th>str4</th><th>str27</th><th>str1</th><th>str25</th><th>object</th><th>str1</th><th>str1</th><th>str1</th><th>str1</th><th>str4</th><th>str95</th><th>str1</th><th>str21</th><th>float64</th><th>int64</th><th>str66</th><th>str1</th><th>str13</th><th>int64</th><th>int64</th><th>str120</th><th>str1</th><th>str28</th><th>str186</th><th>str19</th><th>float64</th><th>float64</th><th>float64</th><th>str110</th><th>str1</th><th>str41</th><th>float64</th><th>object</th><th>object</th><th>object</th><th>object</th><th>object</th><th>object</th><th>object</th><th>str1</th><th>object</th><th>str19</th><th>str66</th><th>str11</th><th>str5</th><th>str3</th><th>str1</th><th>str1</th><th>str1</th><th>str4</th><th>str1</th><th>object</th><th>float64</th><th>str4</th><th>str1</th><th>str2</th><th>str1</th><th>str1</th><th>object</th><th>str1</th><th>str1</th><th>str3</th><th>str4</th><th>str4</th><th>str4</th><th>str1</th><th>object</th><th>object</th><th>object</th><th>object</th><th>str20</th></tr></thead>\n",
       "<tr><td>SOL2017-09-09T00:36:00L048C090</td><td>true</td><td></td><td></td><td></td><td></td><td>12673</td><td>None</td><td></td><td>None</td><td></td><td>None</td><td>None</td><td>None</td><td>None</td><td></td><td>None</td><td>None</td><td>None</td><td></td><td>-89.9000015258789</td><td>89.9000015258789</td><td>-89.9000015258789</td><td>89.9000015258789</td><td></td><td>0</td><td>Flare</td><td>None</td><td>90</td><td>90</td><td></td><td></td><td>0</td><td>0</td><td>None</td><td>UTC-HGS-TOPO</td><td>degrees</td><td></td><td>2017-09-09T00:46:00</td><td></td><td>None</td><td></td><td></td><td></td><td>None</td><td>2017-09-09T00:39:00</td><td></td><td>None</td><td>0.42000000000000004</td><td>2017-09-09T00:36:00</td><td>false</td><td></td><td>FL</td><td>9</td><td>None</td><td></td><td>None</td><td></td><td>C1.0</td><td></td><td>None</td><td></td><td>None</td><td></td><td>None</td><td></td><td>SWPC.Webmaster@noaa.gov</td><td>2017-09-09T00:00:00</td><td>false</td><td>SWPC</td><td>U.S. Dept. of Commerce, NOAA, Space Weather Prediction Center</td><td>SWPC</td><td>SSWIDL get_gev, ..., ngdc=0</td><td></td><td>http://www.swpc.noaa.gov/</td><td>None</td><td></td><td></td><td></td><td></td><td>true</td><td>POLYGON((-40.994086 -89.9,138.805914 -89.9,138.805914 89.9,-40.994086 89.9,-40.994086 -89.9))</td><td></td><td>POINT(48.905914 0)</td><td>48.905914</td><td>0</td><td>POLYGON((-89.9 -89.9,89.9 -89.9,89.9 89.9,-89.9 89.9,-89.9 -89.9))</td><td></td><td>POINT(0 0)</td><td>0</td><td>0</td><td>POLYGON((-1.66054 -943.9152,1.66054 -943.9152,1.66264 945.01476,-1.66264 945.01476,-1.66054 -943.9152))</td><td></td><td>POINT(0 -120.700632)</td><td></td><td>120.700631999999985</td><td>0.0</td><td>-120.700632</td><td>180.0</td><td>POLYGON((0.991429 179.899205,0.991429 180.100795,0.992583 359.899195,0.992583 0.100805,0.991429 179.899205))</td><td></td><td>POINT(0.126776076263383 180)</td><td>0.126776076263383</td><td>None</td><td>None</td><td>None</td><td>None</td><td>None</td><td>None</td><td>None</td><td></td><td>None</td><td>2017-09-10T05:36:13</td><td>ivo://helio-informatics.org/FL_SWPC_20170910_053612_20170909003600</td><td>cheung_mark</td><td>true</td><td>XRA</td><td></td><td></td><td></td><td>GOES</td><td></td><td>None</td><td>5e-08</td><td>GOES</td><td></td><td>cm</td><td></td><td></td><td>[{&apos;ref_name&apos;: &apos;XRT Flare Catalog&apos;, &apos;ref_type&apos;: &apos;url&apos;, &apos;ref_url&apos;: &apos;http://xrt.cfa.harvard.edu/flare_catalog/2017.html?search=161000&apos;}, {&apos;ref_name&apos;: &apos;FRM_URL&apos;, &apos;ref_type&apos;: &apos;unknown&apos;, &apos;ref_url&apos;: &apos;http://www.swpc.noaa.gov/&apos;}]</td><td></td><td>1</td><td>XRA</td><td>SWPC</td><td>GOES</td><td>GOES</td><td></td><td>None</td><td>None</td><td>None</td><td>None</td><td>0</td></tr>\n",
       "<tr><td>SOL2017-09-09T03:02:00L116C101</td><td>true</td><td></td><td></td><td></td><td></td><td>12673</td><td>None</td><td></td><td>None</td><td></td><td>None</td><td>None</td><td>None</td><td>None</td><td></td><td>None</td><td>None</td><td>None</td><td></td><td>68.5</td><td>69.5</td><td>-11.5</td><td>-10.5</td><td></td><td>0</td><td>Flare</td><td>None</td><td>1</td><td>1</td><td></td><td></td><td>69</td><td>-11</td><td>None</td><td>UTC-HGS-TOPO</td><td>degrees</td><td></td><td>2017-09-09T03:25:00</td><td></td><td>None</td><td></td><td></td><td></td><td>None</td><td>2017-09-09T03:09:00</td><td></td><td>None</td><td>0.526000000000000023</td><td>2017-09-09T03:02:00</td><td>false</td><td></td><td>FL</td><td>9</td><td>None</td><td></td><td>None</td><td></td><td>C6.3</td><td></td><td>None</td><td></td><td>None</td><td></td><td>None</td><td></td><td>SWPC.Webmaster@noaa.gov</td><td>2017-09-09T00:00:00</td><td>false</td><td>SWPC</td><td>U.S. Dept. of Commerce, NOAA, Space Weather Prediction Center</td><td>SWPC</td><td>SSWIDL get_gev, ..., ngdc=0</td><td></td><td>http://www.swpc.noaa.gov/</td><td>None</td><td></td><td></td><td></td><td></td><td>true</td><td>POLYGON((116.067046 -11.5,117.067046 -11.5,117.067046 -10.5,116.067046 -10.5,116.067046 -11.5))</td><td></td><td>POINT(116.567046 -11)</td><td>116.567046</td><td>-11</td><td>POLYGON((68.5 -11.5,69.5 -11.5,69.5 -10.5,68.5 -10.5,68.5 -11.5))</td><td></td><td>POINT(69 -11)</td><td>69</td><td>-11</td><td>POLYGON((869.39814 -231.807396,875.17842 -229.86924,878.16612 -213.80778,872.36628 -215.751366,869.39814 -231.807396))</td><td></td><td>POINT(873.84396 -222.819096)</td><td>010300000001000000050000000FB9196EC0088A408D4468041B7970C00FB9196EC0088A401A89D00836C266C00FB9196EC0948C401A89D00836C266C00FB9196EC0948C408D4468041B7970C00FB9196EC0088A408D4468041B7970C0</td><td>901.804644017061491</td><td>873.84396</td><td>-222.819096</td><td>255.695132368772</td><td>POLYGON((0.945037 255.070558,0.950385 255.283434,0.949289 256.316386,0.943859 256.108508,0.945037 255.070558))</td><td></td><td>POINT(0.947172681018084 255.695132368772)</td><td>0.947172681018084</td><td>None</td><td>None</td><td>None</td><td>None</td><td>None</td><td>None</td><td>None</td><td></td><td>None</td><td>2017-09-10T05:36:14</td><td>ivo://helio-informatics.org/FL_SWPC_20170910_053613_20170909030200</td><td>cheung_mark</td><td>false</td><td>XRA</td><td></td><td></td><td></td><td>GOES</td><td></td><td>None</td><td>5e-08</td><td>GOES</td><td></td><td>cm</td><td></td><td></td><td>[{&apos;ref_name&apos;: &apos;XRT Flare Catalog&apos;, &apos;ref_type&apos;: &apos;url&apos;, &apos;ref_url&apos;: &apos;http://xrt.cfa.harvard.edu/flare_catalog/2017.html?search=161010&apos;}, {&apos;ref_name&apos;: &apos;FRM_URL&apos;, &apos;ref_type&apos;: &apos;unknown&apos;, &apos;ref_url&apos;: &apos;http://www.swpc.noaa.gov/&apos;}]</td><td></td><td>1</td><td>XRA</td><td>SWPC</td><td>GOES</td><td>GOES</td><td></td><td>None</td><td>None</td><td>None</td><td>None</td><td>1.09118950225822164</td></tr>\n",
       "<tr><td>SOL2017-09-09T03:57:00L047C090</td><td>true</td><td></td><td></td><td></td><td></td><td>12673</td><td>None</td><td></td><td>None</td><td></td><td>None</td><td>None</td><td>None</td><td>None</td><td></td><td>None</td><td>None</td><td>None</td><td></td><td>-89.9000015258789</td><td>89.9000015258789</td><td>-89.9000015258789</td><td>89.9000015258789</td><td></td><td>0</td><td>Flare</td><td>None</td><td>90</td><td>90</td><td></td><td></td><td>0</td><td>0</td><td>None</td><td>UTC-HGS-TOPO</td><td>degrees</td><td></td><td>2017-09-09T04:07:00</td><td></td><td>None</td><td></td><td></td><td></td><td>None</td><td>2017-09-09T04:01:00</td><td></td><td>None</td><td>0.484000000000000041</td><td>2017-09-09T03:57:00</td><td>false</td><td></td><td>FL</td><td>9</td><td>None</td><td></td><td>None</td><td></td><td>C4.2</td><td></td><td>None</td><td></td><td>None</td><td></td><td>None</td><td></td><td>SWPC.Webmaster@noaa.gov</td><td>2017-09-09T00:00:00</td><td>false</td><td>SWPC</td><td>U.S. Dept. of Commerce, NOAA, Space Weather Prediction Center</td><td>SWPC</td><td>SSWIDL get_gev, ..., ngdc=0</td><td></td><td>http://www.swpc.noaa.gov/</td><td>None</td><td></td><td></td><td></td><td></td><td>true</td><td>POLYGON((-42.83732 -89.9,136.96268 -89.9,136.96268 89.9,-42.83732 89.9,-42.83732 -89.9))</td><td></td><td>POINT(47.06268 0)</td><td>47.06268</td><td>0</td><td>POLYGON((-89.9 -89.9,89.9 -89.9,89.9 89.9,-89.9 89.9,-89.9 -89.9))</td><td></td><td>POINT(0 0)</td><td>0</td><td>0</td><td>POLYGON((-1.660598 -943.94868,1.660598 -943.94868,1.662698 945.0483,-1.662698 945.0483,-1.660598 -943.94868))</td><td></td><td>POINT(0 -120.70191)</td><td></td><td>120.701909999999998</td><td>0.0</td><td>-120.70191</td><td>180.0</td><td>POLYGON((0.991429 179.899205,0.991429 180.100795,0.992584 359.899195,0.992584 0.100805,0.991429 179.899205))</td><td></td><td>POINT(0.126772971245488 180)</td><td>0.126772971245488</td><td>None</td><td>None</td><td>None</td><td>None</td><td>None</td><td>None</td><td>None</td><td></td><td>None</td><td>2017-09-10T05:36:16</td><td>ivo://helio-informatics.org/FL_SWPC_20170910_053614_20170909035700</td><td>cheung_mark</td><td>true</td><td>XRA</td><td></td><td></td><td></td><td>GOES</td><td></td><td>None</td><td>5e-08</td><td>GOES</td><td></td><td>cm</td><td></td><td></td><td>[{&apos;ref_name&apos;: &apos;FRM_URL&apos;, &apos;ref_type&apos;: &apos;unknown&apos;, &apos;ref_url&apos;: &apos;http://www.swpc.noaa.gov/&apos;}]</td><td></td><td>1</td><td>XRA</td><td>SWPC</td><td>GOES</td><td>GOES</td><td></td><td>None</td><td>None</td><td>None</td><td>None</td><td>0</td></tr>\n",
       "<tr><td>SOL2017-09-09T04:14:00L115C103</td><td>true</td><td></td><td></td><td></td><td></td><td>12673</td><td>None</td><td></td><td>None</td><td></td><td>None</td><td>None</td><td>None</td><td>None</td><td></td><td>None</td><td>None</td><td>None</td><td></td><td>68.5</td><td>69.5</td><td>-13.5</td><td>-12.5</td><td></td><td>0</td><td>Flare</td><td>None</td><td>1</td><td>1</td><td></td><td></td><td>69</td><td>-13</td><td>None</td><td>UTC-HGS-TOPO</td><td>degrees</td><td></td><td>2017-09-09T04:43:00</td><td></td><td>None</td><td></td><td></td><td></td><td>None</td><td>2017-09-09T04:28:00</td><td></td><td>None</td><td>0.621999999999999997</td><td>2017-09-09T04:14:00</td><td>false</td><td></td><td>FL</td><td>9</td><td>None</td><td></td><td>None</td><td></td><td>M1.1</td><td></td><td>None</td><td></td><td>None</td><td></td><td>None</td><td></td><td>SWPC.Webmaster@noaa.gov</td><td>2017-09-09T00:00:00</td><td>false</td><td>SWPC</td><td>U.S. Dept. of Commerce, NOAA, Space Weather Prediction Center</td><td>SWPC</td><td>SSWIDL get_gev, ..., ngdc=0</td><td></td><td>http://www.swpc.noaa.gov/</td><td>None</td><td></td><td></td><td></td><td></td><td>true</td><td>POLYGON((115.406785 -13.5,116.406785 -13.5,116.406785 -12.5,115.406785 -12.5,115.406785 -13.5))</td><td></td><td>POINT(115.906785 -13)</td><td>115.906785</td><td>-13</td><td>POLYGON((68.5 -13.5,69.5 -13.5,69.5 -12.5,68.5 -12.5,68.5 -13.5))</td><td></td><td>POINT(69 -13)</td><td>69</td><td>-13</td><td>POLYGON((862.67832 -263.703816,868.41438 -261.778344,871.93488 -245.862816,866.17578 -247.79493,862.67832 -263.703816))</td><td></td><td>POINT(867.36708 -254.796336)</td><td>01030000000100000005000000ED647094BC67894070B03731245373C0ED647094BC67894046C7D5C8AE0C69C053CBD6FA22CE8C4046C7D5C8AE0C69C053CBD6FA22CE8C4070B03731245373C0ED647094BC67894070B03731245373C0</td><td>904.017048681467713</td><td>867.36708</td><td>-254.796336</td><td>253.629407849076</td><td>POLYGON((0.947453 253.002637,0.95263 253.22488,0.951499 254.252937,0.946235 254.035272,0.947453 253.002637))</td><td></td><td>POINT(0.949484460332419 253.629407849076)</td><td>0.949484460332419</td><td>None</td><td>None</td><td>None</td><td>None</td><td>None</td><td>None</td><td>None</td><td></td><td>None</td><td>2017-09-10T05:36:17</td><td>ivo://helio-informatics.org/FL_SWPC_20170910_053616_20170909041400</td><td>cheung_mark</td><td>false</td><td>XRA</td><td></td><td></td><td></td><td>GOES</td><td></td><td>None</td><td>5e-08</td><td>GOES</td><td></td><td>cm</td><td></td><td></td><td>[{&apos;ref_name&apos;: &apos;XRT Flare Catalog&apos;, &apos;ref_type&apos;: &apos;url&apos;, &apos;ref_url&apos;: &apos;http://xrt.cfa.harvard.edu/flare_catalog/2017.html?search=161030&apos;}, {&apos;ref_name&apos;: &apos;FRM_URL&apos;, &apos;ref_type&apos;: &apos;unknown&apos;, &apos;ref_url&apos;: &apos;http://www.swpc.noaa.gov/&apos;}]</td><td></td><td>1</td><td>XRA</td><td>SWPC</td><td>GOES</td><td>GOES</td><td></td><td>None</td><td>None</td><td>None</td><td>None</td><td>0.894697813068028203</td></tr>\n",
       "<tr><td>SOL2017-09-09T06:23:00L115C100</td><td>true</td><td></td><td></td><td></td><td></td><td>12673</td><td>None</td><td></td><td>None</td><td></td><td>None</td><td>None</td><td>None</td><td>None</td><td></td><td>None</td><td>None</td><td>None</td><td></td><td>69.5</td><td>70.5</td><td>-10.5</td><td>-9.5</td><td></td><td>0</td><td>Flare</td><td>None</td><td>1</td><td>1</td><td></td><td></td><td>70</td><td>-10</td><td>None</td><td>UTC-HGS-TOPO</td><td>degrees</td><td></td><td>2017-09-09T06:40:00</td><td></td><td>None</td><td></td><td></td><td></td><td>None</td><td>2017-09-09T06:29:00</td><td></td><td>None</td><td>0.428000000000000047</td><td>2017-09-09T06:23:00</td><td>false</td><td></td><td>FL</td><td>9</td><td>None</td><td></td><td>None</td><td></td><td>C1.4</td><td></td><td>None</td><td></td><td>None</td><td></td><td>None</td><td></td><td>SWPC.Webmaster@noaa.gov</td><td>2017-09-09T00:00:00</td><td>false</td><td>SWPC</td><td>U.S. Dept. of Commerce, NOAA, Space Weather Prediction Center</td><td>SWPC</td><td>SSWIDL get_gev, ..., ngdc=0</td><td></td><td>http://www.swpc.noaa.gov/</td><td>None</td><td></td><td></td><td></td><td></td><td>true</td><td>POLYGON((115.223819 -10.5,116.223819 -10.5,116.223819 -9.5,115.223819 -9.5,115.223819 -10.5))</td><td></td><td>POINT(115.723819 -10)</td><td>115.723819</td><td>-10</td><td>POLYGON((69.5 -10.5,70.5 -10.5,70.5 -9.5,69.5 -9.5,69.5 -10.5))</td><td></td><td>POINT(70 -10)</td><td>70</td><td>-10</td><td>POLYGON((878.19696 -213.814182,883.72818 -211.858146,886.46508 -195.725526,880.91694 -197.686428,878.19696 -213.814182))</td><td></td><td>POINT(882.3942 -204.780456)</td><td>01030000000100000005000000AA60545227AF8A40F17EDC7EF9286DC0AA60545227AF8A40F17EDC7EF90866C0AA60545227778C40F17EDC7EF90866C0AA60545227778C40F17EDC7EF9286DC0AA60545227AF8A40F17EDC7EF9286DC0</td><td>905.844666238758464</td><td>882.3942</td><td>-204.780456</td><td>256.934443857788</td><td>POLYGON((0.949289 256.316454,0.954453 256.518773,0.953452 257.549236,0.948212 257.351805,0.949289 256.316454))</td><td></td><td>POINT(0.951382564129332 256.934443857788)</td><td>0.951382564129332</td><td>None</td><td>None</td><td>None</td><td>None</td><td>None</td><td>None</td><td>None</td><td></td><td>None</td><td>2017-09-10T05:36:18</td><td>ivo://helio-informatics.org/FL_SWPC_20170910_053617_20170909062300</td><td>cheung_mark</td><td>false</td><td>XRA</td><td></td><td></td><td></td><td>GOES</td><td></td><td>None</td><td>5e-08</td><td>GOES</td><td></td><td>cm</td><td></td><td></td><td>[{&apos;ref_name&apos;: &apos;XRT Flare Catalog&apos;, &apos;ref_type&apos;: &apos;url&apos;, &apos;ref_url&apos;: &apos;http://xrt.cfa.harvard.edu/flare_catalog/2017.html?search=161040&apos;}, {&apos;ref_name&apos;: &apos;FRM_URL&apos;, &apos;ref_type&apos;: &apos;unknown&apos;, &apos;ref_url&apos;: &apos;http://www.swpc.noaa.gov/&apos;}]</td><td></td><td>1</td><td>XRA</td><td>SWPC</td><td>GOES</td><td>GOES</td><td></td><td>None</td><td>None</td><td>None</td><td>None</td><td>2.49056990955660584</td></tr>\n",
       "<tr><td>SOL2017-09-09T06:51:00L115C100</td><td>true</td><td></td><td></td><td></td><td></td><td>12673</td><td>None</td><td></td><td>None</td><td></td><td>None</td><td>None</td><td>None</td><td>None</td><td></td><td>None</td><td>None</td><td>None</td><td></td><td>69.5</td><td>70.5</td><td>-10.5</td><td>-9.5</td><td></td><td>0</td><td>Flare</td><td>None</td><td>1</td><td>1</td><td></td><td></td><td>70</td><td>-10</td><td>None</td><td>UTC-HGS-TOPO</td><td>degrees</td><td></td><td>2017-09-09T06:58:00</td><td></td><td>None</td><td></td><td></td><td></td><td>None</td><td>2017-09-09T06:56:00</td><td></td><td>None</td><td>0.434000000000000052</td><td>2017-09-09T06:51:00</td><td>false</td><td></td><td>FL</td><td>9</td><td>None</td><td></td><td>None</td><td></td><td>C1.7</td><td></td><td>None</td><td></td><td>None</td><td></td><td>None</td><td></td><td>SWPC.Webmaster@noaa.gov</td><td>2017-09-09T00:00:00</td><td>false</td><td>SWPC</td><td>U.S. Dept. of Commerce, NOAA, Space Weather Prediction Center</td><td>SWPC</td><td>SSWIDL get_gev, ..., ngdc=0</td><td></td><td>http://www.swpc.noaa.gov/</td><td>None</td><td></td><td></td><td></td><td></td><td>true</td><td>POLYGON((114.967052 -10.5,115.967052 -10.5,115.967052 -9.5,114.967052 -9.5,114.967052 -10.5))</td><td></td><td>POINT(115.467052 -10)</td><td>115.467052</td><td>-10</td><td>POLYGON((69.5 -10.5,70.5 -10.5,70.5 -9.5,69.5 -9.5,69.5 -10.5))</td><td></td><td>POINT(70 -10)</td><td>70</td><td>-10</td><td>POLYGON((878.20128 -213.815058,883.7325 -211.859016,886.4694 -195.726318,880.92126 -197.68722,878.20128 -213.815058))</td><td></td><td>POINT(882.39852 -204.78129)</td><td>010300000001000000050000006BF6402B30A98A4024D6E25300416DC06BF6402B30A98A4024D6E25300F165C06BF6402B307D8C4024D6E25300F165C06BF6402B307D8C4024D6E25300416DC06BF6402B30A98A4024D6E25300416DC0</td><td>905.849062941644092</td><td>882.39852</td><td>-204.78129</td><td>256.934454243247</td><td>POLYGON((0.949289 256.316464,0.954453 256.518783,0.953452 257.549246,0.948212 257.351816,0.949289 256.316464))</td><td></td><td>POINT(0.951382525542701 256.934454243247)</td><td>0.951382525542701</td><td>None</td><td>None</td><td>None</td><td>None</td><td>None</td><td>None</td><td>None</td><td></td><td>None</td><td>2017-09-10T05:36:20</td><td>ivo://helio-informatics.org/FL_SWPC_20170910_053619_20170909065100</td><td>cheung_mark</td><td>false</td><td>XRA</td><td></td><td></td><td></td><td>GOES</td><td></td><td>None</td><td>5e-08</td><td>GOES</td><td></td><td>cm</td><td></td><td></td><td>[{&apos;ref_name&apos;: &apos;XRT Flare Catalog&apos;, &apos;ref_type&apos;: &apos;url&apos;, &apos;ref_url&apos;: &apos;http://xrt.cfa.harvard.edu/flare_catalog/2017.html?search=161050&apos;}, {&apos;ref_name&apos;: &apos;FRM_URL&apos;, &apos;ref_type&apos;: &apos;unknown&apos;, &apos;ref_url&apos;: &apos;http://www.swpc.noaa.gov/&apos;}]</td><td></td><td>1</td><td>XRA</td><td>SWPC</td><td>GOES</td><td>GOES</td><td></td><td>None</td><td>None</td><td>None</td><td>None</td><td>2.46570900732839426</td></tr>\n",
       "<tr><td>SOL2017-09-09T07:17:00L045C090</td><td>true</td><td></td><td></td><td></td><td></td><td>12673</td><td>None</td><td></td><td>None</td><td></td><td>None</td><td>None</td><td>None</td><td>None</td><td></td><td>None</td><td>None</td><td>None</td><td></td><td>-89.9000015258789</td><td>89.9000015258789</td><td>-89.9000015258789</td><td>89.9000015258789</td><td></td><td>0</td><td>Flare</td><td>None</td><td>90</td><td>90</td><td></td><td></td><td>0</td><td>0</td><td>None</td><td>UTC-HGS-TOPO</td><td>degrees</td><td></td><td>2017-09-09T07:40:00</td><td></td><td>None</td><td></td><td></td><td></td><td>None</td><td>2017-09-09T07:27:00</td><td></td><td>None</td><td>0.430000000000000049</td><td>2017-09-09T07:17:00</td><td>false</td><td></td><td>FL</td><td>9</td><td>None</td><td></td><td>None</td><td></td><td>C1.5</td><td></td><td>None</td><td></td><td>None</td><td></td><td>None</td><td></td><td>SWPC.Webmaster@noaa.gov</td><td>2017-09-09T00:00:00</td><td>false</td><td>SWPC</td><td>U.S. Dept. of Commerce, NOAA, Space Weather Prediction Center</td><td>SWPC</td><td>SSWIDL get_gev, ..., ngdc=0</td><td></td><td>http://www.swpc.noaa.gov/</td><td>None</td><td></td><td></td><td></td><td></td><td>true</td><td>POLYGON((-44.671374 -89.9,135.128626 -89.9,135.128626 89.9,-44.671374 89.9,-44.671374 -89.9))</td><td></td><td>POINT(45.228626 0)</td><td>45.228626</td><td>0</td><td>POLYGON((-89.9 -89.9,89.9 -89.9,89.9 89.9,-89.9 89.9,-89.9 -89.9))</td><td></td><td>POINT(0 0)</td><td>0</td><td>0</td><td>POLYGON((-1.660656 -943.9821,1.660656 -943.9821,1.662757 945.08178,-1.662757 945.08178,-1.660656 -943.9821))</td><td></td><td>POINT(0 -120.70251)</td><td></td><td>120.702510000000004</td><td>0.0</td><td>-120.70251</td><td>180.0</td><td>POLYGON((0.991429 179.899205,0.991429 180.100795,0.992584 359.899195,0.992584 0.100805,0.991429 179.899205))</td><td></td><td>POINT(0.126769173008092 180)</td><td>0.126769173008092</td><td>None</td><td>None</td><td>None</td><td>None</td><td>None</td><td>None</td><td>None</td><td></td><td>None</td><td>2017-09-10T05:36:21</td><td>ivo://helio-informatics.org/FL_SWPC_20170910_053620_20170909071700</td><td>cheung_mark</td><td>true</td><td>XRA</td><td></td><td></td><td></td><td>GOES</td><td></td><td>None</td><td>5e-08</td><td>GOES</td><td></td><td>cm</td><td></td><td></td><td>[{&apos;ref_name&apos;: &apos;XRT Flare Catalog&apos;, &apos;ref_type&apos;: &apos;url&apos;, &apos;ref_url&apos;: &apos;http://xrt.cfa.harvard.edu/flare_catalog/2017.html?search=161060&apos;}, {&apos;ref_name&apos;: &apos;FRM_URL&apos;, &apos;ref_type&apos;: &apos;unknown&apos;, &apos;ref_url&apos;: &apos;http://www.swpc.noaa.gov/&apos;}]</td><td></td><td>1</td><td>XRA</td><td>SWPC</td><td>GOES</td><td>GOES</td><td></td><td>None</td><td>None</td><td>None</td><td>None</td><td>0</td></tr>\n",
       "<tr><td>SOL2017-09-09T10:50:00L043C090</td><td>true</td><td></td><td></td><td></td><td></td><td>12673</td><td>None</td><td></td><td>None</td><td></td><td>None</td><td>None</td><td>None</td><td>None</td><td></td><td>None</td><td>None</td><td>None</td><td></td><td>-89.9000015258789</td><td>89.9000015258789</td><td>-89.9000015258789</td><td>89.9000015258789</td><td></td><td>0</td><td>Flare</td><td>None</td><td>90</td><td>90</td><td></td><td></td><td>0</td><td>0</td><td>None</td><td>UTC-HGS-TOPO</td><td>degrees</td><td></td><td>2017-09-09T11:42:00</td><td></td><td>None</td><td></td><td></td><td></td><td>None</td><td>2017-09-09T11:04:00</td><td></td><td>None</td><td>0.673999999999999932</td><td>2017-09-09T10:50:00</td><td>false</td><td></td><td>FL</td><td>9</td><td>None</td><td></td><td>None</td><td></td><td>M3.7</td><td></td><td>None</td><td></td><td>None</td><td></td><td>None</td><td></td><td>SWPC.Webmaster@noaa.gov</td><td>2017-09-09T00:00:00</td><td>false</td><td>SWPC</td><td>U.S. Dept. of Commerce, NOAA, Space Weather Prediction Center</td><td>SWPC</td><td>SSWIDL get_gev, ..., ngdc=0</td><td></td><td>http://www.swpc.noaa.gov/</td><td>None</td><td></td><td></td><td></td><td></td><td>true</td><td>POLYGON((-46.624631 -89.9,133.175369 -89.9,133.175369 89.9,-46.624631 89.9,-46.624631 -89.9))</td><td></td><td>POINT(43.275369 0)</td><td>43.275369</td><td>0</td><td>POLYGON((-89.9 -89.9,89.9 -89.9,89.9 89.9,-89.9 89.9,-89.9 -89.9))</td><td></td><td>POINT(0 0)</td><td>0</td><td>0</td><td>POLYGON((-1.660718 -944.01786,1.660718 -944.01786,1.662818 945.11754,-1.662818 945.11754,-1.660718 -944.01786))</td><td></td><td>POINT(0 -120.70242)</td><td></td><td>120.702419999999989</td><td>0.0</td><td>-120.70242</td><td>180.0</td><td>POLYGON((0.99143 179.899205,0.99143 180.100795,0.992585 359.899195,0.992585 0.100805,0.99143 179.899205))</td><td></td><td>POINT(0.126764360155385 180)</td><td>0.126764360155385</td><td>None</td><td>None</td><td>None</td><td>None</td><td>None</td><td>None</td><td>None</td><td></td><td>None</td><td>2017-09-10T05:36:24</td><td>ivo://helio-informatics.org/FL_SWPC_20170910_053622_20170909105000</td><td>cheung_mark</td><td>true</td><td>XRA</td><td></td><td></td><td></td><td>GOES</td><td></td><td>None</td><td>5e-08</td><td>GOES</td><td></td><td>cm</td><td></td><td></td><td>[{&apos;ref_name&apos;: &apos;XRT Flare Catalog&apos;, &apos;ref_type&apos;: &apos;url&apos;, &apos;ref_url&apos;: &apos;http://xrt.cfa.harvard.edu/flare_catalog/2017.html?search=161070&apos;}, {&apos;ref_name&apos;: &apos;FRM_URL&apos;, &apos;ref_type&apos;: &apos;unknown&apos;, &apos;ref_url&apos;: &apos;http://www.swpc.noaa.gov/&apos;}]</td><td></td><td>1</td><td>XRA</td><td>SWPC</td><td>GOES</td><td>GOES</td><td></td><td>None</td><td>None</td><td>None</td><td>None</td><td>0</td></tr>\n",
       "<tr><td>SOL2017-09-09T14:49:00L041C090</td><td>true</td><td></td><td></td><td></td><td></td><td>12673</td><td>None</td><td></td><td>None</td><td></td><td>None</td><td>None</td><td>None</td><td>None</td><td></td><td>None</td><td>None</td><td>None</td><td></td><td>-89.9000015258789</td><td>89.9000015258789</td><td>-89.9000015258789</td><td>89.9000015258789</td><td></td><td>0</td><td>Flare</td><td>None</td><td>90</td><td>90</td><td></td><td></td><td>0</td><td>0</td><td>None</td><td>UTC-HGS-TOPO</td><td>degrees</td><td></td><td>2017-09-09T14:58:00</td><td></td><td>None</td><td></td><td></td><td></td><td>None</td><td>2017-09-09T14:53:00</td><td></td><td>None</td><td>0.428000000000000047</td><td>2017-09-09T14:49:00</td><td>false</td><td></td><td>FL</td><td>9</td><td>None</td><td></td><td>None</td><td></td><td>C1.4</td><td></td><td>None</td><td></td><td>None</td><td></td><td>None</td><td></td><td>SWPC.Webmaster@noaa.gov</td><td>2017-09-09T00:00:00</td><td>false</td><td>SWPC</td><td>U.S. Dept. of Commerce, NOAA, Space Weather Prediction Center</td><td>SWPC</td><td>SSWIDL get_gev, ..., ngdc=0</td><td></td><td>http://www.swpc.noaa.gov/</td><td>None</td><td></td><td></td><td></td><td></td><td>true</td><td>POLYGON((-48.816301 -89.9,130.983699 -89.9,130.983699 89.9,-48.816301 89.9,-48.816301 -89.9))</td><td></td><td>POINT(41.083699 0)</td><td>41.083699</td><td>0</td><td>POLYGON((-89.9 -89.9,89.9 -89.9,89.9 89.9,-89.9 89.9,-89.9 -89.9))</td><td></td><td>POINT(0 0)</td><td>0</td><td>0</td><td>POLYGON((-1.660788 -944.05806,1.660788 -944.05806,1.662888 945.1578,-1.662888 945.1578,-1.660788 -944.05806))</td><td></td><td>POINT(0 -120.701418)</td><td></td><td>120.701418000000004</td><td>0.0</td><td>-120.701418</td><td>180.0</td><td>POLYGON((0.991431 179.899205,0.991431 180.100795,0.992586 359.899195,0.992586 0.100805,0.991431 179.899205))</td><td></td><td>POINT(0.126758009494578 180)</td><td>0.126758009494578</td><td>None</td><td>None</td><td>None</td><td>None</td><td>None</td><td>None</td><td>None</td><td></td><td>None</td><td>2017-09-10T05:36:25</td><td>ivo://helio-informatics.org/FL_SWPC_20170910_053624_20170909144900</td><td>cheung_mark</td><td>true</td><td>XRA</td><td></td><td></td><td></td><td>GOES</td><td></td><td>None</td><td>5e-08</td><td>GOES</td><td></td><td>cm</td><td></td><td></td><td>[{&apos;ref_name&apos;: &apos;XRT Flare Catalog&apos;, &apos;ref_type&apos;: &apos;url&apos;, &apos;ref_url&apos;: &apos;http://xrt.cfa.harvard.edu/flare_catalog/2017.html?search=161080&apos;}, {&apos;ref_name&apos;: &apos;FRM_URL&apos;, &apos;ref_type&apos;: &apos;unknown&apos;, &apos;ref_url&apos;: &apos;http://www.swpc.noaa.gov/&apos;}]</td><td></td><td>1</td><td>XRA</td><td>SWPC</td><td>GOES</td><td>GOES</td><td></td><td>None</td><td>None</td><td>None</td><td>None</td><td>0</td></tr>\n",
       "<tr><td>SOL2017-09-09T16:20:00L118C098</td><td>true</td><td></td><td></td><td></td><td></td><td>12673</td><td>None</td><td></td><td>None</td><td></td><td>None</td><td>None</td><td>None</td><td>None</td><td></td><td>None</td><td>None</td><td>None</td><td></td><td>77.5</td><td>78.5</td><td>-8.5</td><td>-7.5</td><td></td><td>0</td><td>Flare</td><td>None</td><td>1</td><td>1</td><td></td><td></td><td>78</td><td>-8</td><td>None</td><td>UTC-HGS-TOPO</td><td>degrees</td><td></td><td>2017-09-09T16:40:00</td><td></td><td>None</td><td></td><td></td><td></td><td>None</td><td>2017-09-09T16:32:00</td><td></td><td>None</td><td>0.434000000000000052</td><td>2017-09-09T16:20:00</td><td>false</td><td></td><td>FL</td><td>9</td><td>None</td><td></td><td>None</td><td></td><td>C1.7</td><td></td><td>None</td><td></td><td>None</td><td></td><td>None</td><td></td><td>SWPC.Webmaster@noaa.gov</td><td>2017-09-09T00:00:00</td><td>false</td><td>SWPC</td><td>U.S. Dept. of Commerce, NOAA, Space Weather Prediction Center</td><td>SWPC</td><td>SSWIDL get_gev, ..., ngdc=0</td><td></td><td>http://www.swpc.noaa.gov/</td><td>None</td><td></td><td></td><td></td><td></td><td>true</td><td>POLYGON((117.749217 -8.5,118.749217 -8.5,118.749217 -7.5,117.749217 -7.5,117.749217 -8.5))</td><td></td><td>POINT(118.249217 -8)</td><td>118.249217</td><td>-8</td><td>POLYGON((77.5 -8.5,78.5 -8.5,78.5 -7.5,77.5 -7.5,77.5 -8.5))</td><td></td><td>POINT(78 -8)</td><td>78</td><td>-8</td><td>POLYGON((920.27448 -165.492522,923.62344 -163.449462,925.9032 -147.169896,922.54614 -149.216742,920.27448 -165.492522))</td><td></td><td>POINT(923.15724 -156.339072)</td><td>01030000000100000005000000FC8C0B0742EF8B40A9DF85ADD93267C0FC8C0B0742EF8B4052BF0B5BB3C55FC0FC8C0B0742C38D4052BF0B5BB3C55FC0FC8C0B0742C38D40A9DF85ADD93267C0FC8C0B0742EF8B40A9DF85ADD93267C0</td><td>936.301871833138421</td><td>923.15724</td><td>-156.339072</td><td>260.388010348434</td><td>POLYGON((0.981939 259.805488,0.985025 259.964524,0.984554 260.968537,0.981414 260.812293,0.981939 259.805488))</td><td></td><td>POINT(0.983268250094487 260.388010348434)</td><td>0.983268250094487</td><td>None</td><td>None</td><td>None</td><td>None</td><td>None</td><td>None</td><td>None</td><td></td><td>None</td><td>2017-09-10T05:36:27</td><td>ivo://helio-informatics.org/FL_SWPC_20170910_053625_20170909162000</td><td>cheung_mark</td><td>false</td><td>XRA</td><td></td><td></td><td></td><td>GOES</td><td></td><td>None</td><td>5e-08</td><td>GOES</td><td></td><td>cm</td><td></td><td></td><td>[{&apos;ref_name&apos;: &apos;XRT Flare Catalog&apos;, &apos;ref_type&apos;: &apos;url&apos;, &apos;ref_url&apos;: &apos;http://xrt.cfa.harvard.edu/flare_catalog/2017.html?search=161090&apos;}, {&apos;ref_name&apos;: &apos;FRM_URL&apos;, &apos;ref_type&apos;: &apos;unknown&apos;, &apos;ref_url&apos;: &apos;http://www.swpc.noaa.gov/&apos;}]</td><td></td><td>1</td><td>XRA</td><td>SWPC</td><td>GOES</td><td>GOES</td><td></td><td>None</td><td>None</td><td>None</td><td>None</td><td>1.01155001400439537</td></tr>\n",
       "<tr><td>SOL2017-09-09T19:09:00L038C090</td><td>true</td><td></td><td></td><td></td><td></td><td>12673</td><td>None</td><td></td><td>None</td><td></td><td>None</td><td>None</td><td>None</td><td>None</td><td></td><td>None</td><td>None</td><td>None</td><td></td><td>-89.9000015258789</td><td>89.9000015258789</td><td>-89.9000015258789</td><td>89.9000015258789</td><td></td><td>0</td><td>Flare</td><td>None</td><td>90</td><td>90</td><td></td><td></td><td>0</td><td>0</td><td>None</td><td>UTC-HGS-TOPO</td><td>degrees</td><td></td><td>2017-09-09T19:20:00</td><td></td><td>None</td><td></td><td></td><td></td><td>None</td><td>2017-09-09T19:15:00</td><td></td><td>None</td><td>0.436000000000000054</td><td>2017-09-09T19:09:00</td><td>false</td><td></td><td>FL</td><td>9</td><td>None</td><td></td><td>None</td><td></td><td>C1.8</td><td></td><td>None</td><td></td><td>None</td><td></td><td>None</td><td></td><td>SWPC.Webmaster@noaa.gov</td><td>2017-09-09T00:00:00</td><td>false</td><td>SWPC</td><td>U.S. Dept. of Commerce, NOAA, Space Weather Prediction Center</td><td>SWPC</td><td>SSWIDL get_gev, ..., ngdc=0</td><td></td><td>http://www.swpc.noaa.gov/</td><td>None</td><td></td><td></td><td></td><td></td><td>true</td><td>POLYGON((-51.200529 -89.9,128.599471 -89.9,128.599471 89.9,-51.200529 89.9,-51.200529 -89.9))</td><td></td><td>POINT(38.699471 0)</td><td>38.699471</td><td>0</td><td>POLYGON((-89.9 -89.9,89.9 -89.9,89.9 89.9,-89.9 89.9,-89.9 -89.9))</td><td></td><td>POINT(0 0)</td><td>0</td><td>0</td><td>POLYGON((-1.660863 -944.10204,1.660863 -944.10204,1.662964 945.20178,-1.662964 945.20178,-1.660863 -944.10204))</td><td></td><td>POINT(0 -120.699246)</td><td></td><td>120.699245999999988</td><td>0.0</td><td>-120.699246</td><td>180.0</td><td>POLYGON((0.991432 179.899205,0.991432 180.100795,0.992587 359.899195,0.992587 0.100805,0.991432 179.899205))</td><td></td><td>POINT(0.126749960848509 180)</td><td>0.126749960848509</td><td>None</td><td>None</td><td>None</td><td>None</td><td>None</td><td>None</td><td>None</td><td></td><td>None</td><td>2017-09-10T08:35:42</td><td>ivo://helio-informatics.org/FL_SWPC_20170910_053627_20170909190900</td><td>cheung_mark</td><td>true</td><td>XRA</td><td></td><td></td><td></td><td>GOES</td><td></td><td>None</td><td>5e-08</td><td>GOES</td><td></td><td>cm</td><td></td><td></td><td>[{&apos;ref_name&apos;: &apos;FRM_URL&apos;, &apos;ref_type&apos;: &apos;unknown&apos;, &apos;ref_url&apos;: &apos;http://www.swpc.noaa.gov/&apos;}]</td><td></td><td>2</td><td>XRA</td><td>SWPC</td><td>GOES</td><td>GOES</td><td></td><td>None</td><td>None</td><td>None</td><td>None</td><td>0</td></tr>\n",
       "<tr><td>SOL2017-09-09T21:00:00L037C090</td><td>true</td><td></td><td></td><td></td><td></td><td>12673</td><td>None</td><td></td><td>None</td><td></td><td>None</td><td>None</td><td>None</td><td>None</td><td></td><td>None</td><td>None</td><td>None</td><td></td><td>-89.9000015258789</td><td>89.9000015258789</td><td>-89.9000015258789</td><td>89.9000015258789</td><td></td><td>0</td><td>Flare</td><td>None</td><td>90</td><td>90</td><td></td><td></td><td>0</td><td>0</td><td>None</td><td>UTC-HGS-TOPO</td><td>degrees</td><td></td><td>2017-09-09T21:25:00</td><td></td><td>None</td><td></td><td></td><td></td><td>None</td><td>2017-09-09T21:11:00</td><td></td><td>None</td><td>0.493999999999999995</td><td>2017-09-09T21:00:00</td><td>false</td><td></td><td>FL</td><td>9</td><td>None</td><td></td><td>None</td><td></td><td>C4.7</td><td></td><td>None</td><td></td><td>None</td><td></td><td>None</td><td></td><td>SWPC.Webmaster@noaa.gov</td><td>2017-09-09T00:00:00</td><td>false</td><td>SWPC</td><td>U.S. Dept. of Commerce, NOAA, Space Weather Prediction Center</td><td>SWPC</td><td>SSWIDL get_gev, ..., ngdc=0</td><td></td><td>http://www.swpc.noaa.gov/</td><td>None</td><td></td><td></td><td></td><td></td><td>true</td><td>POLYGON((-52.218406 -89.9,127.581594 -89.9,127.581594 89.9,-52.218406 89.9,-52.218406 -89.9))</td><td></td><td>POINT(37.681594 0)</td><td>37.681594</td><td>0</td><td>POLYGON((-89.9 -89.9,89.9 -89.9,89.9 89.9,-89.9 89.9,-89.9 -89.9))</td><td></td><td>POINT(0 0)</td><td>0</td><td>0</td><td>POLYGON((-1.660896 -944.12082,1.660896 -944.12082,1.662996 945.22062,-1.662996 945.22062,-1.660896 -944.12082))</td><td></td><td>POINT(0 -120.697974)</td><td></td><td>120.697974000000002</td><td>0.0</td><td>-120.697974</td><td>180.0</td><td>POLYGON((0.991432 179.899205,0.991432 180.100795,0.992587 359.899195,0.992587 0.100805,0.991432 179.899205))</td><td></td><td>POINT(0.126746161401292 180)</td><td>0.126746161401292</td><td>None</td><td>None</td><td>None</td><td>None</td><td>None</td><td>None</td><td>None</td><td></td><td>None</td><td>2017-09-10T08:35:44</td><td>ivo://helio-informatics.org/FL_SWPC_20170910_053628_20170909210000</td><td>cheung_mark</td><td>true</td><td>XRA</td><td></td><td></td><td></td><td>GOES</td><td></td><td>None</td><td>5e-08</td><td>GOES</td><td></td><td>cm</td><td></td><td></td><td>[{&apos;ref_name&apos;: &apos;XRT Flare Catalog&apos;, &apos;ref_type&apos;: &apos;url&apos;, &apos;ref_url&apos;: &apos;http://xrt.cfa.harvard.edu/flare_catalog/2017.html?search=161110&apos;}, {&apos;ref_name&apos;: &apos;FRM_URL&apos;, &apos;ref_type&apos;: &apos;unknown&apos;, &apos;ref_url&apos;: &apos;http://www.swpc.noaa.gov/&apos;}]</td><td></td><td>2</td><td>XRA</td><td>SWPC</td><td>GOES</td><td>GOES</td><td></td><td>None</td><td>None</td><td>None</td><td>None</td><td>0</td></tr>\n",
       "<tr><td>SOL2017-09-09T22:04:00L111C097</td><td>true</td><td></td><td></td><td></td><td></td><td>12673</td><td>None</td><td></td><td>None</td><td></td><td>None</td><td>None</td><td>None</td><td>None</td><td></td><td>None</td><td>None</td><td>None</td><td></td><td>73.5</td><td>74.5</td><td>-7.5</td><td>-6.5</td><td></td><td>0</td><td>Flare</td><td>None</td><td>1</td><td>1</td><td></td><td></td><td>74</td><td>-7</td><td>None</td><td>UTC-HGS-TOPO</td><td>degrees</td><td></td><td>2017-09-10T00:41:00</td><td></td><td>None</td><td></td><td></td><td></td><td>None</td><td>2017-09-09T23:53:00</td><td></td><td>None</td><td>0.621999999999999997</td><td>2017-09-09T22:04:00</td><td>false</td><td></td><td>FL</td><td>9</td><td>None</td><td></td><td>None</td><td></td><td>M1.1</td><td></td><td>None</td><td></td><td>None</td><td></td><td>None</td><td></td><td>SWPC.Webmaster@noaa.gov</td><td>2017-09-09T00:00:00</td><td>false</td><td>SWPC</td><td>U.S. Dept. of Commerce, NOAA, Space Weather Prediction Center</td><td>SWPC</td><td>SSWIDL get_gev, ..., ngdc=0</td><td></td><td>http://www.swpc.noaa.gov/</td><td>None</td><td></td><td></td><td></td><td></td><td>true</td><td>POLYGON((110.594711 -7.5,111.594711 -7.5,111.594711 -6.5,110.594711 -6.5,110.594711 -7.5))</td><td></td><td>POINT(111.094711 -7)</td><td>111.094711</td><td>-7</td><td>POLYGON((73.5 -7.5,74.5 -7.5,74.5 -6.5,73.5 -6.5,73.5 -7.5))</td><td></td><td>POINT(74 -7)</td><td>74</td><td>-7</td><td>POLYGON((906.36528 -157.32858,910.84326 -155.315892,912.80892 -139.00257,908.3214 -141.018354,906.36528 -157.32858))</td><td></td><td>POINT(909.65412 -148.17327)</td><td>01030000000100000005000000140A117008BA8A40E5B8533A585269C0140A117008BA8A40963E74417D7157C07A7077D66E208E40963E74417D7157C07A7077D66E208E40E5B8533A585269C0140A117008BA8A40E5B8533A585269C0</td><td>921.643063216702899</td><td>909.65412</td><td>-148.17327</td><td>260.748362393886</td><td>POLYGON((0.966005 260.152612,0.970281 260.323068,0.969589 261.341516,0.965253 261.17519,0.966005 260.152612))</td><td></td><td>POINT(0.967815833941886 260.748362393886)</td><td>0.967815833941886</td><td>None</td><td>None</td><td>None</td><td>None</td><td>None</td><td>None</td><td>None</td><td></td><td>None</td><td>2017-09-10T08:35:45</td><td>ivo://helio-informatics.org/FL_SWPC_20170910_083544_20170909220400</td><td>cheung_mark</td><td>false</td><td>XRA</td><td></td><td></td><td></td><td>GOES</td><td></td><td>None</td><td>5e-08</td><td>GOES</td><td></td><td>cm</td><td></td><td></td><td>[{&apos;ref_name&apos;: &apos;XRT Flare Catalog&apos;, &apos;ref_type&apos;: &apos;url&apos;, &apos;ref_url&apos;: &apos;http://xrt.cfa.harvard.edu/flare_catalog/2017.html?search=161120&apos;}, {&apos;ref_name&apos;: &apos;FRM_URL&apos;, &apos;ref_type&apos;: &apos;unknown&apos;, &apos;ref_url&apos;: &apos;http://www.swpc.noaa.gov/&apos;}]</td><td></td><td>1</td><td>XRA</td><td>SWPC</td><td>GOES</td><td>GOES</td><td></td><td>None</td><td>None</td><td>None</td><td>None</td><td>0.737399937375037395</td></tr>\n",
       "</table></br>"
      ],
      "text/plain": [
       "<sunpy.net.fido_factory.UnifiedResponse object at 0x125a87670>\n",
       "Results from 1 Provider:\n",
       "\n",
       "13 Results from the HEKClient:\n",
       "         SOL_standard          active ... skel_startc2  sum_overlap_scores \n",
       "------------------------------ ------ ... ------------ --------------------\n",
       "SOL2017-09-09T00:36:00L048C090   true ...         None                    0\n",
       "SOL2017-09-09T03:02:00L116C101   true ...         None  1.09118950225822164\n",
       "SOL2017-09-09T03:57:00L047C090   true ...         None                    0\n",
       "SOL2017-09-09T04:14:00L115C103   true ...         None 0.894697813068028203\n",
       "SOL2017-09-09T06:23:00L115C100   true ...         None  2.49056990955660584\n",
       "SOL2017-09-09T06:51:00L115C100   true ...         None  2.46570900732839426\n",
       "SOL2017-09-09T07:17:00L045C090   true ...         None                    0\n",
       "SOL2017-09-09T10:50:00L043C090   true ...         None                    0\n",
       "SOL2017-09-09T14:49:00L041C090   true ...         None                    0\n",
       "SOL2017-09-09T16:20:00L118C098   true ...         None  1.01155001400439537\n",
       "SOL2017-09-09T19:09:00L038C090   true ...         None                    0\n",
       "SOL2017-09-09T21:00:00L037C090   true ...         None                    0\n",
       "SOL2017-09-09T22:04:00L111C097   true ...         None 0.737399937375037395\n"
      ]
     },
     "execution_count": 108,
     "metadata": {},
     "output_type": "execute_result"
    }
   ],
   "source": [
    "result3"
   ]
  },
  {
   "cell_type": "code",
   "execution_count": 89,
   "metadata": {},
   "outputs": [],
   "source": [
    "result2 = Fido.search(a.Time(tstart, tend),\n",
    "                       hek.attrs.EventType('FL'),\n",
    "                       hek.attrs.FRM.Name=='SSW Latest Events')"
   ]
  },
  {
   "cell_type": "code",
   "execution_count": 90,
   "metadata": {},
   "outputs": [
    {
     "data": {
      "text/html": [
       "<i>Table length=10</i>\n",
       "<table id=\"table5002385200\" class=\"table-striped table-bordered table-condensed\">\n",
       "<thead><tr><th>event_starttime</th><th>event_peaktime</th><th>event_endtime</th><th>fl_goescls</th><th>ar_noaanum</th></tr></thead>\n",
       "<thead><tr><th>str19</th><th>str19</th><th>str19</th><th>str4</th><th>int64</th></tr></thead>\n",
       "<tr><td>2020-12-06T10:47:00</td><td>2020-12-06T11:06:00</td><td>2020-12-06T11:42:00</td><td>B3.3</td><td>2790</td></tr>\n",
       "<tr><td>2020-12-06T13:18:00</td><td>2020-12-06T13:27:00</td><td>2020-12-06T13:36:00</td><td>C1.6</td><td>2790</td></tr>\n",
       "<tr><td>2020-12-06T23:32:00</td><td>2020-12-06T23:42:00</td><td>2020-12-06T23:49:00</td><td>B8.3</td><td>2790</td></tr>\n",
       "<tr><td>2020-12-07T01:09:00</td><td>2020-12-07T01:13:00</td><td>2020-12-07T01:18:00</td><td>B3.5</td><td>2791</td></tr>\n",
       "<tr><td>2020-12-07T01:20:00</td><td>2020-12-07T01:24:00</td><td>2020-12-07T01:28:00</td><td>B3.8</td><td>2790</td></tr>\n",
       "<tr><td>2020-12-07T02:56:00</td><td>2020-12-07T03:03:00</td><td>2020-12-07T03:09:00</td><td>B3.6</td><td>2791</td></tr>\n",
       "<tr><td>2020-12-07T09:51:00</td><td>2020-12-07T09:55:00</td><td>2020-12-07T09:59:00</td><td>B5.4</td><td>2790</td></tr>\n",
       "<tr><td>2020-12-07T14:29:00</td><td>2020-12-07T14:38:00</td><td>2020-12-07T14:57:00</td><td>B6.0</td><td>2790</td></tr>\n",
       "<tr><td>2020-12-07T15:46:00</td><td>2020-12-07T16:32:00</td><td>2020-12-07T17:15:00</td><td>C7.4</td><td>2790</td></tr>\n",
       "<tr><td>2020-12-08T21:41:00</td><td>2020-12-08T21:54:00</td><td>2020-12-08T22:10:00</td><td>B1.6</td><td>2791</td></tr>\n",
       "</table>"
      ],
      "text/plain": [
       "<Table length=10>\n",
       "  event_starttime      event_peaktime   ... fl_goescls ar_noaanum\n",
       "       str19               str19        ...    str4      int64   \n",
       "------------------- ------------------- ... ---------- ----------\n",
       "2020-12-06T10:47:00 2020-12-06T11:06:00 ...       B3.3       2790\n",
       "2020-12-06T13:18:00 2020-12-06T13:27:00 ...       C1.6       2790\n",
       "2020-12-06T23:32:00 2020-12-06T23:42:00 ...       B8.3       2790\n",
       "2020-12-07T01:09:00 2020-12-07T01:13:00 ...       B3.5       2791\n",
       "2020-12-07T01:20:00 2020-12-07T01:24:00 ...       B3.8       2790\n",
       "2020-12-07T02:56:00 2020-12-07T03:03:00 ...       B3.6       2791\n",
       "2020-12-07T09:51:00 2020-12-07T09:55:00 ...       B5.4       2790\n",
       "2020-12-07T14:29:00 2020-12-07T14:38:00 ...       B6.0       2790\n",
       "2020-12-07T15:46:00 2020-12-07T16:32:00 ...       C7.4       2790\n",
       "2020-12-08T21:41:00 2020-12-08T21:54:00 ...       B1.6       2791"
      ]
     },
     "execution_count": 90,
     "metadata": {},
     "output_type": "execute_result"
    }
   ],
   "source": [
    "result2[0].table['event_starttime', 'event_peaktime',\n",
    "                           'event_endtime', 'fl_goescls', 'ar_noaanum']"
   ]
  },
  {
   "cell_type": "code",
   "execution_count": 94,
   "metadata": {},
   "outputs": [],
   "source": [
    "import h5netcdf"
   ]
  },
  {
   "cell_type": "code",
   "execution_count": 96,
   "metadata": {},
   "outputs": [],
   "source": [
    "aa =h5netcdf.File(\"/Users/lahayes/sci_xrsf-l2-flsum_g16_d20170910_v2-0-1.nc\")"
   ]
  },
  {
   "cell_type": "code",
   "execution_count": 97,
   "metadata": {},
   "outputs": [
    {
     "data": {
      "text/plain": [
       "['xrsb_flux',\n",
       " 'status',\n",
       " 'time',\n",
       " 'background_flux',\n",
       " 'flare_class',\n",
       " 'integrated_flux',\n",
       " 'flare_counter']"
      ]
     },
     "execution_count": 97,
     "metadata": {},
     "output_type": "execute_result"
    }
   ],
   "source": [
    "list(aa.variables)"
   ]
  },
  {
   "cell_type": "code",
   "execution_count": 105,
   "metadata": {},
   "outputs": [
    {
     "data": {
      "text/plain": [
       "<h5netcdf.File 'sci_xrsf-l2-flsum_g16_d20170910_v2-0-1.nc' (mode r+)>\n",
       "Dimensions:\n",
       "    time: Unlimited (current: 37)\n",
       "Groups:\n",
       "Variables:\n",
       "    xrsb_flux: ('time',) float32\n",
       "    status: ('time',) object\n",
       "    time: ('time',) float64\n",
       "    background_flux: ('time',) float32\n",
       "    flare_class: ('time',) object\n",
       "    integrated_flux: ('time',) float32\n",
       "    flare_counter: ('time',) int32\n",
       "Attributes:\n",
       "    Conventions: b'ACDD-1.3, Spase v2.2.6'\n",
       "    title: b'L2 XRS flare detection summary'\n",
       "    summary: b'The EXIS X-Ray Sensor (XRS) measures in a short wavelength channel (XRS-A) between 0.05 and 0.4 nm and in a longer wavelength channel (XRS-B) between 0.1 and 0.8 nm. The product consists of 1 event status flag for the XRS-B channel derived from the 1 minute average fluxes as well as auxiliary data. A product is produced for four key flare events: start, peak, end, and post event.  The corresponding auxiliary data is pre-flare flux background (W/m2) for event start, flare type (e.g., B5.2) for event peak, and integrated flux (W/m2) for flare end. There is no auxiliary data for post event status. '\n",
       "    keywords: b'NumericalData.ObservedRegion.Earth.Magnetosphere, NumericalData.MeasurementType.Irradiance'\n",
       "    keywords_vocabulary: b'SPASE: Space Physics Archive Search and Extract Data Model version 2.2.6, GCMD: NASA Global Change Master Directory (GCMD) Earth Science Keywords version 8.5'\n",
       "    naming_authority: b'gov.nesdis.noaa'\n",
       "    history: b'See algorithm information.'\n",
       "    source: b'GOES-R EXIS/XRS L2'\n",
       "    processing_level: b'Level 2'\n",
       "    processing_level_description: b'Derived products'\n",
       "    license: b'These data may be redistributed and used without restriction. '\n",
       "    acknowledgment: b'NOAA Proposal GOESR3_213'\n",
       "    metadata_link: b''\n",
       "    creator_name: b'Janet Machol'\n",
       "    creator_type: b'person'\n",
       "    creator_institution: b'DOC/NOAA/NCEI/CCOG/STP'\n",
       "    creator_email: b'goesr.exis@noaa.gov'\n",
       "    creator_url: b'https://www.ncei.noaa.gov/'\n",
       "    institution: b'DOC/NOAA/NESDIS> U.S. Department of Commerce, National Oceanic and Atmospheric Administration, National Environmental Satellite, Data, and Information Services'\n",
       "    publisher_name: b'National Centers for Environmental Information'\n",
       "    publisher_type: b'institution'\n",
       "    publisher_institution: b'DOC/NOAA/NESDIS/NCEI'\n",
       "    publisher_email: b'goesr.exis@noaa.gov'\n",
       "    publisher_url: b'https://www.ncei.noaa.gov/'\n",
       "    references: b'GOES-R XRS.07 Algorithm Theoretical Basis Document'\n",
       "    instrument: b'GOES R Series Extreme Ultraviolet Sensor and X-ray Irradiance Sensors (EXIS)'\n",
       "    program: b'Geostationary Operational Environmental Satellite, R-Series (GOES-R)'\n",
       "    project: b'Geostationary Operational Environmental Satellite R-Series (GOES-R) Core Ground Segment, Satellite Product Analysis and Distribution System (SPADES)'\n",
       "    comment: b'Status is given at true time of event. '\n",
       "    time_coverage_resolution: b'PT1M'\n",
       "    processing_parameters_file: b' '\n",
       "    algorithm_parameters: b'None'\n",
       "    id: b'sci_xrsf-l2-flsum_g16_d20170910_v2-0-1.nc'\n",
       "    date_created: b'2020-06-22T19:00:23.103Z'\n",
       "    instrument_id: b'FM1'\n",
       "    orbital_slot: b'GOES-Test'\n",
       "    platform: b'g16'\n",
       "    L1b_system_environment: b'SCI'\n",
       "    L1b_production_site: b'NCEI Boulder'\n",
       "    time_coverage_start: b'2017-09-10T00:00:00.000Z'\n",
       "    time_coverage_end: b'2017-09-11T00:00:00.000Z'\n",
       "    algorithm: b'cli-xrs07_events'\n",
       "    algorithm_version: array([1, 1])\n",
       "    algorithm_date: b'2020-06-08'\n",
       "    input_system_environments: b'sci'\n",
       "    input_files_first: b'sci_xrsf-l2-avg1m_g16_d20170910_v2-0-1.nc'\n",
       "    input_files_last: b'sci_xrsf-l2-avg1m_g16_d20170910_v2-0-1.nc'\n",
       "    input_files_total: array([1])"
      ]
     },
     "execution_count": 105,
     "metadata": {},
     "output_type": "execute_result"
    }
   ],
   "source": [
    "aa"
   ]
  },
  {
   "cell_type": "code",
   "execution_count": null,
   "metadata": {},
   "outputs": [],
   "source": []
  }
 ],
 "metadata": {
  "kernelspec": {
   "display_name": "Python 3",
   "language": "python",
   "name": "python3"
  },
  "language_info": {
   "codemirror_mode": {
    "name": "ipython",
    "version": 3
   },
   "file_extension": ".py",
   "mimetype": "text/x-python",
   "name": "python",
   "nbconvert_exporter": "python",
   "pygments_lexer": "ipython3",
   "version": "3.8.3"
  }
 },
 "nbformat": 4,
 "nbformat_minor": 4
}
